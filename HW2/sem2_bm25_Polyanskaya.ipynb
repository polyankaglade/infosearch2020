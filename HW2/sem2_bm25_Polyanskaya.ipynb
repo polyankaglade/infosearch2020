{
 "cells": [
  {
   "cell_type": "markdown",
   "metadata": {},
   "source": [
    "## Лекция 2  BM5    "
   ]
  },
  {
   "cell_type": "markdown",
   "metadata": {},
   "source": [
    "### TfidfVectorizer"
   ]
  },
  {
   "cell_type": "markdown",
   "metadata": {},
   "source": [
    " "
   ]
  },
  {
   "cell_type": "code",
   "execution_count": 175,
   "metadata": {},
   "outputs": [],
   "source": [
    "from sklearn.feature_extraction.text import TfidfVectorizer\n",
    "import numpy as np\n",
    " \n",
    "# инициализируем\n",
    "vectorizer = TfidfVectorizer()\n",
    "\n",
    "# составляем корпус документов\n",
    "corpus = [\n",
    "  'слово1 слово2 слово3',\n",
    "  'слово2 слово3',\n",
    "  'слово1 слово2 слово1',\n",
    "  'слово4'\n",
    "]\n",
    "\n",
    "# считаем\n",
    "X = vectorizer.fit_transform(corpus)\n",
    " \n",
    "# получится следующая структура:\n",
    "#        |  слово1  |  слово2  |  слово3  |  слово4\n",
    "# текст1 |   0.6    |    0.5   |   0.6    |    0\n",
    "# текст2 |   0      |    0.6   |   0.8    |    0\n",
    "# текст3 |   0.9    |    0.4   |   0      |    0\n",
    "# текст4 |   0      |    0     |   0      |    1\n",
    " \n",
    "# чтобы получить сгенерированный словарь, из приведенной структуры TfidfVectorizer\n",
    "# порядок совпадает с матрицей\n",
    "vectorizer.get_feature_names()  # ['слово1', 'слово2', 'слово3', 'слово4']\n",
    " \n",
    "# чтобы узнать индекс токена в словаре\n",
    "vectorizer.vocabulary_.get('слово3') # вернет 2\n",
    " \n",
    "# показать матрицу\n",
    "X.toarray()\n",
    " \n",
    "# теперь можно быстро подсчитать вектор для нового документа\n",
    "new_doc = vectorizer.transform(['слово1 слово4 слово4']).toarray()  # результат [[0.36673901, 0, 0, 0.93032387]]"
   ]
  },
  {
   "cell_type": "code",
   "execution_count": 176,
   "metadata": {},
   "outputs": [],
   "source": [
    " import pandas as pd"
   ]
  },
  {
   "cell_type": "code",
   "execution_count": 177,
   "metadata": {},
   "outputs": [],
   "source": [
    "answers_data = pd.read_excel(\"answers_base.xlsx\")\n",
    "queries_data = pd.read_excel(\"queries_base.xlsx\")"
   ]
  },
  {
   "cell_type": "code",
   "execution_count": 178,
   "metadata": {},
   "outputs": [
    {
     "data": {
      "text/html": [
       "<div>\n",
       "<style scoped>\n",
       "    .dataframe tbody tr th:only-of-type {\n",
       "        vertical-align: middle;\n",
       "    }\n",
       "\n",
       "    .dataframe tbody tr th {\n",
       "        vertical-align: top;\n",
       "    }\n",
       "\n",
       "    .dataframe thead th {\n",
       "        text-align: right;\n",
       "    }\n",
       "</style>\n",
       "<table border=\"1\" class=\"dataframe\">\n",
       "  <thead>\n",
       "    <tr style=\"text-align: right;\">\n",
       "      <th></th>\n",
       "      <th>Номер связки</th>\n",
       "      <th>Текст вопросов</th>\n",
       "      <th>Текст ответа</th>\n",
       "      <th>Тематика</th>\n",
       "    </tr>\n",
       "  </thead>\n",
       "  <tbody>\n",
       "    <tr>\n",
       "      <th>0</th>\n",
       "      <td>57</td>\n",
       "      <td>У ребенка в школе продлили каникулы. Могу ли я...</td>\n",
       "      <td>Листок временной нетрудоспособности (больничны...</td>\n",
       "      <td>БОЛЬНИЧНЫЙ ЛИСТ</td>\n",
       "    </tr>\n",
       "    <tr>\n",
       "      <th>1</th>\n",
       "      <td>78</td>\n",
       "      <td>Где сделать вакцинацию от коронавируса?\\nСущес...</td>\n",
       "      <td>Коронавирусы - это целое семейство вирусов, ко...</td>\n",
       "      <td>ВАКЦИНАЦИЯ</td>\n",
       "    </tr>\n",
       "    <tr>\n",
       "      <th>2</th>\n",
       "      <td>326</td>\n",
       "      <td>Сколько стоит сделать вакцину от гриппа?\\nМожн...</td>\n",
       "      <td>Бесплатно пройти вакцинацию можно в Вашей меди...</td>\n",
       "      <td>ВАКЦИНАЦИЯ</td>\n",
       "    </tr>\n",
       "    <tr>\n",
       "      <th>3</th>\n",
       "      <td>327</td>\n",
       "      <td>Могу я отказаться от вакцинации?\\nВ каких случ...</td>\n",
       "      <td>Согласно приказу Министерства здравоохранения ...</td>\n",
       "      <td>ВАКЦИНАЦИЯ</td>\n",
       "    </tr>\n",
       "    <tr>\n",
       "      <th>4</th>\n",
       "      <td>328</td>\n",
       "      <td>Безопасна ли вакцинация?\\nОпасна ли вакцинация...</td>\n",
       "      <td>В соответствии с пунктами 1 и 2 статьи 12 Феде...</td>\n",
       "      <td>ВАКЦИНАЦИЯ</td>\n",
       "    </tr>\n",
       "  </tbody>\n",
       "</table>\n",
       "</div>"
      ],
      "text/plain": [
       "   Номер связки                                     Текст вопросов  \\\n",
       "0            57  У ребенка в школе продлили каникулы. Могу ли я...   \n",
       "1            78  Где сделать вакцинацию от коронавируса?\\nСущес...   \n",
       "2           326  Сколько стоит сделать вакцину от гриппа?\\nМожн...   \n",
       "3           327  Могу я отказаться от вакцинации?\\nВ каких случ...   \n",
       "4           328  Безопасна ли вакцинация?\\nОпасна ли вакцинация...   \n",
       "\n",
       "                                        Текст ответа         Тематика  \n",
       "0  Листок временной нетрудоспособности (больничны...  БОЛЬНИЧНЫЙ ЛИСТ  \n",
       "1  Коронавирусы - это целое семейство вирусов, ко...       ВАКЦИНАЦИЯ  \n",
       "2  Бесплатно пройти вакцинацию можно в Вашей меди...       ВАКЦИНАЦИЯ  \n",
       "3  Согласно приказу Министерства здравоохранения ...       ВАКЦИНАЦИЯ  \n",
       "4  В соответствии с пунктами 1 и 2 статьи 12 Феде...       ВАКЦИНАЦИЯ  "
      ]
     },
     "execution_count": 178,
     "metadata": {},
     "output_type": "execute_result"
    }
   ],
   "source": [
    "answers_data.head()"
   ]
  },
  {
   "cell_type": "code",
   "execution_count": 180,
   "metadata": {},
   "outputs": [
    {
     "data": {
      "text/html": [
       "<div>\n",
       "<style scoped>\n",
       "    .dataframe tbody tr th:only-of-type {\n",
       "        vertical-align: middle;\n",
       "    }\n",
       "\n",
       "    .dataframe tbody tr th {\n",
       "        vertical-align: top;\n",
       "    }\n",
       "\n",
       "    .dataframe thead th {\n",
       "        text-align: right;\n",
       "    }\n",
       "</style>\n",
       "<table border=\"1\" class=\"dataframe\">\n",
       "  <thead>\n",
       "    <tr style=\"text-align: right;\">\n",
       "      <th></th>\n",
       "      <th>Текст вопроса</th>\n",
       "      <th>Номер связки</th>\n",
       "      <th>Тематика</th>\n",
       "    </tr>\n",
       "  </thead>\n",
       "  <tbody>\n",
       "    <tr>\n",
       "      <th>0</th>\n",
       "      <td>с уважением Вероника Игоревна  Ильич\\n\\nПосле ...</td>\n",
       "      <td>308.0</td>\n",
       "      <td>ЗАКРЫТИЕ ГРАНИЦ, ОТКРЫТИЕ ГРАНИЦ РОССИИ И АВИА...</td>\n",
       "    </tr>\n",
       "    <tr>\n",
       "      <th>1</th>\n",
       "      <td>Здравствуйте! Проинформируйте, пожалуйста, нуж...</td>\n",
       "      <td>324.0</td>\n",
       "      <td>ОРГАНИЗАЦИИ ОТДЫХА ДЕТЕЙ И ИХ ЗДОРОВЛЕНИЯ</td>\n",
       "    </tr>\n",
       "    <tr>\n",
       "      <th>2</th>\n",
       "      <td>--\\nДобрый день!\\n   Меня, Сидельникова Андрея...</td>\n",
       "      <td>57.0</td>\n",
       "      <td>БОЛЬНИЧНЫЙ ЛИСТ</td>\n",
       "    </tr>\n",
       "    <tr>\n",
       "      <th>3</th>\n",
       "      <td>Добрый день.\\nВ Кемеровской области согласно п...</td>\n",
       "      <td>45.0</td>\n",
       "      <td>ШТРАФЫ, НОРМАТИВНЫЕ АКТЫ И РЕКОМЕНДАЦИИ</td>\n",
       "    </tr>\n",
       "    <tr>\n",
       "      <th>4</th>\n",
       "      <td>Здравствуйте, в моем городе Кострома введено о...</td>\n",
       "      <td>3.0</td>\n",
       "      <td>ШТРАФЫ, НОРМАТИВНЫЕ АКТЫ И РЕКОМЕНДАЦИИ</td>\n",
       "    </tr>\n",
       "  </tbody>\n",
       "</table>\n",
       "</div>"
      ],
      "text/plain": [
       "                                       Текст вопроса  Номер связки\\n  \\\n",
       "0  с уважением Вероника Игоревна  Ильич\\n\\nПосле ...           308.0   \n",
       "1  Здравствуйте! Проинформируйте, пожалуйста, нуж...           324.0   \n",
       "2  --\\nДобрый день!\\n   Меня, Сидельникова Андрея...            57.0   \n",
       "3  Добрый день.\\nВ Кемеровской области согласно п...            45.0   \n",
       "4  Здравствуйте, в моем городе Кострома введено о...             3.0   \n",
       "\n",
       "                                           Тематика   \n",
       "0  ЗАКРЫТИЕ ГРАНИЦ, ОТКРЫТИЕ ГРАНИЦ РОССИИ И АВИА...  \n",
       "1          ОРГАНИЗАЦИИ ОТДЫХА ДЕТЕЙ И ИХ ЗДОРОВЛЕНИЯ  \n",
       "2                                    БОЛЬНИЧНЫЙ ЛИСТ  \n",
       "3            ШТРАФЫ, НОРМАТИВНЫЕ АКТЫ И РЕКОМЕНДАЦИИ  \n",
       "4            ШТРАФЫ, НОРМАТИВНЫЕ АКТЫ И РЕКОМЕНДАЦИИ  "
      ]
     },
     "execution_count": 180,
     "metadata": {},
     "output_type": "execute_result"
    }
   ],
   "source": [
    "queries_data = queries_data.drop(columns=[\"Unnamed: 3\", \"Unnamed: 4\"])\n",
    "queries_data.head()"
   ]
  },
  {
   "cell_type": "code",
   "execution_count": 183,
   "metadata": {},
   "outputs": [],
   "source": [
    "import re\n",
    "from razdel import tokenize\n",
    "from nltk.corpus import stopwords\n",
    "stops = stopwords.words(\"russian\")"
   ]
  },
  {
   "cell_type": "code",
   "execution_count": 184,
   "metadata": {},
   "outputs": [
    {
     "name": "stdout",
     "output_type": "stream",
     "text": [
      "['и', 'в', 'во', 'не', 'что', 'он', 'на', 'я', 'с', 'со', 'как', 'а', 'то', 'все', 'она', 'так', 'его', 'но', 'да', 'ты', 'к', 'у', 'же', 'вы', 'за', 'бы', 'по', 'только', 'ее', 'мне', 'было', 'вот', 'от', 'меня', 'еще', 'нет', 'о', 'из', 'ему', 'теперь', 'когда', 'даже', 'ну', 'вдруг', 'ли', 'если', 'уже', 'или', 'ни', 'быть', 'был', 'него', 'до', 'вас', 'нибудь', 'опять', 'уж', 'вам', 'ведь', 'там', 'потом', 'себя', 'ничего', 'ей', 'может', 'они', 'тут', 'где', 'есть', 'надо', 'ней', 'для', 'мы', 'тебя', 'их', 'чем', 'была', 'сам', 'чтоб', 'без', 'будто', 'чего', 'раз', 'тоже', 'себе', 'под', 'будет', 'ж', 'тогда', 'кто', 'этот', 'того', 'потому', 'этого', 'какой', 'совсем', 'ним', 'здесь', 'этом', 'один', 'почти', 'мой', 'тем', 'чтобы', 'нее', 'сейчас', 'были', 'куда', 'зачем', 'всех', 'никогда', 'можно', 'при', 'наконец', 'два', 'об', 'другой', 'хоть', 'после', 'над', 'больше', 'тот', 'через', 'эти', 'нас', 'про', 'всего', 'них', 'какая', 'много', 'разве', 'три', 'эту', 'моя', 'впрочем', 'хорошо', 'свою', 'этой', 'перед', 'иногда', 'лучше', 'чуть', 'том', 'нельзя', 'такой', 'им', 'более', 'всегда', 'конечно', 'всю', 'между', 'здравствуйте', 'добрый', 'день']\n"
     ]
    }
   ],
   "source": [
    "stops.extend(['здравствуйте', 'добрый', 'день'])\n",
    "print(stops)"
   ]
  },
  {
   "cell_type": "code",
   "execution_count": 185,
   "metadata": {},
   "outputs": [],
   "source": [
    "def tokenizer(text_data):\n",
    "    tokens = [_.text for _ in list(tokenize(str(text_data).lower())) if not re.search('[^а-яА-ЯёЁa-zA-z]', _.text)]\n",
    "    return \" \".join(tokens)"
   ]
  },
  {
   "cell_type": "code",
   "execution_count": 186,
   "metadata": {},
   "outputs": [],
   "source": [
    "from pymorphy2 import MorphAnalyzer\n",
    "morph = MorphAnalyzer()"
   ]
  },
  {
   "cell_type": "code",
   "execution_count": 187,
   "metadata": {},
   "outputs": [],
   "source": [
    "def lemmatizer(tokens):\n",
    "    lem_text = []\n",
    "    for word in tokens.split(\" \"):\n",
    "        lem = morph.parse(word)[0].normal_form\n",
    "        if lem not in stops:\n",
    "            lem_text.append(lem)\n",
    "    return ' '.join(lem_text)"
   ]
  },
  {
   "cell_type": "code",
   "execution_count": 188,
   "metadata": {},
   "outputs": [],
   "source": [
    "from tqdm.auto import tqdm\n",
    "tqdm.pandas()"
   ]
  },
  {
   "cell_type": "code",
   "execution_count": 189,
   "metadata": {},
   "outputs": [
    {
     "name": "stdout",
     "output_type": "stream",
     "text": [
      "Добрый день.\n",
      "В Кемеровской области согласно постановлению Администрации необходимо организовать изолятор для временного содержания больного сотрудника до передачи его в скорую. Планируем организовать изолятор в помещении раздевалки, отгородив часть помещения пленкой от пола до потолка. Разрешается ли такое, так как место ограничено и свободных помещений нет. \n",
      "\n",
      "Отправлено с iPhone\n",
      " \n",
      "=====\n",
      "\n",
      "добрый день в кемеровской области согласно постановлению администрации необходимо организовать изолятор для временного содержания больного сотрудника до передачи его в скорую планируем организовать изолятор в помещении раздевалки отгородив часть помещения пленкой от пола до потолка разрешается ли такое так как место ограничено и свободных помещений нет отправлено с iphone \n",
      "=====\n",
      "\n",
      "кемеровский область согласно постановление администрация необходимый организовать изолятор временной содержание больной сотрудник передача скорый планировать организовать изолятор помещение раздевалка отгородить часть помещение плёнка полый потолок разрешаться место ограничить свободный помещение отправить iphone \n",
      "=====\n",
      "\n"
     ]
    }
   ],
   "source": [
    "test = queries_data[\"Текст вопроса\"][3]\n",
    "print(test, \"\\n=====\\n\")\n",
    "\n",
    "test_tokens = tokenizer(test)\n",
    "print(test_tokens, \"\\n=====\\n\")\n",
    "\n",
    "test_lem = lemmatizer(test_tokens)\n",
    "print(test_lem, \"\\n=====\\n\")"
   ]
  },
  {
   "cell_type": "code",
   "execution_count": 190,
   "metadata": {},
   "outputs": [
    {
     "data": {
      "application/vnd.jupyter.widget-view+json": {
       "model_id": "513711ec14bb4ad3bfbcc2186070dcb9",
       "version_major": 2,
       "version_minor": 0
      },
      "text/plain": [
       "HBox(children=(IntProgress(value=0, max=2299), HTML(value='')))"
      ]
     },
     "metadata": {},
     "output_type": "display_data"
    },
    {
     "data": {
      "application/vnd.jupyter.widget-view+json": {
       "model_id": "94edc49593294734be13e009286e2a3c",
       "version_major": 2,
       "version_minor": 0
      },
      "text/plain": [
       "HBox(children=(IntProgress(value=0, max=2299), HTML(value='')))"
      ]
     },
     "metadata": {},
     "output_type": "display_data"
    },
    {
     "data": {
      "text/html": [
       "<div>\n",
       "<style scoped>\n",
       "    .dataframe tbody tr th:only-of-type {\n",
       "        vertical-align: middle;\n",
       "    }\n",
       "\n",
       "    .dataframe tbody tr th {\n",
       "        vertical-align: top;\n",
       "    }\n",
       "\n",
       "    .dataframe thead th {\n",
       "        text-align: right;\n",
       "    }\n",
       "</style>\n",
       "<table border=\"1\" class=\"dataframe\">\n",
       "  <thead>\n",
       "    <tr style=\"text-align: right;\">\n",
       "      <th></th>\n",
       "      <th>Текст вопроса</th>\n",
       "      <th>Номер связки</th>\n",
       "      <th>Тематика</th>\n",
       "      <th>tokens</th>\n",
       "      <th>lemm</th>\n",
       "    </tr>\n",
       "  </thead>\n",
       "  <tbody>\n",
       "    <tr>\n",
       "      <th>0</th>\n",
       "      <td>с уважением Вероника Игоревна  Ильич\\n\\nПосле ...</td>\n",
       "      <td>308.0</td>\n",
       "      <td>ЗАКРЫТИЕ ГРАНИЦ, ОТКРЫТИЕ ГРАНИЦ РОССИИ И АВИА...</td>\n",
       "      <td>с уважением вероника игоревна ильич после авгу...</td>\n",
       "      <td>уважение вероника игорь илья август год москва...</td>\n",
       "    </tr>\n",
       "    <tr>\n",
       "      <th>1</th>\n",
       "      <td>Здравствуйте! Проинформируйте, пожалуйста, нуж...</td>\n",
       "      <td>324.0</td>\n",
       "      <td>ОРГАНИЗАЦИИ ОТДЫХА ДЕТЕЙ И ИХ ЗДОРОВЛЕНИЯ</td>\n",
       "      <td>здравствуйте проинформируйте пожалуйста нужен ...</td>\n",
       "      <td>здравствовать проинформировать пожалуйста нужн...</td>\n",
       "    </tr>\n",
       "    <tr>\n",
       "      <th>2</th>\n",
       "      <td>--\\nДобрый день!\\n   Меня, Сидельникова Андрея...</td>\n",
       "      <td>57.0</td>\n",
       "      <td>БОЛЬНИЧНЫЙ ЛИСТ</td>\n",
       "      <td>добрый день меня сидельникова андрея олеговича...</td>\n",
       "      <td>сидельников андрей олег год р посадить каранти...</td>\n",
       "    </tr>\n",
       "    <tr>\n",
       "      <th>3</th>\n",
       "      <td>Добрый день.\\nВ Кемеровской области согласно п...</td>\n",
       "      <td>45.0</td>\n",
       "      <td>ШТРАФЫ, НОРМАТИВНЫЕ АКТЫ И РЕКОМЕНДАЦИИ</td>\n",
       "      <td>добрый день в кемеровской области согласно пос...</td>\n",
       "      <td>кемеровский область согласно постановление адм...</td>\n",
       "    </tr>\n",
       "    <tr>\n",
       "      <th>4</th>\n",
       "      <td>Здравствуйте, в моем городе Кострома введено о...</td>\n",
       "      <td>3.0</td>\n",
       "      <td>ШТРАФЫ, НОРМАТИВНЫЕ АКТЫ И РЕКОМЕНДАЦИИ</td>\n",
       "      <td>здравствуйте в моем городе кострома введено ог...</td>\n",
       "      <td>здравствовать мыть город кострома ввести огран...</td>\n",
       "    </tr>\n",
       "  </tbody>\n",
       "</table>\n",
       "</div>"
      ],
      "text/plain": [
       "                                       Текст вопроса  Номер связки\\n  \\\n",
       "0  с уважением Вероника Игоревна  Ильич\\n\\nПосле ...           308.0   \n",
       "1  Здравствуйте! Проинформируйте, пожалуйста, нуж...           324.0   \n",
       "2  --\\nДобрый день!\\n   Меня, Сидельникова Андрея...            57.0   \n",
       "3  Добрый день.\\nВ Кемеровской области согласно п...            45.0   \n",
       "4  Здравствуйте, в моем городе Кострома введено о...             3.0   \n",
       "\n",
       "                                           Тематика   \\\n",
       "0  ЗАКРЫТИЕ ГРАНИЦ, ОТКРЫТИЕ ГРАНИЦ РОССИИ И АВИА...   \n",
       "1          ОРГАНИЗАЦИИ ОТДЫХА ДЕТЕЙ И ИХ ЗДОРОВЛЕНИЯ   \n",
       "2                                    БОЛЬНИЧНЫЙ ЛИСТ   \n",
       "3            ШТРАФЫ, НОРМАТИВНЫЕ АКТЫ И РЕКОМЕНДАЦИИ   \n",
       "4            ШТРАФЫ, НОРМАТИВНЫЕ АКТЫ И РЕКОМЕНДАЦИИ   \n",
       "\n",
       "                                              tokens  \\\n",
       "0  с уважением вероника игоревна ильич после авгу...   \n",
       "1  здравствуйте проинформируйте пожалуйста нужен ...   \n",
       "2  добрый день меня сидельникова андрея олеговича...   \n",
       "3  добрый день в кемеровской области согласно пос...   \n",
       "4  здравствуйте в моем городе кострома введено ог...   \n",
       "\n",
       "                                                lemm  \n",
       "0  уважение вероника игорь илья август год москва...  \n",
       "1  здравствовать проинформировать пожалуйста нужн...  \n",
       "2  сидельников андрей олег год р посадить каранти...  \n",
       "3  кемеровский область согласно постановление адм...  \n",
       "4  здравствовать мыть город кострома ввести огран...  "
      ]
     },
     "execution_count": 190,
     "metadata": {},
     "output_type": "execute_result"
    }
   ],
   "source": [
    "queries_data[\"tokens\"] = queries_data[\"Текст вопроса\"].progress_apply(tokenizer)\n",
    "queries_data[\"lemm\"] = queries_data[\"tokens\"].progress_apply(lemmatizer)\n",
    "queries_data.head()"
   ]
  },
  {
   "cell_type": "code",
   "execution_count": 191,
   "metadata": {},
   "outputs": [
    {
     "data": {
      "application/vnd.jupyter.widget-view+json": {
       "model_id": "ec817b6c438046608d6e0215a61a8d7e",
       "version_major": 2,
       "version_minor": 0
      },
      "text/plain": [
       "HBox(children=(IntProgress(value=0, max=43), HTML(value='')))"
      ]
     },
     "metadata": {},
     "output_type": "display_data"
    },
    {
     "data": {
      "application/vnd.jupyter.widget-view+json": {
       "model_id": "8a6c665369df4a9b9a1eeecd33860a3d",
       "version_major": 2,
       "version_minor": 0
      },
      "text/plain": [
       "HBox(children=(IntProgress(value=0, max=43), HTML(value='')))"
      ]
     },
     "metadata": {},
     "output_type": "display_data"
    },
    {
     "data": {
      "text/html": [
       "<div>\n",
       "<style scoped>\n",
       "    .dataframe tbody tr th:only-of-type {\n",
       "        vertical-align: middle;\n",
       "    }\n",
       "\n",
       "    .dataframe tbody tr th {\n",
       "        vertical-align: top;\n",
       "    }\n",
       "\n",
       "    .dataframe thead th {\n",
       "        text-align: right;\n",
       "    }\n",
       "</style>\n",
       "<table border=\"1\" class=\"dataframe\">\n",
       "  <thead>\n",
       "    <tr style=\"text-align: right;\">\n",
       "      <th></th>\n",
       "      <th>Номер связки</th>\n",
       "      <th>Текст вопросов</th>\n",
       "      <th>Текст ответа</th>\n",
       "      <th>Тематика</th>\n",
       "      <th>tokens</th>\n",
       "      <th>lemm</th>\n",
       "    </tr>\n",
       "  </thead>\n",
       "  <tbody>\n",
       "    <tr>\n",
       "      <th>0</th>\n",
       "      <td>57</td>\n",
       "      <td>У ребенка в школе продлили каникулы. Могу ли я...</td>\n",
       "      <td>Листок временной нетрудоспособности (больничны...</td>\n",
       "      <td>БОЛЬНИЧНЫЙ ЛИСТ</td>\n",
       "      <td>листок временной нетрудоспособности больничный...</td>\n",
       "      <td>листок временной нетрудоспособность больничный...</td>\n",
       "    </tr>\n",
       "    <tr>\n",
       "      <th>1</th>\n",
       "      <td>78</td>\n",
       "      <td>Где сделать вакцинацию от коронавируса?\\nСущес...</td>\n",
       "      <td>Коронавирусы - это целое семейство вирусов, ко...</td>\n",
       "      <td>ВАКЦИНАЦИЯ</td>\n",
       "      <td>коронавирусы это целое семейство вирусов котор...</td>\n",
       "      <td>коронавирус это целое семейство вирус который ...</td>\n",
       "    </tr>\n",
       "    <tr>\n",
       "      <th>2</th>\n",
       "      <td>326</td>\n",
       "      <td>Сколько стоит сделать вакцину от гриппа?\\nМожн...</td>\n",
       "      <td>Бесплатно пройти вакцинацию можно в Вашей меди...</td>\n",
       "      <td>ВАКЦИНАЦИЯ</td>\n",
       "      <td>бесплатно пройти вакцинацию можно в вашей меди...</td>\n",
       "      <td>бесплатно пройти вакцинация ваш медицинский ор...</td>\n",
       "    </tr>\n",
       "    <tr>\n",
       "      <th>3</th>\n",
       "      <td>327</td>\n",
       "      <td>Могу я отказаться от вакцинации?\\nВ каких случ...</td>\n",
       "      <td>Согласно приказу Министерства здравоохранения ...</td>\n",
       "      <td>ВАКЦИНАЦИЯ</td>\n",
       "      <td>согласно приказу министерства здравоохранения ...</td>\n",
       "      <td>согласно приказ министерство здравоохранение м...</td>\n",
       "    </tr>\n",
       "    <tr>\n",
       "      <th>4</th>\n",
       "      <td>328</td>\n",
       "      <td>Безопасна ли вакцинация?\\nОпасна ли вакцинация...</td>\n",
       "      <td>В соответствии с пунктами 1 и 2 статьи 12 Феде...</td>\n",
       "      <td>ВАКЦИНАЦИЯ</td>\n",
       "      <td>в соответствии с пунктами и статьи федеральног...</td>\n",
       "      <td>соответствие пункт статья федеральный закон им...</td>\n",
       "    </tr>\n",
       "  </tbody>\n",
       "</table>\n",
       "</div>"
      ],
      "text/plain": [
       "   Номер связки                                     Текст вопросов  \\\n",
       "0            57  У ребенка в школе продлили каникулы. Могу ли я...   \n",
       "1            78  Где сделать вакцинацию от коронавируса?\\nСущес...   \n",
       "2           326  Сколько стоит сделать вакцину от гриппа?\\nМожн...   \n",
       "3           327  Могу я отказаться от вакцинации?\\nВ каких случ...   \n",
       "4           328  Безопасна ли вакцинация?\\nОпасна ли вакцинация...   \n",
       "\n",
       "                                        Текст ответа         Тематика  \\\n",
       "0  Листок временной нетрудоспособности (больничны...  БОЛЬНИЧНЫЙ ЛИСТ   \n",
       "1  Коронавирусы - это целое семейство вирусов, ко...       ВАКЦИНАЦИЯ   \n",
       "2  Бесплатно пройти вакцинацию можно в Вашей меди...       ВАКЦИНАЦИЯ   \n",
       "3  Согласно приказу Министерства здравоохранения ...       ВАКЦИНАЦИЯ   \n",
       "4  В соответствии с пунктами 1 и 2 статьи 12 Феде...       ВАКЦИНАЦИЯ   \n",
       "\n",
       "                                              tokens  \\\n",
       "0  листок временной нетрудоспособности больничный...   \n",
       "1  коронавирусы это целое семейство вирусов котор...   \n",
       "2  бесплатно пройти вакцинацию можно в вашей меди...   \n",
       "3  согласно приказу министерства здравоохранения ...   \n",
       "4  в соответствии с пунктами и статьи федеральног...   \n",
       "\n",
       "                                                lemm  \n",
       "0  листок временной нетрудоспособность больничный...  \n",
       "1  коронавирус это целое семейство вирус который ...  \n",
       "2  бесплатно пройти вакцинация ваш медицинский ор...  \n",
       "3  согласно приказ министерство здравоохранение м...  \n",
       "4  соответствие пункт статья федеральный закон им...  "
      ]
     },
     "execution_count": 191,
     "metadata": {},
     "output_type": "execute_result"
    }
   ],
   "source": [
    "answers_data[\"tokens\"] = answers_data[\"Текст ответа\"].progress_apply(tokenizer)\n",
    "answers_data[\"lemm\"] = answers_data[\"tokens\"].progress_apply(lemmatizer)\n",
    "answers_data.head()"
   ]
  },
  {
   "cell_type": "markdown",
   "metadata": {},
   "source": [
    "## Функция ранжирования bm25"
   ]
  },
  {
   "cell_type": "code",
   "execution_count": 233,
   "metadata": {},
   "outputs": [],
   "source": [
    "from sklearn.feature_extraction.text import CountVectorizer\n",
    "from math import log"
   ]
  },
  {
   "cell_type": "markdown",
   "metadata": {},
   "source": [
    "Для обратного индекса есть общепринятая формула для ранжирования *Okapi best match 25* ([Okapi BM25](https://ru.wikipedia.org/wiki/Okapi_BM25)).    \n",
    "Пусть дан запрос $Q$, содержащий слова  $q_1, ... , q_n$, тогда функция BM25 даёт следующую оценку релевантности документа $D$ запросу $Q$:\n",
    "\n",
    "$$ score(D, Q) = \\sum_{i}^{n} \\text{IDF}(q_i)*\\frac{TF(q_i,D)*(k+1)}{TF(q_i,D)+k(1-b+b\\frac{l(d)}{avgdl})} $$ \n",
    "где   \n",
    ">$TF(q_i,D)$ - частота слова $q_i$ в документе $D$      \n",
    "$l(d)$ - длина документа (количество слов в нём)   \n",
    "*avgdl* — средняя длина документа в коллекции    \n",
    "$k$ и $b$ — свободные коэффициенты, обычно их выбирают как $k$=2.0 и $b$=0.75   \n",
    "$$$$\n",
    "$\\text{IDF}(q_i)$ - это модернизированная версия IDF: \n",
    "$$\\text{IDF}(q_i) = \\log\\frac{N-n(q_i)+0.5}{n(q_i)+0.5},$$\n",
    ">> где $N$ - общее количество документов в коллекции   \n",
    "$n(q_i)$ — количество документов, содержащих $q_i$"
   ]
  },
  {
   "cell_type": "code",
   "execution_count": 316,
   "metadata": {},
   "outputs": [
    {
     "data": {
      "text/plain": [
       "(43, 2623)"
      ]
     },
     "execution_count": 316,
     "metadata": {},
     "output_type": "execute_result"
    }
   ],
   "source": [
    "count_vectorizer = CountVectorizer()\n",
    "corpora = answers_data[\"lemm\"]\n",
    "count_matrix = count_vectorizer.fit_transform(corpora)\n",
    "count_matrix.shape"
   ]
  },
  {
   "cell_type": "code",
   "execution_count": 399,
   "metadata": {},
   "outputs": [
    {
     "data": {
      "text/plain": [
       "(43, 2623)"
      ]
     },
     "execution_count": 399,
     "metadata": {},
     "output_type": "execute_result"
    }
   ],
   "source": [
    "k = 2.0\n",
    "b = 0.75\n",
    "\n",
    "length = count_matrix.sum(axis=1)\n",
    "avgdl = length.mean()\n",
    "\n",
    "# def new_tf(q_i, D_i):\n",
    "#     tf = int(count_matrix[D_i, q_i])\n",
    "#     return (tf * (k+1)) / (tf + k * (1 - b + b * (int(length[D_i])/avgdl) ))\n",
    "\n",
    "def new_tf(count_matrix):\n",
    "    return (count_matrix * (k+1)) / (count_matrix + k * (1 - b + b * (length/avgdl) ))\n",
    "\n",
    "tf_matrix = new_tf(count_matrix)\n",
    "tf_matrix.shape"
   ]
  },
  {
   "cell_type": "code",
   "execution_count": 400,
   "metadata": {},
   "outputs": [
    {
     "data": {
      "text/plain": [
       "(2623,)"
      ]
     },
     "execution_count": 400,
     "metadata": {},
     "output_type": "execute_result"
    }
   ],
   "source": [
    "N = count_matrix.shape[0]\n",
    "\n",
    "def idf(i):\n",
    "    res = log( (N - n[0, i] + 0.5) / (n[0, i] + 0.5) )\n",
    "    return res\n",
    "\n",
    "idf_vector = np.array([idf(i) for i in range(count_matrix.shape[1])])\n",
    "idf_vector.shape"
   ]
  },
  {
   "cell_type": "markdown",
   "metadata": {},
   "source": [
    "### __Задача 1__:    \n",
    "Реализуйте поиск с метрикой *TF-IDF* через умножение матрицы на вектор.\n",
    "Что должно быть в реализации:\n",
    "- проиндексированная база, где каждый документ представлен в виде вектора TF-IDF\n",
    "- функция перевода входяшего запроса в вектор по метрике TF-IDF\n",
    "- ранжирование докуменов по близости к запросу по убыванию\n",
    "\n",
    "В качестве корпуса возьмите корпус вопросов в РПН по Covid2019. Он состоит из:\n",
    "> файл **answers_base.xlsx** - база ответов, у каждого ответа есть его номер, тематика и примеры вопросов, которые могут быть заданы к этому ответу. Сейчас проиндексировать надо именно примеры вопросов в качестве документов базы. Понимаете почему?\n",
    "\n",
    "> файл **queries_base.xlsx** - вопросы юзеров, к каждому из которых проставлен номер верного ответа из базы. Разделите эти вопросы в пропорции 70/30 на обучающую (проиндексированную как база) и тестовую (как запросы) выборки. \n"
   ]
  },
  {
   "cell_type": "code",
   "execution_count": 401,
   "metadata": {},
   "outputs": [
    {
     "data": {
      "text/plain": [
       "(43, 2630)"
      ]
     },
     "execution_count": 401,
     "metadata": {},
     "output_type": "execute_result"
    }
   ],
   "source": [
    "vectorizer = TfidfVectorizer(analyzer=str.split)\n",
    "corpora = answers_data[\"lemm\"]\n",
    "X = vectorizer.fit_transform(corpora)\n",
    "X.shape"
   ]
  },
  {
   "cell_type": "code",
   "execution_count": 402,
   "metadata": {},
   "outputs": [],
   "source": [
    "def get_answer(querry_lem):\n",
    "    q_vec = vectorizer.transform([querry_lem]).toarray()\n",
    "    res = np.dot(X.toarray(), q_vec.T)\n",
    "    index = np.argmax(res)\n",
    "    return answers_data[\"Номер связки\"][index]"
   ]
  },
  {
   "cell_type": "code",
   "execution_count": 403,
   "metadata": {},
   "outputs": [
    {
     "name": "stdout",
     "output_type": "stream",
     "text": [
      "Не могу найти рекомендации до тех, кто возвращается из Турции, не могли бы помочь ? \n",
      "Sent from my iPhone\n",
      "45 308.0\n"
     ]
    }
   ],
   "source": [
    "test_id = 18\n",
    "test_q = queries_data[\"Текст вопроса\"][test_id]\n",
    "test_lem = queries_data[\"lemm\"][test_id]\n",
    "print(test_q)\n",
    "index = get_answer(test_lem)\n",
    "print(index, queries_data[\"Номер связки\\n\"][test_id])"
   ]
  },
  {
   "cell_type": "code",
   "execution_count": 197,
   "metadata": {},
   "outputs": [
    {
     "data": {
      "application/vnd.jupyter.widget-view+json": {
       "model_id": "4689d8b691f447d3b48a88229188182b",
       "version_major": 2,
       "version_minor": 0
      },
      "text/plain": [
       "HBox(children=(IntProgress(value=0, max=2299), HTML(value='')))"
      ]
     },
     "metadata": {},
     "output_type": "display_data"
    }
   ],
   "source": [
    "queries_data[\"pred\"] = queries_data[\"lemm\"].progress_apply(get_answer)"
   ]
  },
  {
   "cell_type": "code",
   "execution_count": 208,
   "metadata": {},
   "outputs": [
    {
     "data": {
      "text/plain": [
       "0.2905611135276207"
      ]
     },
     "execution_count": 208,
     "metadata": {},
     "output_type": "execute_result"
    }
   ],
   "source": [
    "(queries_data['pred'] == queries_data['Номер связки\\n']).sum() / len(queries_data)"
   ]
  },
  {
   "cell_type": "markdown",
   "metadata": {},
   "source": [
    "То же самое, но не для пользовательских вопросов, а для вопросов из базы"
   ]
  },
  {
   "cell_type": "code",
   "execution_count": 411,
   "metadata": {},
   "outputs": [
    {
     "data": {
      "text/html": [
       "<div>\n",
       "<style scoped>\n",
       "    .dataframe tbody tr th:only-of-type {\n",
       "        vertical-align: middle;\n",
       "    }\n",
       "\n",
       "    .dataframe tbody tr th {\n",
       "        vertical-align: top;\n",
       "    }\n",
       "\n",
       "    .dataframe thead th {\n",
       "        text-align: right;\n",
       "    }\n",
       "</style>\n",
       "<table border=\"1\" class=\"dataframe\">\n",
       "  <thead>\n",
       "    <tr style=\"text-align: right;\">\n",
       "      <th></th>\n",
       "      <th>index</th>\n",
       "      <th>question</th>\n",
       "    </tr>\n",
       "  </thead>\n",
       "  <tbody>\n",
       "    <tr>\n",
       "      <th>0</th>\n",
       "      <td>57</td>\n",
       "      <td>ребёнок школа продлить каникулы мочь взять бол...</td>\n",
       "    </tr>\n",
       "    <tr>\n",
       "      <th>1</th>\n",
       "      <td>57</td>\n",
       "      <td>больничный лист</td>\n",
       "    </tr>\n",
       "    <tr>\n",
       "      <th>2</th>\n",
       "      <td>57</td>\n",
       "      <td>компенсация случай разница оплата больничный з...</td>\n",
       "    </tr>\n",
       "    <tr>\n",
       "      <th>3</th>\n",
       "      <td>57</td>\n",
       "      <td>оплачиваться больничный коронавирус</td>\n",
       "    </tr>\n",
       "    <tr>\n",
       "      <th>4</th>\n",
       "      <td>57</td>\n",
       "      <td>контактный дать больничный</td>\n",
       "    </tr>\n",
       "  </tbody>\n",
       "</table>\n",
       "</div>"
      ],
      "text/plain": [
       "   index                                           question\n",
       "0     57  ребёнок школа продлить каникулы мочь взять бол...\n",
       "1     57                                    больничный лист\n",
       "2     57  компенсация случай разница оплата больничный з...\n",
       "3     57                оплачиваться больничный коронавирус\n",
       "4     57                         контактный дать больничный"
      ]
     },
     "execution_count": 411,
     "metadata": {},
     "output_type": "execute_result"
    }
   ],
   "source": [
    "question_index = {}\n",
    "for question_chunk, answer_n in answers_data[[\"Текст вопросов\", \"Номер связки\"]].values:\n",
    "    questions = question_chunk.split('\\n')\n",
    "    for q in questions:\n",
    "        lem_q = lemmatizer(tokenizer(q))\n",
    "        if lem_q != \"\":\n",
    "            question_index[lem_q] = answer_n\n",
    "            \n",
    "question_df = pd.DataFrame({\"question\": q, \"index\": i} for q,i in question_index.items())\n",
    "question_df.head()"
   ]
  },
  {
   "cell_type": "code",
   "execution_count": 412,
   "metadata": {},
   "outputs": [
    {
     "data": {
      "application/vnd.jupyter.widget-view+json": {
       "model_id": "b08182ebc2b543bb93c591b30fab19ea",
       "version_major": 2,
       "version_minor": 0
      },
      "text/plain": [
       "HBox(children=(IntProgress(value=0, max=755), HTML(value='')))"
      ]
     },
     "metadata": {},
     "output_type": "display_data"
    }
   ],
   "source": [
    "question_df[\"pred\"] = question_df[\"question\"].progress_apply(get_answer)"
   ]
  },
  {
   "cell_type": "code",
   "execution_count": 413,
   "metadata": {},
   "outputs": [
    {
     "data": {
      "text/plain": [
       "0.5403973509933775"
      ]
     },
     "execution_count": 413,
     "metadata": {},
     "output_type": "execute_result"
    }
   ],
   "source": [
    "(question_df['pred'] == question_df['index']).sum() / len(question_df)"
   ]
  },
  {
   "cell_type": "markdown",
   "metadata": {},
   "source": [
    "### __Задача 2__:    \n",
    "Аналогичная задаче1 с другой метрикой \n",
    "\n",
    "Реализуйте поиск с метрикой *BM25* через умножение матрицы на вектор. Что должно быть в реализации:\n",
    "\n",
    "- проиндексированная база, где каждый документ представлен в виде вектора BM25\n",
    "- функция перевода входяшего запроса в вектор по метрике BM25\n",
    "- ранжирование докуменов по близости к запросу по убыванию"
   ]
  },
  {
   "cell_type": "code",
   "execution_count": 414,
   "metadata": {},
   "outputs": [],
   "source": [
    "def bm25_search(q):\n",
    "    q_vec = count_vectorizer.transform([q]).toarray()\n",
    "    mask = q_vec * idf_vector\n",
    "    res = np.dot(tf_matrix, mask.T)\n",
    "    index = np.argmax(res)\n",
    "    return answers_data[\"Номер связки\"][index]"
   ]
  },
  {
   "cell_type": "code",
   "execution_count": 415,
   "metadata": {},
   "outputs": [
    {
     "data": {
      "application/vnd.jupyter.widget-view+json": {
       "model_id": "7ab04350af8249b0a7ee877de4a3d119",
       "version_major": 2,
       "version_minor": 0
      },
      "text/plain": [
       "HBox(children=(IntProgress(value=0, max=755), HTML(value='')))"
      ]
     },
     "metadata": {},
     "output_type": "display_data"
    }
   ],
   "source": [
    "question_df[\"pred_bm25\"] = question_df[\"question\"].progress_apply(bm25_search)"
   ]
  },
  {
   "cell_type": "code",
   "execution_count": 416,
   "metadata": {},
   "outputs": [
    {
     "data": {
      "text/plain": [
       "0.5019867549668874"
      ]
     },
     "execution_count": 416,
     "metadata": {},
     "output_type": "execute_result"
    }
   ],
   "source": [
    "(question_df['pred_bm25'] == question_df['index']).sum() / len(question_df)"
   ]
  },
  {
   "cell_type": "code",
   "execution_count": 417,
   "metadata": {},
   "outputs": [
    {
     "data": {
      "text/html": [
       "<div>\n",
       "<style scoped>\n",
       "    .dataframe tbody tr th:only-of-type {\n",
       "        vertical-align: middle;\n",
       "    }\n",
       "\n",
       "    .dataframe tbody tr th {\n",
       "        vertical-align: top;\n",
       "    }\n",
       "\n",
       "    .dataframe thead th {\n",
       "        text-align: right;\n",
       "    }\n",
       "</style>\n",
       "<table border=\"1\" class=\"dataframe\">\n",
       "  <thead>\n",
       "    <tr style=\"text-align: right;\">\n",
       "      <th></th>\n",
       "      <th>index</th>\n",
       "      <th>question</th>\n",
       "      <th>pred</th>\n",
       "      <th>pred_bm25</th>\n",
       "    </tr>\n",
       "  </thead>\n",
       "  <tbody>\n",
       "    <tr>\n",
       "      <th>0</th>\n",
       "      <td>57</td>\n",
       "      <td>ребёнок школа продлить каникулы мочь взять бол...</td>\n",
       "      <td>10</td>\n",
       "      <td>10</td>\n",
       "    </tr>\n",
       "    <tr>\n",
       "      <th>1</th>\n",
       "      <td>57</td>\n",
       "      <td>больничный лист</td>\n",
       "      <td>57</td>\n",
       "      <td>5</td>\n",
       "    </tr>\n",
       "    <tr>\n",
       "      <th>2</th>\n",
       "      <td>57</td>\n",
       "      <td>компенсация случай разница оплата больничный з...</td>\n",
       "      <td>57</td>\n",
       "      <td>57</td>\n",
       "    </tr>\n",
       "    <tr>\n",
       "      <th>3</th>\n",
       "      <td>57</td>\n",
       "      <td>оплачиваться больничный коронавирус</td>\n",
       "      <td>57</td>\n",
       "      <td>57</td>\n",
       "    </tr>\n",
       "    <tr>\n",
       "      <th>4</th>\n",
       "      <td>57</td>\n",
       "      <td>контактный дать больничный</td>\n",
       "      <td>1</td>\n",
       "      <td>57</td>\n",
       "    </tr>\n",
       "    <tr>\n",
       "      <th>5</th>\n",
       "      <td>57</td>\n",
       "      <td>компенсировать разница оплата больничный реаль...</td>\n",
       "      <td>57</td>\n",
       "      <td>57</td>\n",
       "    </tr>\n",
       "    <tr>\n",
       "      <th>6</th>\n",
       "      <td>57</td>\n",
       "      <td>мочь получить больничный лист находиться самои...</td>\n",
       "      <td>5</td>\n",
       "      <td>5</td>\n",
       "    </tr>\n",
       "    <tr>\n",
       "      <th>7</th>\n",
       "      <td>57</td>\n",
       "      <td>дать больничный контактировать больной</td>\n",
       "      <td>40</td>\n",
       "      <td>57</td>\n",
       "    </tr>\n",
       "    <tr>\n",
       "      <th>8</th>\n",
       "      <td>57</td>\n",
       "      <td>мочь получить дистанционный оплачивать больнич...</td>\n",
       "      <td>40</td>\n",
       "      <td>5</td>\n",
       "    </tr>\n",
       "    <tr>\n",
       "      <th>9</th>\n",
       "      <td>57</td>\n",
       "      <td>листок нетрудоспособность</td>\n",
       "      <td>57</td>\n",
       "      <td>57</td>\n",
       "    </tr>\n",
       "    <tr>\n",
       "      <th>10</th>\n",
       "      <td>57</td>\n",
       "      <td>больничный контакт</td>\n",
       "      <td>57</td>\n",
       "      <td>57</td>\n",
       "    </tr>\n",
       "    <tr>\n",
       "      <th>11</th>\n",
       "      <td>57</td>\n",
       "      <td>срок больничный</td>\n",
       "      <td>82</td>\n",
       "      <td>57</td>\n",
       "    </tr>\n",
       "    <tr>\n",
       "      <th>12</th>\n",
       "      <td>57</td>\n",
       "      <td>оплатить больничный время болезнь карантин</td>\n",
       "      <td>57</td>\n",
       "      <td>43</td>\n",
       "    </tr>\n",
       "    <tr>\n",
       "      <th>13</th>\n",
       "      <td>57</td>\n",
       "      <td>получить больничный работать гражданин год ста...</td>\n",
       "      <td>57</td>\n",
       "      <td>57</td>\n",
       "    </tr>\n",
       "    <tr>\n",
       "      <th>14</th>\n",
       "      <td>78</td>\n",
       "      <td>сделать вакцинация коронавирус</td>\n",
       "      <td>326</td>\n",
       "      <td>78</td>\n",
       "    </tr>\n",
       "    <tr>\n",
       "      <th>15</th>\n",
       "      <td>78</td>\n",
       "      <td>существовать вакцина коронавирус</td>\n",
       "      <td>78</td>\n",
       "      <td>78</td>\n",
       "    </tr>\n",
       "    <tr>\n",
       "      <th>16</th>\n",
       "      <td>78</td>\n",
       "      <td>доступный вакцина ковид</td>\n",
       "      <td>78</td>\n",
       "      <td>78</td>\n",
       "    </tr>\n",
       "    <tr>\n",
       "      <th>17</th>\n",
       "      <td>78</td>\n",
       "      <td>вакцина</td>\n",
       "      <td>78</td>\n",
       "      <td>78</td>\n",
       "    </tr>\n",
       "    <tr>\n",
       "      <th>18</th>\n",
       "      <td>78</td>\n",
       "      <td>начаться вакцинация</td>\n",
       "      <td>326</td>\n",
       "      <td>78</td>\n",
       "    </tr>\n",
       "    <tr>\n",
       "      <th>19</th>\n",
       "      <td>78</td>\n",
       "      <td>целое происходить производство вакцина</td>\n",
       "      <td>78</td>\n",
       "      <td>78</td>\n",
       "    </tr>\n",
       "    <tr>\n",
       "      <th>20</th>\n",
       "      <td>78</td>\n",
       "      <td>почему долго производить вакцина коронавирус</td>\n",
       "      <td>78</td>\n",
       "      <td>78</td>\n",
       "    </tr>\n",
       "    <tr>\n",
       "      <th>21</th>\n",
       "      <td>78</td>\n",
       "      <td>почему сделать вакцина коронавирус год первое ...</td>\n",
       "      <td>78</td>\n",
       "      <td>79</td>\n",
       "    </tr>\n",
       "    <tr>\n",
       "      <th>22</th>\n",
       "      <td>78</td>\n",
       "      <td>провакцинироваться коронавирус</td>\n",
       "      <td>210</td>\n",
       "      <td>78</td>\n",
       "    </tr>\n",
       "    <tr>\n",
       "      <th>23</th>\n",
       "      <td>78</td>\n",
       "      <td>почему ранний изобрести вакцина коронавирус</td>\n",
       "      <td>78</td>\n",
       "      <td>78</td>\n",
       "    </tr>\n",
       "    <tr>\n",
       "      <th>24</th>\n",
       "      <td>78</td>\n",
       "      <td>разработать вакцина коронавирус</td>\n",
       "      <td>78</td>\n",
       "      <td>78</td>\n",
       "    </tr>\n",
       "    <tr>\n",
       "      <th>25</th>\n",
       "      <td>78</td>\n",
       "      <td>почему ускорить разработка вакцина</td>\n",
       "      <td>78</td>\n",
       "      <td>78</td>\n",
       "    </tr>\n",
       "    <tr>\n",
       "      <th>26</th>\n",
       "      <td>78</td>\n",
       "      <td>почему компания государство терять миллиард до...</td>\n",
       "      <td>78</td>\n",
       "      <td>78</td>\n",
       "    </tr>\n",
       "    <tr>\n",
       "      <th>27</th>\n",
       "      <td>78</td>\n",
       "      <td>эффективный вакцина</td>\n",
       "      <td>78</td>\n",
       "      <td>78</td>\n",
       "    </tr>\n",
       "    <tr>\n",
       "      <th>28</th>\n",
       "      <td>326</td>\n",
       "      <td>сколько стоить сделать вакцина грипп</td>\n",
       "      <td>328</td>\n",
       "      <td>78</td>\n",
       "    </tr>\n",
       "    <tr>\n",
       "      <th>29</th>\n",
       "      <td>326</td>\n",
       "      <td>сделать вакцина бесплатно грипп</td>\n",
       "      <td>328</td>\n",
       "      <td>328</td>\n",
       "    </tr>\n",
       "    <tr>\n",
       "      <th>...</th>\n",
       "      <td>...</td>\n",
       "      <td>...</td>\n",
       "      <td>...</td>\n",
       "      <td>...</td>\n",
       "    </tr>\n",
       "    <tr>\n",
       "      <th>725</th>\n",
       "      <td>3</td>\n",
       "      <td>нарушить условие карантин изоляция полиция сос...</td>\n",
       "      <td>3</td>\n",
       "      <td>3</td>\n",
       "    </tr>\n",
       "    <tr>\n",
       "      <th>726</th>\n",
       "      <td>3</td>\n",
       "      <td>соблюдать нарушить карантин</td>\n",
       "      <td>1</td>\n",
       "      <td>1</td>\n",
       "    </tr>\n",
       "    <tr>\n",
       "      <th>727</th>\n",
       "      <td>45</td>\n",
       "      <td>рекомендация кафе ресторан</td>\n",
       "      <td>45</td>\n",
       "      <td>45</td>\n",
       "    </tr>\n",
       "    <tr>\n",
       "      <th>728</th>\n",
       "      <td>45</td>\n",
       "      <td>рекомендация оздоровительный организация</td>\n",
       "      <td>45</td>\n",
       "      <td>45</td>\n",
       "    </tr>\n",
       "    <tr>\n",
       "      <th>729</th>\n",
       "      <td>45</td>\n",
       "      <td>рекомендация больница поликлиника</td>\n",
       "      <td>45</td>\n",
       "      <td>6</td>\n",
       "    </tr>\n",
       "    <tr>\n",
       "      <th>730</th>\n",
       "      <td>45</td>\n",
       "      <td>рекомендация образовательный организация</td>\n",
       "      <td>45</td>\n",
       "      <td>45</td>\n",
       "    </tr>\n",
       "    <tr>\n",
       "      <th>731</th>\n",
       "      <td>45</td>\n",
       "      <td>общественный организация разработать рекоменда...</td>\n",
       "      <td>45</td>\n",
       "      <td>45</td>\n",
       "    </tr>\n",
       "    <tr>\n",
       "      <th>732</th>\n",
       "      <td>45</td>\n",
       "      <td>рекомендация общественный место</td>\n",
       "      <td>45</td>\n",
       "      <td>70</td>\n",
       "    </tr>\n",
       "    <tr>\n",
       "      <th>733</th>\n",
       "      <td>45</td>\n",
       "      <td>рекомендация кинотеатр</td>\n",
       "      <td>45</td>\n",
       "      <td>45</td>\n",
       "    </tr>\n",
       "    <tr>\n",
       "      <th>734</th>\n",
       "      <td>45</td>\n",
       "      <td>найти инфографик рекомендация рекомендация вид...</td>\n",
       "      <td>45</td>\n",
       "      <td>45</td>\n",
       "    </tr>\n",
       "    <tr>\n",
       "      <th>735</th>\n",
       "      <td>45</td>\n",
       "      <td>разъяснение документ</td>\n",
       "      <td>324</td>\n",
       "      <td>10</td>\n",
       "    </tr>\n",
       "    <tr>\n",
       "      <th>736</th>\n",
       "      <td>45</td>\n",
       "      <td>объяснить значение санпин</td>\n",
       "      <td>286</td>\n",
       "      <td>286</td>\n",
       "    </tr>\n",
       "    <tr>\n",
       "      <th>737</th>\n",
       "      <td>45</td>\n",
       "      <td>ознакомиться рекомендация роспотребнадзор</td>\n",
       "      <td>45</td>\n",
       "      <td>45</td>\n",
       "    </tr>\n",
       "    <tr>\n",
       "      <th>738</th>\n",
       "      <td>45</td>\n",
       "      <td>открытый доступ рекомендация роспотребнадзор б...</td>\n",
       "      <td>45</td>\n",
       "      <td>45</td>\n",
       "    </tr>\n",
       "    <tr>\n",
       "      <th>739</th>\n",
       "      <td>45</td>\n",
       "      <td>издать рекомендация</td>\n",
       "      <td>45</td>\n",
       "      <td>45</td>\n",
       "    </tr>\n",
       "    <tr>\n",
       "      <th>740</th>\n",
       "      <td>45</td>\n",
       "      <td>получить разъяснение</td>\n",
       "      <td>225</td>\n",
       "      <td>10</td>\n",
       "    </tr>\n",
       "    <tr>\n",
       "      <th>741</th>\n",
       "      <td>45</td>\n",
       "      <td>означать пункт санитарный правило</td>\n",
       "      <td>74</td>\n",
       "      <td>78</td>\n",
       "    </tr>\n",
       "    <tr>\n",
       "      <th>742</th>\n",
       "      <td>45</td>\n",
       "      <td>рекомендация профилактика коронавирусный инфек...</td>\n",
       "      <td>45</td>\n",
       "      <td>5</td>\n",
       "    </tr>\n",
       "    <tr>\n",
       "      <th>743</th>\n",
       "      <td>45</td>\n",
       "      <td>рекомендация минздрав</td>\n",
       "      <td>45</td>\n",
       "      <td>132</td>\n",
       "    </tr>\n",
       "    <tr>\n",
       "      <th>744</th>\n",
       "      <td>45</td>\n",
       "      <td>хотеть ознакомиться подробно рекомендация найти</td>\n",
       "      <td>45</td>\n",
       "      <td>210</td>\n",
       "    </tr>\n",
       "    <tr>\n",
       "      <th>745</th>\n",
       "      <td>45</td>\n",
       "      <td>ознакомиться рекомендация поэтапный отмена кар...</td>\n",
       "      <td>45</td>\n",
       "      <td>46</td>\n",
       "    </tr>\n",
       "    <tr>\n",
       "      <th>746</th>\n",
       "      <td>45</td>\n",
       "      <td>разъяснить санпин</td>\n",
       "      <td>57</td>\n",
       "      <td>57</td>\n",
       "    </tr>\n",
       "    <tr>\n",
       "      <th>747</th>\n",
       "      <td>45</td>\n",
       "      <td>просить объяснить пункт нормативный документ</td>\n",
       "      <td>246</td>\n",
       "      <td>246</td>\n",
       "    </tr>\n",
       "    <tr>\n",
       "      <th>748</th>\n",
       "      <td>45</td>\n",
       "      <td>читать методический рекомендация сайт роспотре...</td>\n",
       "      <td>45</td>\n",
       "      <td>45</td>\n",
       "    </tr>\n",
       "    <tr>\n",
       "      <th>749</th>\n",
       "      <td>45</td>\n",
       "      <td>проживать город ознакомиться весь рекомендация...</td>\n",
       "      <td>45</td>\n",
       "      <td>173</td>\n",
       "    </tr>\n",
       "    <tr>\n",
       "      <th>750</th>\n",
       "      <td>45</td>\n",
       "      <td>ознакомиться нормативный методический документ...</td>\n",
       "      <td>45</td>\n",
       "      <td>246</td>\n",
       "    </tr>\n",
       "    <tr>\n",
       "      <th>751</th>\n",
       "      <td>21</td>\n",
       "      <td>правительство явно скрывать ситуация коронавирус</td>\n",
       "      <td>21</td>\n",
       "      <td>21</td>\n",
       "    </tr>\n",
       "    <tr>\n",
       "      <th>752</th>\n",
       "      <td>21</td>\n",
       "      <td>узнать реальный количество заболеть</td>\n",
       "      <td>34</td>\n",
       "      <td>34</td>\n",
       "    </tr>\n",
       "    <tr>\n",
       "      <th>753</th>\n",
       "      <td>21</td>\n",
       "      <td>эпидемиологический ситуация мир россия мыть ре...</td>\n",
       "      <td>21</td>\n",
       "      <td>21</td>\n",
       "    </tr>\n",
       "    <tr>\n",
       "      <th>754</th>\n",
       "      <td>21</td>\n",
       "      <td>страна неблагополучный эпидситуация</td>\n",
       "      <td>21</td>\n",
       "      <td>21</td>\n",
       "    </tr>\n",
       "  </tbody>\n",
       "</table>\n",
       "<p>755 rows × 4 columns</p>\n",
       "</div>"
      ],
      "text/plain": [
       "     index                                           question  pred  pred_bm25\n",
       "0       57  ребёнок школа продлить каникулы мочь взять бол...    10         10\n",
       "1       57                                    больничный лист    57          5\n",
       "2       57  компенсация случай разница оплата больничный з...    57         57\n",
       "3       57                оплачиваться больничный коронавирус    57         57\n",
       "4       57                         контактный дать больничный     1         57\n",
       "5       57  компенсировать разница оплата больничный реаль...    57         57\n",
       "6       57  мочь получить больничный лист находиться самои...     5          5\n",
       "7       57             дать больничный контактировать больной    40         57\n",
       "8       57  мочь получить дистанционный оплачивать больнич...    40          5\n",
       "9       57                          листок нетрудоспособность    57         57\n",
       "10      57                                 больничный контакт    57         57\n",
       "11      57                                    срок больничный    82         57\n",
       "12      57         оплатить больничный время болезнь карантин    57         43\n",
       "13      57  получить больничный работать гражданин год ста...    57         57\n",
       "14      78                     сделать вакцинация коронавирус   326         78\n",
       "15      78                   существовать вакцина коронавирус    78         78\n",
       "16      78                            доступный вакцина ковид    78         78\n",
       "17      78                                            вакцина    78         78\n",
       "18      78                                начаться вакцинация   326         78\n",
       "19      78             целое происходить производство вакцина    78         78\n",
       "20      78       почему долго производить вакцина коронавирус    78         78\n",
       "21      78  почему сделать вакцина коронавирус год первое ...    78         79\n",
       "22      78                     провакцинироваться коронавирус   210         78\n",
       "23      78        почему ранний изобрести вакцина коронавирус    78         78\n",
       "24      78                    разработать вакцина коронавирус    78         78\n",
       "25      78                 почему ускорить разработка вакцина    78         78\n",
       "26      78  почему компания государство терять миллиард до...    78         78\n",
       "27      78                                эффективный вакцина    78         78\n",
       "28     326               сколько стоить сделать вакцина грипп   328         78\n",
       "29     326                    сделать вакцина бесплатно грипп   328        328\n",
       "..     ...                                                ...   ...        ...\n",
       "725      3  нарушить условие карантин изоляция полиция сос...     3          3\n",
       "726      3                        соблюдать нарушить карантин     1          1\n",
       "727     45                         рекомендация кафе ресторан    45         45\n",
       "728     45           рекомендация оздоровительный организация    45         45\n",
       "729     45                  рекомендация больница поликлиника    45          6\n",
       "730     45           рекомендация образовательный организация    45         45\n",
       "731     45  общественный организация разработать рекоменда...    45         45\n",
       "732     45                    рекомендация общественный место    45         70\n",
       "733     45                             рекомендация кинотеатр    45         45\n",
       "734     45  найти инфографик рекомендация рекомендация вид...    45         45\n",
       "735     45                               разъяснение документ   324         10\n",
       "736     45                          объяснить значение санпин   286        286\n",
       "737     45          ознакомиться рекомендация роспотребнадзор    45         45\n",
       "738     45  открытый доступ рекомендация роспотребнадзор б...    45         45\n",
       "739     45                                издать рекомендация    45         45\n",
       "740     45                               получить разъяснение   225         10\n",
       "741     45                  означать пункт санитарный правило    74         78\n",
       "742     45  рекомендация профилактика коронавирусный инфек...    45          5\n",
       "743     45                              рекомендация минздрав    45        132\n",
       "744     45    хотеть ознакомиться подробно рекомендация найти    45        210\n",
       "745     45  ознакомиться рекомендация поэтапный отмена кар...    45         46\n",
       "746     45                                  разъяснить санпин    57         57\n",
       "747     45       просить объяснить пункт нормативный документ   246        246\n",
       "748     45  читать методический рекомендация сайт роспотре...    45         45\n",
       "749     45  проживать город ознакомиться весь рекомендация...    45        173\n",
       "750     45  ознакомиться нормативный методический документ...    45        246\n",
       "751     21   правительство явно скрывать ситуация коронавирус    21         21\n",
       "752     21                узнать реальный количество заболеть    34         34\n",
       "753     21  эпидемиологический ситуация мир россия мыть ре...    21         21\n",
       "754     21                страна неблагополучный эпидситуация    21         21\n",
       "\n",
       "[755 rows x 4 columns]"
      ]
     },
     "execution_count": 417,
     "metadata": {},
     "output_type": "execute_result"
    }
   ],
   "source": [
    "question_df"
   ]
  },
  {
   "cell_type": "code",
   "execution_count": 418,
   "metadata": {},
   "outputs": [],
   "source": [
    "import matplotlib.pyplot as plt\n",
    "import seaborn as sns\n",
    "sns.set(style=\"whitegrid\")"
   ]
  },
  {
   "cell_type": "code",
   "execution_count": 422,
   "metadata": {},
   "outputs": [
    {
     "data": {
      "image/png": "[encoded data removed]",
      "text/plain": [
       "<Figure size 720x360 with 2 Axes>"
      ]
     },
     "metadata": {
      "needs_background": "light"
     },
     "output_type": "display_data"
    }
   ],
   "source": [
    "corr_df = question_df[[\"index\", \"pred\"]].corr()\n",
    "\n",
    "fig, ax = plt.subplots(figsize=(10, 5))\n",
    "\n",
    "sns.heatmap(\n",
    "    data=corr_df, \n",
    "    annot=True,\n",
    "    ax=ax\n",
    ")\n",
    "plt.title(\"корреляция между правильными ответами и найденными по тф-идф\")\n",
    "plt.show()"
   ]
  },
  {
   "cell_type": "code",
   "execution_count": 423,
   "metadata": {},
   "outputs": [
    {
     "data": {
      "image/png": "[encoded data removed]",
      "text/plain": [
       "<Figure size 720x360 with 2 Axes>"
      ]
     },
     "metadata": {
      "needs_background": "light"
     },
     "output_type": "display_data"
    }
   ],
   "source": [
    "corr_df = question_df[[\"index\", \"pred_bm25\"]].corr()\n",
    "\n",
    "fig, ax = plt.subplots(figsize=(10, 5))\n",
    "\n",
    "sns.heatmap(\n",
    "    data=corr_df, \n",
    "    annot=True,\n",
    "    ax=ax\n",
    ")\n",
    "plt.title(\"корреляция между правильными ответами и найденными по bm25\")\n",
    "plt.show()"
   ]
  },
  {
   "cell_type": "markdown",
   "metadata": {},
   "source": [
    "_Анна Полянская, БКЛ171_"
   ]
  }
 ],
 "metadata": {
  "kernelspec": {
   "display_name": "Python 3",
   "language": "python",
   "name": "python3"
  },
  "language_info": {
   "codemirror_mode": {
    "name": "ipython",
    "version": 3
   },
   "file_extension": ".py",
   "mimetype": "text/x-python",
   "name": "python",
   "nbconvert_exporter": "python",
   "pygments_lexer": "ipython3",
   "version": "3.7.3"
  }
 },
 "nbformat": 4,
 "nbformat_minor": 2
}
