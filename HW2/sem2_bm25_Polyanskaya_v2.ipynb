{
 "cells": [
  {
   "cell_type": "markdown",
   "metadata": {},
   "source": [
    "##  Вторая версия домашки, чуть более праильная и красивая "
   ]
  },
  {
   "cell_type": "markdown",
   "metadata": {},
   "source": [
    "### TfidfVectorizer"
   ]
  },
  {
   "cell_type": "markdown",
   "metadata": {},
   "source": [
    " "
   ]
  },
  {
   "cell_type": "code",
   "execution_count": 133,
   "metadata": {},
   "outputs": [],
   "source": [
    " import pandas as pd"
   ]
  },
  {
   "cell_type": "code",
   "execution_count": 134,
   "metadata": {},
   "outputs": [],
   "source": [
    "answers_data = pd.read_excel(\"answers_base.xlsx\")\n",
    "queries_data = pd.read_excel(\"queries_base.xlsx\")"
   ]
  },
  {
   "cell_type": "code",
   "execution_count": 135,
   "metadata": {},
   "outputs": [
    {
     "data": {
      "text/html": [
       "<div>\n",
       "<style scoped>\n",
       "    .dataframe tbody tr th:only-of-type {\n",
       "        vertical-align: middle;\n",
       "    }\n",
       "\n",
       "    .dataframe tbody tr th {\n",
       "        vertical-align: top;\n",
       "    }\n",
       "\n",
       "    .dataframe thead th {\n",
       "        text-align: right;\n",
       "    }\n",
       "</style>\n",
       "<table border=\"1\" class=\"dataframe\">\n",
       "  <thead>\n",
       "    <tr style=\"text-align: right;\">\n",
       "      <th></th>\n",
       "      <th>Номер связки</th>\n",
       "      <th>Текст вопросов</th>\n",
       "      <th>Текст ответа</th>\n",
       "      <th>Тематика</th>\n",
       "    </tr>\n",
       "  </thead>\n",
       "  <tbody>\n",
       "    <tr>\n",
       "      <th>0</th>\n",
       "      <td>57</td>\n",
       "      <td>У ребенка в школе продлили каникулы. Могу ли я...</td>\n",
       "      <td>Листок временной нетрудоспособности (больничны...</td>\n",
       "      <td>БОЛЬНИЧНЫЙ ЛИСТ</td>\n",
       "    </tr>\n",
       "    <tr>\n",
       "      <th>1</th>\n",
       "      <td>78</td>\n",
       "      <td>Где сделать вакцинацию от коронавируса?\\nСущес...</td>\n",
       "      <td>Коронавирусы - это целое семейство вирусов, ко...</td>\n",
       "      <td>ВАКЦИНАЦИЯ</td>\n",
       "    </tr>\n",
       "    <tr>\n",
       "      <th>2</th>\n",
       "      <td>326</td>\n",
       "      <td>Сколько стоит сделать вакцину от гриппа?\\nМожн...</td>\n",
       "      <td>Бесплатно пройти вакцинацию можно в Вашей меди...</td>\n",
       "      <td>ВАКЦИНАЦИЯ</td>\n",
       "    </tr>\n",
       "    <tr>\n",
       "      <th>3</th>\n",
       "      <td>327</td>\n",
       "      <td>Могу я отказаться от вакцинации?\\nВ каких случ...</td>\n",
       "      <td>Согласно приказу Министерства здравоохранения ...</td>\n",
       "      <td>ВАКЦИНАЦИЯ</td>\n",
       "    </tr>\n",
       "    <tr>\n",
       "      <th>4</th>\n",
       "      <td>328</td>\n",
       "      <td>Безопасна ли вакцинация?\\nОпасна ли вакцинация...</td>\n",
       "      <td>В соответствии с пунктами 1 и 2 статьи 12 Феде...</td>\n",
       "      <td>ВАКЦИНАЦИЯ</td>\n",
       "    </tr>\n",
       "  </tbody>\n",
       "</table>\n",
       "</div>"
      ],
      "text/plain": [
       "   Номер связки                                     Текст вопросов  \\\n",
       "0            57  У ребенка в школе продлили каникулы. Могу ли я...   \n",
       "1            78  Где сделать вакцинацию от коронавируса?\\nСущес...   \n",
       "2           326  Сколько стоит сделать вакцину от гриппа?\\nМожн...   \n",
       "3           327  Могу я отказаться от вакцинации?\\nВ каких случ...   \n",
       "4           328  Безопасна ли вакцинация?\\nОпасна ли вакцинация...   \n",
       "\n",
       "                                        Текст ответа         Тематика  \n",
       "0  Листок временной нетрудоспособности (больничны...  БОЛЬНИЧНЫЙ ЛИСТ  \n",
       "1  Коронавирусы - это целое семейство вирусов, ко...       ВАКЦИНАЦИЯ  \n",
       "2  Бесплатно пройти вакцинацию можно в Вашей меди...       ВАКЦИНАЦИЯ  \n",
       "3  Согласно приказу Министерства здравоохранения ...       ВАКЦИНАЦИЯ  \n",
       "4  В соответствии с пунктами 1 и 2 статьи 12 Феде...       ВАКЦИНАЦИЯ  "
      ]
     },
     "execution_count": 135,
     "metadata": {},
     "output_type": "execute_result"
    }
   ],
   "source": [
    "answers_data.head()"
   ]
  },
  {
   "cell_type": "code",
   "execution_count": 136,
   "metadata": {},
   "outputs": [
    {
     "data": {
      "text/html": [
       "<div>\n",
       "<style scoped>\n",
       "    .dataframe tbody tr th:only-of-type {\n",
       "        vertical-align: middle;\n",
       "    }\n",
       "\n",
       "    .dataframe tbody tr th {\n",
       "        vertical-align: top;\n",
       "    }\n",
       "\n",
       "    .dataframe thead th {\n",
       "        text-align: right;\n",
       "    }\n",
       "</style>\n",
       "<table border=\"1\" class=\"dataframe\">\n",
       "  <thead>\n",
       "    <tr style=\"text-align: right;\">\n",
       "      <th></th>\n",
       "      <th>Текст вопроса</th>\n",
       "      <th>Номер связки</th>\n",
       "      <th>Тематика</th>\n",
       "    </tr>\n",
       "  </thead>\n",
       "  <tbody>\n",
       "    <tr>\n",
       "      <th>0</th>\n",
       "      <td>с уважением Вероника Игоревна  Ильич\\n\\nПосле ...</td>\n",
       "      <td>308.0</td>\n",
       "      <td>ЗАКРЫТИЕ ГРАНИЦ, ОТКРЫТИЕ ГРАНИЦ РОССИИ И АВИА...</td>\n",
       "    </tr>\n",
       "    <tr>\n",
       "      <th>1</th>\n",
       "      <td>Здравствуйте! Проинформируйте, пожалуйста, нуж...</td>\n",
       "      <td>324.0</td>\n",
       "      <td>ОРГАНИЗАЦИИ ОТДЫХА ДЕТЕЙ И ИХ ЗДОРОВЛЕНИЯ</td>\n",
       "    </tr>\n",
       "    <tr>\n",
       "      <th>2</th>\n",
       "      <td>--\\nДобрый день!\\n   Меня, Сидельникова Андрея...</td>\n",
       "      <td>57.0</td>\n",
       "      <td>БОЛЬНИЧНЫЙ ЛИСТ</td>\n",
       "    </tr>\n",
       "    <tr>\n",
       "      <th>3</th>\n",
       "      <td>Добрый день.\\nВ Кемеровской области согласно п...</td>\n",
       "      <td>45.0</td>\n",
       "      <td>ШТРАФЫ, НОРМАТИВНЫЕ АКТЫ И РЕКОМЕНДАЦИИ</td>\n",
       "    </tr>\n",
       "    <tr>\n",
       "      <th>4</th>\n",
       "      <td>Здравствуйте, в моем городе Кострома введено о...</td>\n",
       "      <td>3.0</td>\n",
       "      <td>ШТРАФЫ, НОРМАТИВНЫЕ АКТЫ И РЕКОМЕНДАЦИИ</td>\n",
       "    </tr>\n",
       "  </tbody>\n",
       "</table>\n",
       "</div>"
      ],
      "text/plain": [
       "                                       Текст вопроса  Номер связки\\n  \\\n",
       "0  с уважением Вероника Игоревна  Ильич\\n\\nПосле ...           308.0   \n",
       "1  Здравствуйте! Проинформируйте, пожалуйста, нуж...           324.0   \n",
       "2  --\\nДобрый день!\\n   Меня, Сидельникова Андрея...            57.0   \n",
       "3  Добрый день.\\nВ Кемеровской области согласно п...            45.0   \n",
       "4  Здравствуйте, в моем городе Кострома введено о...             3.0   \n",
       "\n",
       "                                           Тематика   \n",
       "0  ЗАКРЫТИЕ ГРАНИЦ, ОТКРЫТИЕ ГРАНИЦ РОССИИ И АВИА...  \n",
       "1          ОРГАНИЗАЦИИ ОТДЫХА ДЕТЕЙ И ИХ ЗДОРОВЛЕНИЯ  \n",
       "2                                    БОЛЬНИЧНЫЙ ЛИСТ  \n",
       "3            ШТРАФЫ, НОРМАТИВНЫЕ АКТЫ И РЕКОМЕНДАЦИИ  \n",
       "4            ШТРАФЫ, НОРМАТИВНЫЕ АКТЫ И РЕКОМЕНДАЦИИ  "
      ]
     },
     "execution_count": 136,
     "metadata": {},
     "output_type": "execute_result"
    }
   ],
   "source": [
    "queries_data = queries_data.drop(columns=[\"Unnamed: 3\", \"Unnamed: 4\"])\n",
    "queries_data.head()"
   ]
  },
  {
   "cell_type": "code",
   "execution_count": 137,
   "metadata": {},
   "outputs": [],
   "source": [
    "import re\n",
    "from razdel import tokenize\n",
    "from nltk.corpus import stopwords\n",
    "stops = stopwords.words(\"russian\")\n",
    "\n",
    "from pymorphy2 import MorphAnalyzer\n",
    "morph = MorphAnalyzer()\n",
    "\n",
    "from tqdm.auto import tqdm\n",
    "tqdm.pandas()"
   ]
  },
  {
   "cell_type": "code",
   "execution_count": 138,
   "metadata": {},
   "outputs": [
    {
     "name": "stdout",
     "output_type": "stream",
     "text": [
      "['и', 'в', 'во', 'не', 'что', 'он', 'на', 'я', 'с', 'со', 'как', 'а', 'то', 'все', 'она', 'так', 'его', 'но', 'да', 'ты', 'к', 'у', 'же', 'вы', 'за', 'бы', 'по', 'только', 'ее', 'мне', 'было', 'вот', 'от', 'меня', 'еще', 'нет', 'о', 'из', 'ему', 'теперь', 'когда', 'даже', 'ну', 'вдруг', 'ли', 'если', 'уже', 'или', 'ни', 'быть', 'был', 'него', 'до', 'вас', 'нибудь', 'опять', 'уж', 'вам', 'ведь', 'там', 'потом', 'себя', 'ничего', 'ей', 'может', 'они', 'тут', 'где', 'есть', 'надо', 'ней', 'для', 'мы', 'тебя', 'их', 'чем', 'была', 'сам', 'чтоб', 'без', 'будто', 'чего', 'раз', 'тоже', 'себе', 'под', 'будет', 'ж', 'тогда', 'кто', 'этот', 'того', 'потому', 'этого', 'какой', 'совсем', 'ним', 'здесь', 'этом', 'один', 'почти', 'мой', 'тем', 'чтобы', 'нее', 'сейчас', 'были', 'куда', 'зачем', 'всех', 'никогда', 'можно', 'при', 'наконец', 'два', 'об', 'другой', 'хоть', 'после', 'над', 'больше', 'тот', 'через', 'эти', 'нас', 'про', 'всего', 'них', 'какая', 'много', 'разве', 'три', 'эту', 'моя', 'впрочем', 'хорошо', 'свою', 'этой', 'перед', 'иногда', 'лучше', 'чуть', 'том', 'нельзя', 'такой', 'им', 'более', 'всегда', 'конечно', 'всю', 'между', 'здравствуйте', 'добрый', 'день']\n"
     ]
    }
   ],
   "source": [
    "stops.extend(['здравствуйте', 'добрый', 'день'])\n",
    "print(stops)"
   ]
  },
  {
   "cell_type": "code",
   "execution_count": 139,
   "metadata": {},
   "outputs": [],
   "source": [
    "def tokenizer(text_data):\n",
    "    tokens = [_.text for _ in list(tokenize(str(text_data).lower())) if not re.search('[^а-яА-ЯёЁa-zA-z]', _.text)]\n",
    "    return \" \".join(tokens)\n",
    "\n",
    "def lemmatizer(tokens):\n",
    "    lem_text = []\n",
    "    for word in tokens.split(\" \"):\n",
    "        lem = morph.parse(word)[0].normal_form\n",
    "        if lem not in stops:\n",
    "            lem_text.append(lem)\n",
    "    return ' '.join(lem_text)"
   ]
  },
  {
   "cell_type": "code",
   "execution_count": 140,
   "metadata": {},
   "outputs": [
    {
     "name": "stdout",
     "output_type": "stream",
     "text": [
      "Добрый день.\n",
      "В Кемеровской области согласно постановлению Администрации необходимо организовать изолятор для временного содержания больного сотрудника до передачи его в скорую. Планируем организовать изолятор в помещении раздевалки, отгородив часть помещения пленкой от пола до потолка. Разрешается ли такое, так как место ограничено и свободных помещений нет. \n",
      "\n",
      "Отправлено с iPhone\n",
      " \n",
      "=====\n",
      "\n",
      "добрый день в кемеровской области согласно постановлению администрации необходимо организовать изолятор для временного содержания больного сотрудника до передачи его в скорую планируем организовать изолятор в помещении раздевалки отгородив часть помещения пленкой от пола до потолка разрешается ли такое так как место ограничено и свободных помещений нет отправлено с iphone \n",
      "=====\n",
      "\n",
      "кемеровский область согласно постановление администрация необходимый организовать изолятор временной содержание больной сотрудник передача скорый планировать организовать изолятор помещение раздевалка отгородить часть помещение плёнка полый потолок разрешаться место ограничить свободный помещение отправить iphone \n",
      "=====\n",
      "\n"
     ]
    }
   ],
   "source": [
    "test_string = queries_data[\"Текст вопроса\"][3]\n",
    "print(test_string, \"\\n=====\\n\")\n",
    "\n",
    "test_tokens = tokenizer(test)\n",
    "print(test_tokens, \"\\n=====\\n\")\n",
    "\n",
    "test_lem = lemmatizer(test_tokens)\n",
    "print(test_lem, \"\\n=====\\n\")"
   ]
  },
  {
   "cell_type": "code",
   "execution_count": 141,
   "metadata": {},
   "outputs": [
    {
     "data": {
      "application/vnd.jupyter.widget-view+json": {
       "model_id": "ec90c7a802884b08a71c8625326486f8",
       "version_major": 2,
       "version_minor": 0
      },
      "text/plain": [
       "HBox(children=(IntProgress(value=0, max=2299), HTML(value='')))"
      ]
     },
     "metadata": {},
     "output_type": "display_data"
    },
    {
     "name": "stdout",
     "output_type": "stream",
     "text": [
      "\n"
     ]
    },
    {
     "data": {
      "application/vnd.jupyter.widget-view+json": {
       "model_id": "bd5edf244a5745dd9e13fc5390cc25c6",
       "version_major": 2,
       "version_minor": 0
      },
      "text/plain": [
       "HBox(children=(IntProgress(value=0, max=2299), HTML(value='')))"
      ]
     },
     "metadata": {},
     "output_type": "display_data"
    },
    {
     "name": "stdout",
     "output_type": "stream",
     "text": [
      "\n"
     ]
    },
    {
     "data": {
      "text/html": [
       "<div>\n",
       "<style scoped>\n",
       "    .dataframe tbody tr th:only-of-type {\n",
       "        vertical-align: middle;\n",
       "    }\n",
       "\n",
       "    .dataframe tbody tr th {\n",
       "        vertical-align: top;\n",
       "    }\n",
       "\n",
       "    .dataframe thead th {\n",
       "        text-align: right;\n",
       "    }\n",
       "</style>\n",
       "<table border=\"1\" class=\"dataframe\">\n",
       "  <thead>\n",
       "    <tr style=\"text-align: right;\">\n",
       "      <th></th>\n",
       "      <th>Текст вопроса</th>\n",
       "      <th>Номер связки</th>\n",
       "      <th>Тематика</th>\n",
       "      <th>tokens</th>\n",
       "      <th>lemm</th>\n",
       "    </tr>\n",
       "  </thead>\n",
       "  <tbody>\n",
       "    <tr>\n",
       "      <th>0</th>\n",
       "      <td>с уважением Вероника Игоревна  Ильич\\n\\nПосле ...</td>\n",
       "      <td>308.0</td>\n",
       "      <td>ЗАКРЫТИЕ ГРАНИЦ, ОТКРЫТИЕ ГРАНИЦ РОССИИ И АВИА...</td>\n",
       "      <td>с уважением вероника игоревна ильич после авгу...</td>\n",
       "      <td>уважение вероника игорь илья август год москва...</td>\n",
       "    </tr>\n",
       "    <tr>\n",
       "      <th>1</th>\n",
       "      <td>Здравствуйте! Проинформируйте, пожалуйста, нуж...</td>\n",
       "      <td>324.0</td>\n",
       "      <td>ОРГАНИЗАЦИИ ОТДЫХА ДЕТЕЙ И ИХ ЗДОРОВЛЕНИЯ</td>\n",
       "      <td>здравствуйте проинформируйте пожалуйста нужен ...</td>\n",
       "      <td>здравствовать проинформировать пожалуйста нужн...</td>\n",
       "    </tr>\n",
       "    <tr>\n",
       "      <th>2</th>\n",
       "      <td>--\\nДобрый день!\\n   Меня, Сидельникова Андрея...</td>\n",
       "      <td>57.0</td>\n",
       "      <td>БОЛЬНИЧНЫЙ ЛИСТ</td>\n",
       "      <td>добрый день меня сидельникова андрея олеговича...</td>\n",
       "      <td>сидельников андрей олег год р посадить каранти...</td>\n",
       "    </tr>\n",
       "    <tr>\n",
       "      <th>3</th>\n",
       "      <td>Добрый день.\\nВ Кемеровской области согласно п...</td>\n",
       "      <td>45.0</td>\n",
       "      <td>ШТРАФЫ, НОРМАТИВНЫЕ АКТЫ И РЕКОМЕНДАЦИИ</td>\n",
       "      <td>добрый день в кемеровской области согласно пос...</td>\n",
       "      <td>кемеровский область согласно постановление адм...</td>\n",
       "    </tr>\n",
       "    <tr>\n",
       "      <th>4</th>\n",
       "      <td>Здравствуйте, в моем городе Кострома введено о...</td>\n",
       "      <td>3.0</td>\n",
       "      <td>ШТРАФЫ, НОРМАТИВНЫЕ АКТЫ И РЕКОМЕНДАЦИИ</td>\n",
       "      <td>здравствуйте в моем городе кострома введено ог...</td>\n",
       "      <td>здравствовать мыть город кострома ввести огран...</td>\n",
       "    </tr>\n",
       "  </tbody>\n",
       "</table>\n",
       "</div>"
      ],
      "text/plain": [
       "                                       Текст вопроса  Номер связки\\n  \\\n",
       "0  с уважением Вероника Игоревна  Ильич\\n\\nПосле ...           308.0   \n",
       "1  Здравствуйте! Проинформируйте, пожалуйста, нуж...           324.0   \n",
       "2  --\\nДобрый день!\\n   Меня, Сидельникова Андрея...            57.0   \n",
       "3  Добрый день.\\nВ Кемеровской области согласно п...            45.0   \n",
       "4  Здравствуйте, в моем городе Кострома введено о...             3.0   \n",
       "\n",
       "                                           Тематика   \\\n",
       "0  ЗАКРЫТИЕ ГРАНИЦ, ОТКРЫТИЕ ГРАНИЦ РОССИИ И АВИА...   \n",
       "1          ОРГАНИЗАЦИИ ОТДЫХА ДЕТЕЙ И ИХ ЗДОРОВЛЕНИЯ   \n",
       "2                                    БОЛЬНИЧНЫЙ ЛИСТ   \n",
       "3            ШТРАФЫ, НОРМАТИВНЫЕ АКТЫ И РЕКОМЕНДАЦИИ   \n",
       "4            ШТРАФЫ, НОРМАТИВНЫЕ АКТЫ И РЕКОМЕНДАЦИИ   \n",
       "\n",
       "                                              tokens  \\\n",
       "0  с уважением вероника игоревна ильич после авгу...   \n",
       "1  здравствуйте проинформируйте пожалуйста нужен ...   \n",
       "2  добрый день меня сидельникова андрея олеговича...   \n",
       "3  добрый день в кемеровской области согласно пос...   \n",
       "4  здравствуйте в моем городе кострома введено ог...   \n",
       "\n",
       "                                                lemm  \n",
       "0  уважение вероника игорь илья август год москва...  \n",
       "1  здравствовать проинформировать пожалуйста нужн...  \n",
       "2  сидельников андрей олег год р посадить каранти...  \n",
       "3  кемеровский область согласно постановление адм...  \n",
       "4  здравствовать мыть город кострома ввести огран...  "
      ]
     },
     "execution_count": 141,
     "metadata": {},
     "output_type": "execute_result"
    }
   ],
   "source": [
    "queries_data[\"tokens\"] = queries_data[\"Текст вопроса\"].progress_apply(tokenizer)\n",
    "queries_data[\"lemm\"] = queries_data[\"tokens\"].progress_apply(lemmatizer)\n",
    "queries_data.head()"
   ]
  },
  {
   "cell_type": "code",
   "execution_count": 13,
   "metadata": {},
   "outputs": [],
   "source": [
    "# answers_data[\"tokens\"] = answers_data[\"Текст ответа\"].progress_apply(tokenizer)\n",
    "# answers_data[\"lemm\"] = answers_data[\"tokens\"].progress_apply(lemmatizer)\n",
    "# answers_data.head()"
   ]
  },
  {
   "cell_type": "code",
   "execution_count": 142,
   "metadata": {},
   "outputs": [
    {
     "data": {
      "text/html": [
       "<div>\n",
       "<style scoped>\n",
       "    .dataframe tbody tr th:only-of-type {\n",
       "        vertical-align: middle;\n",
       "    }\n",
       "\n",
       "    .dataframe tbody tr th {\n",
       "        vertical-align: top;\n",
       "    }\n",
       "\n",
       "    .dataframe thead th {\n",
       "        text-align: right;\n",
       "    }\n",
       "</style>\n",
       "<table border=\"1\" class=\"dataframe\">\n",
       "  <thead>\n",
       "    <tr style=\"text-align: right;\">\n",
       "      <th></th>\n",
       "      <th>question</th>\n",
       "      <th>index</th>\n",
       "    </tr>\n",
       "  </thead>\n",
       "  <tbody>\n",
       "    <tr>\n",
       "      <th>1599</th>\n",
       "      <td>здравствовать просить объяснить требоваться ро...</td>\n",
       "      <td>308.0</td>\n",
       "    </tr>\n",
       "    <tr>\n",
       "      <th>1600</th>\n",
       "      <td>просьба дать пояснение срок предоставление рез...</td>\n",
       "      <td>308.0</td>\n",
       "    </tr>\n",
       "    <tr>\n",
       "      <th>1601</th>\n",
       "      <td>получить копия результат анализ предмет подтве...</td>\n",
       "      <td>6.0</td>\n",
       "    </tr>\n",
       "    <tr>\n",
       "      <th>1602</th>\n",
       "      <td>здравствовать возвращение заграницы течение х ...</td>\n",
       "      <td>308.0</td>\n",
       "    </tr>\n",
       "    <tr>\n",
       "      <th>1603</th>\n",
       "      <td>сообщить пожалуйста вправе открыть листок нетр...</td>\n",
       "      <td>57.0</td>\n",
       "    </tr>\n",
       "    <tr>\n",
       "      <th>1604</th>\n",
       "      <td>здравствовать звать александр архипов граждани...</td>\n",
       "      <td>308.0</td>\n",
       "    </tr>\n",
       "    <tr>\n",
       "      <th>1605</th>\n",
       "      <td>результат пцр мазка мещанинов константин валентин</td>\n",
       "      <td>6.0</td>\n",
       "    </tr>\n",
       "    <tr>\n",
       "      <th>1606</th>\n",
       "      <td>являться сотрудник министерство гражданский об...</td>\n",
       "      <td>1.0</td>\n",
       "    </tr>\n",
       "    <tr>\n",
       "      <th>1607</th>\n",
       "      <td>здравствовать нужно уточнить вопрос касаться в...</td>\n",
       "      <td>308.0</td>\n",
       "    </tr>\n",
       "    <tr>\n",
       "      <th>1608</th>\n",
       "      <td>здравствовать нужно уточнить вопрос касаться в...</td>\n",
       "      <td>308.0</td>\n",
       "    </tr>\n",
       "  </tbody>\n",
       "</table>\n",
       "</div>"
      ],
      "text/plain": [
       "                                               question  index\n",
       "1599  здравствовать просить объяснить требоваться ро...  308.0\n",
       "1600  просьба дать пояснение срок предоставление рез...  308.0\n",
       "1601  получить копия результат анализ предмет подтве...    6.0\n",
       "1602  здравствовать возвращение заграницы течение х ...  308.0\n",
       "1603  сообщить пожалуйста вправе открыть листок нетр...   57.0\n",
       "1604  здравствовать звать александр архипов граждани...  308.0\n",
       "1605  результат пцр мазка мещанинов константин валентин    6.0\n",
       "1606  являться сотрудник министерство гражданский об...    1.0\n",
       "1607  здравствовать нужно уточнить вопрос касаться в...  308.0\n",
       "1608  здравствовать нужно уточнить вопрос касаться в...  308.0"
      ]
     },
     "execution_count": 142,
     "metadata": {},
     "output_type": "execute_result"
    }
   ],
   "source": [
    "train = queries_data[[\"lemm\", \"Номер связки\\n\"]][:int(len(queries_data)*0.7)]\n",
    "train = train.rename(columns = {\"lemm\": \"question\", \"Номер связки\\n\": \"index\"}, inplace = False)\n",
    "train.tail(10)"
   ]
  },
  {
   "cell_type": "code",
   "execution_count": 143,
   "metadata": {},
   "outputs": [
    {
     "data": {
      "text/html": [
       "<div>\n",
       "<style scoped>\n",
       "    .dataframe tbody tr th:only-of-type {\n",
       "        vertical-align: middle;\n",
       "    }\n",
       "\n",
       "    .dataframe tbody tr th {\n",
       "        vertical-align: top;\n",
       "    }\n",
       "\n",
       "    .dataframe thead th {\n",
       "        text-align: right;\n",
       "    }\n",
       "</style>\n",
       "<table border=\"1\" class=\"dataframe\">\n",
       "  <thead>\n",
       "    <tr style=\"text-align: right;\">\n",
       "      <th></th>\n",
       "      <th>question</th>\n",
       "      <th>index</th>\n",
       "    </tr>\n",
       "  </thead>\n",
       "  <tbody>\n",
       "    <tr>\n",
       "      <th>1609</th>\n",
       "      <td>интересовать конкретно переход граница абхазия</td>\n",
       "      <td>308.0</td>\n",
       "    </tr>\n",
       "    <tr>\n",
       "      <th>1610</th>\n",
       "      <td>прибыть турция территория рф согласно постанов...</td>\n",
       "      <td>308.0</td>\n",
       "    </tr>\n",
       "    <tr>\n",
       "      <th>1611</th>\n",
       "      <td>интересовать вопрос гость приехать родитель гр...</td>\n",
       "      <td>308.0</td>\n",
       "    </tr>\n",
       "    <tr>\n",
       "      <th>1612</th>\n",
       "      <td>член семья подтвердить ковид вчера это узнать ...</td>\n",
       "      <td>1.0</td>\n",
       "    </tr>\n",
       "    <tr>\n",
       "      <th>1613</th>\n",
       "      <td>найти ответ свой вопрос срок прикрепление резу...</td>\n",
       "      <td>308.0</td>\n",
       "    </tr>\n",
       "    <tr>\n",
       "      <th>1614</th>\n",
       "      <td>турист прилёт рф турция успеть уложиться дневн...</td>\n",
       "      <td>308.0</td>\n",
       "    </tr>\n",
       "    <tr>\n",
       "      <th>1615</th>\n",
       "      <td>никакой образ помочь нужно обратиться прокурат...</td>\n",
       "      <td>1.0</td>\n",
       "    </tr>\n",
       "    <tr>\n",
       "      <th>1616</th>\n",
       "      <td>звать анастасий август семья получить рука уве...</td>\n",
       "      <td>308.0</td>\n",
       "    </tr>\n",
       "    <tr>\n",
       "      <th>1617</th>\n",
       "      <td>здравствовать звать елизавета николай поздняк ...</td>\n",
       "      <td>257.0</td>\n",
       "    </tr>\n",
       "    <tr>\n",
       "      <th>1618</th>\n",
       "      <td>пересекать граница машина весь равно нужно сда...</td>\n",
       "      <td>308.0</td>\n",
       "    </tr>\n",
       "  </tbody>\n",
       "</table>\n",
       "</div>"
      ],
      "text/plain": [
       "                                               question  index\n",
       "1609     интересовать конкретно переход граница абхазия  308.0\n",
       "1610  прибыть турция территория рф согласно постанов...  308.0\n",
       "1611  интересовать вопрос гость приехать родитель гр...  308.0\n",
       "1612  член семья подтвердить ковид вчера это узнать ...    1.0\n",
       "1613  найти ответ свой вопрос срок прикрепление резу...  308.0\n",
       "1614  турист прилёт рф турция успеть уложиться дневн...  308.0\n",
       "1615  никакой образ помочь нужно обратиться прокурат...    1.0\n",
       "1616  звать анастасий август семья получить рука уве...  308.0\n",
       "1617  здравствовать звать елизавета николай поздняк ...  257.0\n",
       "1618  пересекать граница машина весь равно нужно сда...  308.0"
      ]
     },
     "execution_count": 143,
     "metadata": {},
     "output_type": "execute_result"
    }
   ],
   "source": [
    "test = queries_data[[\"lemm\", \"Номер связки\\n\"]][int(len(queries_data)*0.7):]\n",
    "test = test.rename(columns = {\"lemm\": \"question\", \"Номер связки\\n\": \"index\"}, inplace = False)\n",
    "test.head(10)"
   ]
  },
  {
   "cell_type": "code",
   "execution_count": 144,
   "metadata": {},
   "outputs": [
    {
     "data": {
      "text/html": [
       "<div>\n",
       "<style scoped>\n",
       "    .dataframe tbody tr th:only-of-type {\n",
       "        vertical-align: middle;\n",
       "    }\n",
       "\n",
       "    .dataframe tbody tr th {\n",
       "        vertical-align: top;\n",
       "    }\n",
       "\n",
       "    .dataframe thead th {\n",
       "        text-align: right;\n",
       "    }\n",
       "</style>\n",
       "<table border=\"1\" class=\"dataframe\">\n",
       "  <thead>\n",
       "    <tr style=\"text-align: right;\">\n",
       "      <th></th>\n",
       "      <th>index</th>\n",
       "      <th>question</th>\n",
       "    </tr>\n",
       "  </thead>\n",
       "  <tbody>\n",
       "    <tr>\n",
       "      <th>750</th>\n",
       "      <td>45</td>\n",
       "      <td>ознакомиться нормативный методический документ...</td>\n",
       "    </tr>\n",
       "    <tr>\n",
       "      <th>751</th>\n",
       "      <td>21</td>\n",
       "      <td>правительство явно скрывать ситуация коронавирус</td>\n",
       "    </tr>\n",
       "    <tr>\n",
       "      <th>752</th>\n",
       "      <td>21</td>\n",
       "      <td>узнать реальный количество заболеть</td>\n",
       "    </tr>\n",
       "    <tr>\n",
       "      <th>753</th>\n",
       "      <td>21</td>\n",
       "      <td>эпидемиологический ситуация мир россия мыть ре...</td>\n",
       "    </tr>\n",
       "    <tr>\n",
       "      <th>754</th>\n",
       "      <td>21</td>\n",
       "      <td>страна неблагополучный эпидситуация</td>\n",
       "    </tr>\n",
       "  </tbody>\n",
       "</table>\n",
       "</div>"
      ],
      "text/plain": [
       "     index                                           question\n",
       "750     45  ознакомиться нормативный методический документ...\n",
       "751     21   правительство явно скрывать ситуация коронавирус\n",
       "752     21                узнать реальный количество заболеть\n",
       "753     21  эпидемиологический ситуация мир россия мыть ре...\n",
       "754     21                страна неблагополучный эпидситуация"
      ]
     },
     "execution_count": 144,
     "metadata": {},
     "output_type": "execute_result"
    }
   ],
   "source": [
    "question_index = {}\n",
    "for question_chunk, answer_n in answers_data[[\"Текст вопросов\", \"Номер связки\"]].values:\n",
    "    questions = question_chunk.split('\\n')\n",
    "    for q in questions:\n",
    "        lem_q = lemmatizer(tokenizer(q))\n",
    "        if lem_q != \"\":\n",
    "            question_index[lem_q] = answer_n\n",
    "            \n",
    "question_df = pd.DataFrame({\"question\": q, \"index\": i} for q,i in question_index.items())\n",
    "question_df.tail()"
   ]
  },
  {
   "cell_type": "code",
   "execution_count": 145,
   "metadata": {},
   "outputs": [
    {
     "data": {
      "text/html": [
       "<div>\n",
       "<style scoped>\n",
       "    .dataframe tbody tr th:only-of-type {\n",
       "        vertical-align: middle;\n",
       "    }\n",
       "\n",
       "    .dataframe tbody tr th {\n",
       "        vertical-align: top;\n",
       "    }\n",
       "\n",
       "    .dataframe thead th {\n",
       "        text-align: right;\n",
       "    }\n",
       "</style>\n",
       "<table border=\"1\" class=\"dataframe\">\n",
       "  <thead>\n",
       "    <tr style=\"text-align: right;\">\n",
       "      <th></th>\n",
       "      <th>question</th>\n",
       "      <th>index</th>\n",
       "    </tr>\n",
       "  </thead>\n",
       "  <tbody>\n",
       "    <tr>\n",
       "      <th>2359</th>\n",
       "      <td>ознакомиться нормативный методический документ...</td>\n",
       "      <td>45.0</td>\n",
       "    </tr>\n",
       "    <tr>\n",
       "      <th>2360</th>\n",
       "      <td>правительство явно скрывать ситуация коронавирус</td>\n",
       "      <td>21.0</td>\n",
       "    </tr>\n",
       "    <tr>\n",
       "      <th>2361</th>\n",
       "      <td>узнать реальный количество заболеть</td>\n",
       "      <td>21.0</td>\n",
       "    </tr>\n",
       "    <tr>\n",
       "      <th>2362</th>\n",
       "      <td>эпидемиологический ситуация мир россия мыть ре...</td>\n",
       "      <td>21.0</td>\n",
       "    </tr>\n",
       "    <tr>\n",
       "      <th>2363</th>\n",
       "      <td>страна неблагополучный эпидситуация</td>\n",
       "      <td>21.0</td>\n",
       "    </tr>\n",
       "  </tbody>\n",
       "</table>\n",
       "</div>"
      ],
      "text/plain": [
       "                                               question  index\n",
       "2359  ознакомиться нормативный методический документ...   45.0\n",
       "2360   правительство явно скрывать ситуация коронавирус   21.0\n",
       "2361                узнать реальный количество заболеть   21.0\n",
       "2362  эпидемиологический ситуация мир россия мыть ре...   21.0\n",
       "2363                страна неблагополучный эпидситуация   21.0"
      ]
     },
     "execution_count": 145,
     "metadata": {},
     "output_type": "execute_result"
    }
   ],
   "source": [
    "train = train.append(question_df, sort=False, ignore_index = True)\n",
    "train.tail()"
   ]
  },
  {
   "cell_type": "code",
   "execution_count": 146,
   "metadata": {},
   "outputs": [],
   "source": [
    "corpora = train[\"question\"]"
   ]
  },
  {
   "cell_type": "markdown",
   "metadata": {},
   "source": [
    "## Функция ранжирования bm25"
   ]
  },
  {
   "cell_type": "code",
   "execution_count": 75,
   "metadata": {},
   "outputs": [],
   "source": [
    "import numpy as np\n",
    "from sklearn.feature_extraction.text import CountVectorizer\n",
    "from math import log"
   ]
  },
  {
   "cell_type": "markdown",
   "metadata": {},
   "source": [
    "Для обратного индекса есть общепринятая формула для ранжирования *Okapi best match 25* ([Okapi BM25](https://ru.wikipedia.org/wiki/Okapi_BM25)).    \n",
    "Пусть дан запрос $Q$, содержащий слова  $q_1, ... , q_n$, тогда функция BM25 даёт следующую оценку релевантности документа $D$ запросу $Q$:\n",
    "\n",
    "$$ score(D, Q) = \\sum_{i}^{n} \\text{IDF}(q_i)*\\frac{TF(q_i,D)*(k+1)}{TF(q_i,D)+k(1-b+b\\frac{l(d)}{avgdl})} $$ \n",
    "где   \n",
    ">$TF(q_i,D)$ - частота слова $q_i$ в документе $D$      \n",
    "$l(d)$ - длина документа (количество слов в нём)   \n",
    "*avgdl* — средняя длина документа в коллекции    \n",
    "$k$ и $b$ — свободные коэффициенты, обычно их выбирают как $k$=2.0 и $b$=0.75   \n",
    "$$$$\n",
    "$\\text{IDF}(q_i)$ - это модернизированная версия IDF: \n",
    "$$\\text{IDF}(q_i) = \\log\\frac{N-n(q_i)+0.5}{n(q_i)+0.5},$$\n",
    ">> где $N$ - общее количество документов в коллекции   \n",
    "$n(q_i)$ — количество документов, содержащих $q_i$"
   ]
  },
  {
   "cell_type": "code",
   "execution_count": 147,
   "metadata": {},
   "outputs": [],
   "source": [
    "def get_bm25_components(corpora):\n",
    "    count_vectorizer = CountVectorizer(analyzer=str.split)\n",
    "    count_matrix = count_vectorizer.fit_transform(corpora)\n",
    "    print(count_matrix.shape)\n",
    "\n",
    "    k = 2.0\n",
    "    b = 0.75\n",
    "\n",
    "    length = count_matrix.sum(axis=1)\n",
    "    avgdl = length.mean()\n",
    "    tf_matrix = (count_matrix * (k+1)) / (count_matrix + k * (1 - b + b * (length/avgdl) ))\n",
    "    print(tf_matrix.shape)\n",
    "\n",
    "    n = (tf_matrix != 0).sum(axis=0)\n",
    "    N = count_matrix.shape[0]\n",
    "    def idf(i):\n",
    "        res = log( (N - n[0, i] + 0.5) / (n[0, i] + 0.5) )\n",
    "        return res\n",
    "\n",
    "    idf_vector = np.array([idf(i) for i in range(count_matrix.shape[1])])\n",
    "    print(idf_vector.shape)\n",
    "    \n",
    "    return count_vectorizer, tf_matrix, idf_vector"
   ]
  },
  {
   "cell_type": "markdown",
   "metadata": {},
   "source": [
    "### __Задача 1__:    \n",
    "Реализуйте поиск с метрикой *TF-IDF* через умножение матрицы на вектор.\n",
    "Что должно быть в реализации:\n",
    "- проиндексированная база, где каждый документ представлен в виде вектора TF-IDF\n",
    "- функция перевода входяшего запроса в вектор по метрике TF-IDF\n",
    "- ранжирование докуменов по близости к запросу по убыванию\n",
    "\n",
    "В качестве корпуса возьмите корпус вопросов в РПН по Covid2019. Он состоит из:\n",
    "> файл **answers_base.xlsx** - база ответов, у каждого ответа есть его номер, тематика и примеры вопросов, которые могут быть заданы к этому ответу. Сейчас проиндексировать надо именно примеры вопросов в качестве документов базы. Понимаете почему?\n",
    "\n",
    "> файл **queries_base.xlsx** - вопросы юзеров, к каждому из которых проставлен номер верного ответа из базы. Разделите эти вопросы в пропорции 70/30 на обучающую (проиндексированную как база) и тестовую (как запросы) выборки. \n"
   ]
  },
  {
   "cell_type": "code",
   "execution_count": 152,
   "metadata": {},
   "outputs": [],
   "source": [
    "from sklearn.feature_extraction.text import TfidfVectorizer"
   ]
  },
  {
   "cell_type": "code",
   "execution_count": 153,
   "metadata": {},
   "outputs": [
    {
     "data": {
      "text/plain": [
       "(2364, 5849)"
      ]
     },
     "execution_count": 153,
     "metadata": {},
     "output_type": "execute_result"
    }
   ],
   "source": [
    "vectorizer = TfidfVectorizer(analyzer=str.split)\n",
    "X = vectorizer.fit_transform(corpora)\n",
    "X.shape"
   ]
  },
  {
   "cell_type": "code",
   "execution_count": 154,
   "metadata": {},
   "outputs": [],
   "source": [
    "def tfidf_search(querry_lem):\n",
    "    q_vec = vectorizer.transform([querry_lem]).toarray()\n",
    "    res = np.dot(X.toarray(), q_vec.T)\n",
    "    index = np.argmax(res)\n",
    "    return train[\"index\"][index]"
   ]
  },
  {
   "cell_type": "code",
   "execution_count": 155,
   "metadata": {},
   "outputs": [
    {
     "name": "stdout",
     "output_type": "stream",
     "text": [
      "Здравствуйте! Проинформируйте, пожалуйста, нужен ли тест на COVID-19 при заселении в санаторий в августе 2020 года?\n",
      "\n",
      "324.0 324.0\n"
     ]
    }
   ],
   "source": [
    "test_id = 1\n",
    "test_q = queries_data[\"Текст вопроса\"][test_id]\n",
    "test_lem = queries_data[\"lemm\"][test_id]\n",
    "print(test_q)\n",
    "index = tfidf_search(test_lem)\n",
    "print(index, queries_data[\"Номер связки\\n\"][test_id])"
   ]
  },
  {
   "cell_type": "code",
   "execution_count": 156,
   "metadata": {},
   "outputs": [
    {
     "data": {
      "application/vnd.jupyter.widget-view+json": {
       "model_id": "a2b157d36d7449f0923380403ce39c84",
       "version_major": 2,
       "version_minor": 0
      },
      "text/plain": [
       "HBox(children=(IntProgress(value=0, max=690), HTML(value='')))"
      ]
     },
     "metadata": {},
     "output_type": "display_data"
    },
    {
     "name": "stdout",
     "output_type": "stream",
     "text": [
      "\n"
     ]
    }
   ],
   "source": [
    "test[\"pred_tfidf\"] = test[\"question\"].progress_apply(tfidf_search)"
   ]
  },
  {
   "cell_type": "code",
   "execution_count": 157,
   "metadata": {},
   "outputs": [
    {
     "data": {
      "text/plain": [
       "0.4927536231884058"
      ]
     },
     "execution_count": 157,
     "metadata": {},
     "output_type": "execute_result"
    }
   ],
   "source": [
    "(test[\"pred_tfidf\"] == test['index']).sum() / len(test)"
   ]
  },
  {
   "cell_type": "markdown",
   "metadata": {},
   "source": [
    "### __Задача 2__:    \n",
    "Аналогичная задаче1 с другой метрикой \n",
    "\n",
    "Реализуйте поиск с метрикой *BM25* через умножение матрицы на вектор. Что должно быть в реализации:\n",
    "\n",
    "- проиндексированная база, где каждый документ представлен в виде вектора BM25\n",
    "- функция перевода входяшего запроса в вектор по метрике BM25\n",
    "- ранжирование докуменов по близости к запросу по убыванию"
   ]
  },
  {
   "cell_type": "code",
   "execution_count": 148,
   "metadata": {},
   "outputs": [
    {
     "name": "stdout",
     "output_type": "stream",
     "text": [
      "(2364, 5849)\n",
      "(2364, 5849)\n",
      "(5849,)\n"
     ]
    }
   ],
   "source": [
    "count_vectorizer, tf_matrix, idf_vector = get_bm25_components(corpora)"
   ]
  },
  {
   "cell_type": "code",
   "execution_count": 149,
   "metadata": {},
   "outputs": [],
   "source": [
    "def bm25_search(q):\n",
    "    q_vec = count_vectorizer.transform([q]).toarray()\n",
    "    mask = q_vec * idf_vector\n",
    "    res = np.dot(tf_matrix, mask.T)\n",
    "    index = np.argmax(res)\n",
    "    return train[\"index\"][index]"
   ]
  },
  {
   "cell_type": "code",
   "execution_count": 150,
   "metadata": {},
   "outputs": [
    {
     "data": {
      "application/vnd.jupyter.widget-view+json": {
       "model_id": "42827f76af8a48868cdaa7f0bef4ffa8",
       "version_major": 2,
       "version_minor": 0
      },
      "text/plain": [
       "HBox(children=(IntProgress(value=0, max=690), HTML(value='')))"
      ]
     },
     "metadata": {},
     "output_type": "display_data"
    },
    {
     "name": "stdout",
     "output_type": "stream",
     "text": [
      "\n"
     ]
    }
   ],
   "source": [
    "test[\"pred_bm25\"] = test[\"question\"].progress_apply(bm25_search)"
   ]
  },
  {
   "cell_type": "code",
   "execution_count": 151,
   "metadata": {},
   "outputs": [
    {
     "data": {
      "text/plain": [
       "0.527536231884058"
      ]
     },
     "execution_count": 151,
     "metadata": {},
     "output_type": "execute_result"
    }
   ],
   "source": [
    "(test['pred_bm25'] == test['index']).sum() / len(test)"
   ]
  },
  {
   "cell_type": "markdown",
   "metadata": {},
   "source": [
    "## Посмотрим на результаты"
   ]
  },
  {
   "cell_type": "markdown",
   "metadata": {},
   "source": [
    "Типа хитмеп распредеделения кол-ва неомеров ответов"
   ]
  },
  {
   "cell_type": "code",
   "execution_count": 179,
   "metadata": {},
   "outputs": [
    {
     "data": {
      "text/html": [
       "<style  type=\"text/css\" >\n",
       "    #T_9eb661b8_0273_11eb_bf28_95e9ed17a2e4row0_col0 {\n",
       "            background-color:  #c9ddf0;\n",
       "            color:  #000000;\n",
       "        }    #T_9eb661b8_0273_11eb_bf28_95e9ed17a2e4row0_col1 {\n",
       "            background-color:  #d6e5f4;\n",
       "            color:  #000000;\n",
       "        }    #T_9eb661b8_0273_11eb_bf28_95e9ed17a2e4row0_col2 {\n",
       "            background-color:  #d1e2f3;\n",
       "            color:  #000000;\n",
       "        }    #T_9eb661b8_0273_11eb_bf28_95e9ed17a2e4row1_col0 {\n",
       "            background-color:  #f1f7fd;\n",
       "            color:  #000000;\n",
       "        }    #T_9eb661b8_0273_11eb_bf28_95e9ed17a2e4row1_col1 {\n",
       "            background-color:  #f5f9fe;\n",
       "            color:  #000000;\n",
       "        }    #T_9eb661b8_0273_11eb_bf28_95e9ed17a2e4row1_col2 {\n",
       "            background-color:  #f6faff;\n",
       "            color:  #000000;\n",
       "        }    #T_9eb661b8_0273_11eb_bf28_95e9ed17a2e4row2_col0 {\n",
       "            background-color:  #f2f7fd;\n",
       "            color:  #000000;\n",
       "        }    #T_9eb661b8_0273_11eb_bf28_95e9ed17a2e4row2_col1 {\n",
       "            background-color:  #f2f7fd;\n",
       "            color:  #000000;\n",
       "        }    #T_9eb661b8_0273_11eb_bf28_95e9ed17a2e4row2_col2 {\n",
       "            background-color:  #eff6fc;\n",
       "            color:  #000000;\n",
       "        }    #T_9eb661b8_0273_11eb_bf28_95e9ed17a2e4row3_col0 {\n",
       "            background-color:  #c4daee;\n",
       "            color:  #000000;\n",
       "        }    #T_9eb661b8_0273_11eb_bf28_95e9ed17a2e4row3_col1 {\n",
       "            background-color:  #87bddc;\n",
       "            color:  #000000;\n",
       "        }    #T_9eb661b8_0273_11eb_bf28_95e9ed17a2e4row3_col2 {\n",
       "            background-color:  #c3daee;\n",
       "            color:  #000000;\n",
       "        }    #T_9eb661b8_0273_11eb_bf28_95e9ed17a2e4row4_col0 {\n",
       "            background-color:  #f5f9fe;\n",
       "            color:  #000000;\n",
       "        }    #T_9eb661b8_0273_11eb_bf28_95e9ed17a2e4row4_col1 {\n",
       "            background-color:  #eef5fc;\n",
       "            color:  #000000;\n",
       "        }    #T_9eb661b8_0273_11eb_bf28_95e9ed17a2e4row4_col2 {\n",
       "            background-color:  #f2f8fd;\n",
       "            color:  #000000;\n",
       "        }    #T_9eb661b8_0273_11eb_bf28_95e9ed17a2e4row5_col0 {\n",
       "            background-color:  #e3eef8;\n",
       "            color:  #000000;\n",
       "        }    #T_9eb661b8_0273_11eb_bf28_95e9ed17a2e4row5_col1 {\n",
       "            background-color:  #e1edf8;\n",
       "            color:  #000000;\n",
       "        }    #T_9eb661b8_0273_11eb_bf28_95e9ed17a2e4row5_col2 {\n",
       "            background-color:  #d9e8f5;\n",
       "            color:  #000000;\n",
       "        }    #T_9eb661b8_0273_11eb_bf28_95e9ed17a2e4row6_col0 {\n",
       "            background-color:  #f7fbff;\n",
       "            color:  #000000;\n",
       "        }    #T_9eb661b8_0273_11eb_bf28_95e9ed17a2e4row6_col1 {\n",
       "            background-color:  #f7fbff;\n",
       "            color:  #000000;\n",
       "        }    #T_9eb661b8_0273_11eb_bf28_95e9ed17a2e4row6_col2 {\n",
       "            background-color:  #f7fbff;\n",
       "            color:  #000000;\n",
       "        }    #T_9eb661b8_0273_11eb_bf28_95e9ed17a2e4row7_col0 {\n",
       "            background-color:  #f7fbff;\n",
       "            color:  #000000;\n",
       "        }    #T_9eb661b8_0273_11eb_bf28_95e9ed17a2e4row7_col1 {\n",
       "            background-color:  #f6faff;\n",
       "            color:  #000000;\n",
       "        }    #T_9eb661b8_0273_11eb_bf28_95e9ed17a2e4row7_col2 {\n",
       "            background-color:  #f6faff;\n",
       "            color:  #000000;\n",
       "        }    #T_9eb661b8_0273_11eb_bf28_95e9ed17a2e4row8_col0 {\n",
       "            background-color:  #dfebf7;\n",
       "            color:  #000000;\n",
       "        }    #T_9eb661b8_0273_11eb_bf28_95e9ed17a2e4row8_col1 {\n",
       "            background-color:  #d9e7f5;\n",
       "            color:  #000000;\n",
       "        }    #T_9eb661b8_0273_11eb_bf28_95e9ed17a2e4row8_col2 {\n",
       "            background-color:  #dbe9f6;\n",
       "            color:  #000000;\n",
       "        }    #T_9eb661b8_0273_11eb_bf28_95e9ed17a2e4row9_col0 {\n",
       "            background-color:  #f3f8fe;\n",
       "            color:  #000000;\n",
       "        }    #T_9eb661b8_0273_11eb_bf28_95e9ed17a2e4row9_col1 {\n",
       "            background-color:  #f6faff;\n",
       "            color:  #000000;\n",
       "        }    #T_9eb661b8_0273_11eb_bf28_95e9ed17a2e4row9_col2 {\n",
       "            background-color:  #f6faff;\n",
       "            color:  #000000;\n",
       "        }    #T_9eb661b8_0273_11eb_bf28_95e9ed17a2e4row10_col0 {\n",
       "            background-color:  #f5fafe;\n",
       "            color:  #000000;\n",
       "        }    #T_9eb661b8_0273_11eb_bf28_95e9ed17a2e4row10_col1 {\n",
       "            background-color:  #f5fafe;\n",
       "            color:  #000000;\n",
       "        }    #T_9eb661b8_0273_11eb_bf28_95e9ed17a2e4row10_col2 {\n",
       "            background-color:  #f7fbff;\n",
       "            color:  #000000;\n",
       "        }    #T_9eb661b8_0273_11eb_bf28_95e9ed17a2e4row11_col0 {\n",
       "            background-color:  #f1f7fd;\n",
       "            color:  #000000;\n",
       "        }    #T_9eb661b8_0273_11eb_bf28_95e9ed17a2e4row11_col1 {\n",
       "            background-color:  #f0f6fd;\n",
       "            color:  #000000;\n",
       "        }    #T_9eb661b8_0273_11eb_bf28_95e9ed17a2e4row11_col2 {\n",
       "            background-color:  #f2f8fd;\n",
       "            color:  #000000;\n",
       "        }    #T_9eb661b8_0273_11eb_bf28_95e9ed17a2e4row12_col0 {\n",
       "            background-color:  #f7fbff;\n",
       "            color:  #000000;\n",
       "        }    #T_9eb661b8_0273_11eb_bf28_95e9ed17a2e4row12_col1 {\n",
       "            background-color:  #f7fbff;\n",
       "            color:  #000000;\n",
       "        }    #T_9eb661b8_0273_11eb_bf28_95e9ed17a2e4row12_col2 {\n",
       "            background-color:  #f7fbff;\n",
       "            color:  #000000;\n",
       "        }    #T_9eb661b8_0273_11eb_bf28_95e9ed17a2e4row13_col0 {\n",
       "            background-color:  #f2f7fd;\n",
       "            color:  #000000;\n",
       "        }    #T_9eb661b8_0273_11eb_bf28_95e9ed17a2e4row13_col1 {\n",
       "            background-color:  #e7f1fa;\n",
       "            color:  #000000;\n",
       "        }    #T_9eb661b8_0273_11eb_bf28_95e9ed17a2e4row13_col2 {\n",
       "            background-color:  #f0f6fd;\n",
       "            color:  #000000;\n",
       "        }    #T_9eb661b8_0273_11eb_bf28_95e9ed17a2e4row14_col0 {\n",
       "            background-color:  #eef5fc;\n",
       "            color:  #000000;\n",
       "        }    #T_9eb661b8_0273_11eb_bf28_95e9ed17a2e4row14_col1 {\n",
       "            background-color:  #ecf4fb;\n",
       "            color:  #000000;\n",
       "        }    #T_9eb661b8_0273_11eb_bf28_95e9ed17a2e4row14_col2 {\n",
       "            background-color:  #eaf2fb;\n",
       "            color:  #000000;\n",
       "        }    #T_9eb661b8_0273_11eb_bf28_95e9ed17a2e4row15_col0 {\n",
       "            background-color:  #f7fbff;\n",
       "            color:  #000000;\n",
       "        }    #T_9eb661b8_0273_11eb_bf28_95e9ed17a2e4row15_col1 {\n",
       "            background-color:  #f7fbff;\n",
       "            color:  #000000;\n",
       "        }    #T_9eb661b8_0273_11eb_bf28_95e9ed17a2e4row15_col2 {\n",
       "            background-color:  #f7fbff;\n",
       "            color:  #000000;\n",
       "        }    #T_9eb661b8_0273_11eb_bf28_95e9ed17a2e4row16_col0 {\n",
       "            background-color:  #f7fbff;\n",
       "            color:  #000000;\n",
       "        }    #T_9eb661b8_0273_11eb_bf28_95e9ed17a2e4row16_col1 {\n",
       "            background-color:  #f6faff;\n",
       "            color:  #000000;\n",
       "        }    #T_9eb661b8_0273_11eb_bf28_95e9ed17a2e4row16_col2 {\n",
       "            background-color:  #f7fbff;\n",
       "            color:  #000000;\n",
       "        }    #T_9eb661b8_0273_11eb_bf28_95e9ed17a2e4row17_col0 {\n",
       "            background-color:  #eff6fc;\n",
       "            color:  #000000;\n",
       "        }    #T_9eb661b8_0273_11eb_bf28_95e9ed17a2e4row17_col1 {\n",
       "            background-color:  #e3eef9;\n",
       "            color:  #000000;\n",
       "        }    #T_9eb661b8_0273_11eb_bf28_95e9ed17a2e4row17_col2 {\n",
       "            background-color:  #e7f1fa;\n",
       "            color:  #000000;\n",
       "        }    #T_9eb661b8_0273_11eb_bf28_95e9ed17a2e4row18_col0 {\n",
       "            background-color:  #f7fbff;\n",
       "            color:  #000000;\n",
       "        }    #T_9eb661b8_0273_11eb_bf28_95e9ed17a2e4row18_col1 {\n",
       "            background-color:  #f7fbff;\n",
       "            color:  #000000;\n",
       "        }    #T_9eb661b8_0273_11eb_bf28_95e9ed17a2e4row18_col2 {\n",
       "            background-color:  #f7fbff;\n",
       "            color:  #000000;\n",
       "        }    #T_9eb661b8_0273_11eb_bf28_95e9ed17a2e4row19_col0 {\n",
       "            background-color:  #f7fbff;\n",
       "            color:  #000000;\n",
       "        }    #T_9eb661b8_0273_11eb_bf28_95e9ed17a2e4row19_col1 {\n",
       "            background-color:  #f7fbff;\n",
       "            color:  #000000;\n",
       "        }    #T_9eb661b8_0273_11eb_bf28_95e9ed17a2e4row19_col2 {\n",
       "            background-color:  #f7fbff;\n",
       "            color:  #000000;\n",
       "        }    #T_9eb661b8_0273_11eb_bf28_95e9ed17a2e4row20_col0 {\n",
       "            background-color:  #f3f8fe;\n",
       "            color:  #000000;\n",
       "        }    #T_9eb661b8_0273_11eb_bf28_95e9ed17a2e4row20_col1 {\n",
       "            background-color:  #eef5fc;\n",
       "            color:  #000000;\n",
       "        }    #T_9eb661b8_0273_11eb_bf28_95e9ed17a2e4row20_col2 {\n",
       "            background-color:  #f4f9fe;\n",
       "            color:  #000000;\n",
       "        }    #T_9eb661b8_0273_11eb_bf28_95e9ed17a2e4row21_col0 {\n",
       "            background-color:  #e8f1fa;\n",
       "            color:  #000000;\n",
       "        }    #T_9eb661b8_0273_11eb_bf28_95e9ed17a2e4row21_col1 {\n",
       "            background-color:  #e3eef8;\n",
       "            color:  #000000;\n",
       "        }    #T_9eb661b8_0273_11eb_bf28_95e9ed17a2e4row21_col2 {\n",
       "            background-color:  #e8f1fa;\n",
       "            color:  #000000;\n",
       "        }    #T_9eb661b8_0273_11eb_bf28_95e9ed17a2e4row22_col0 {\n",
       "            background-color:  #f6faff;\n",
       "            color:  #000000;\n",
       "        }    #T_9eb661b8_0273_11eb_bf28_95e9ed17a2e4row22_col1 {\n",
       "            background-color:  #f0f6fd;\n",
       "            color:  #000000;\n",
       "        }    #T_9eb661b8_0273_11eb_bf28_95e9ed17a2e4row22_col2 {\n",
       "            background-color:  #f2f8fd;\n",
       "            color:  #000000;\n",
       "        }    #T_9eb661b8_0273_11eb_bf28_95e9ed17a2e4row23_col0 {\n",
       "            background-color:  #f7fbff;\n",
       "            color:  #000000;\n",
       "        }    #T_9eb661b8_0273_11eb_bf28_95e9ed17a2e4row23_col1 {\n",
       "            background-color:  #f7fbff;\n",
       "            color:  #000000;\n",
       "        }    #T_9eb661b8_0273_11eb_bf28_95e9ed17a2e4row23_col2 {\n",
       "            background-color:  #f7fbff;\n",
       "            color:  #000000;\n",
       "        }    #T_9eb661b8_0273_11eb_bf28_95e9ed17a2e4row24_col0 {\n",
       "            background-color:  #f6faff;\n",
       "            color:  #000000;\n",
       "        }    #T_9eb661b8_0273_11eb_bf28_95e9ed17a2e4row24_col1 {\n",
       "            background-color:  #f4f9fe;\n",
       "            color:  #000000;\n",
       "        }    #T_9eb661b8_0273_11eb_bf28_95e9ed17a2e4row24_col2 {\n",
       "            background-color:  #f7fbff;\n",
       "            color:  #000000;\n",
       "        }    #T_9eb661b8_0273_11eb_bf28_95e9ed17a2e4row25_col0 {\n",
       "            background-color:  #e3eef8;\n",
       "            color:  #000000;\n",
       "        }    #T_9eb661b8_0273_11eb_bf28_95e9ed17a2e4row25_col1 {\n",
       "            background-color:  #e4eff9;\n",
       "            color:  #000000;\n",
       "        }    #T_9eb661b8_0273_11eb_bf28_95e9ed17a2e4row25_col2 {\n",
       "            background-color:  #e5eff9;\n",
       "            color:  #000000;\n",
       "        }    #T_9eb661b8_0273_11eb_bf28_95e9ed17a2e4row26_col0 {\n",
       "            background-color:  #f6faff;\n",
       "            color:  #000000;\n",
       "        }    #T_9eb661b8_0273_11eb_bf28_95e9ed17a2e4row26_col1 {\n",
       "            background-color:  #f7fbff;\n",
       "            color:  #000000;\n",
       "        }    #T_9eb661b8_0273_11eb_bf28_95e9ed17a2e4row26_col2 {\n",
       "            background-color:  #f7fbff;\n",
       "            color:  #000000;\n",
       "        }    #T_9eb661b8_0273_11eb_bf28_95e9ed17a2e4row27_col0 {\n",
       "            background-color:  #f3f8fe;\n",
       "            color:  #000000;\n",
       "        }    #T_9eb661b8_0273_11eb_bf28_95e9ed17a2e4row27_col1 {\n",
       "            background-color:  #f2f8fd;\n",
       "            color:  #000000;\n",
       "        }    #T_9eb661b8_0273_11eb_bf28_95e9ed17a2e4row27_col2 {\n",
       "            background-color:  #f5f9fe;\n",
       "            color:  #000000;\n",
       "        }    #T_9eb661b8_0273_11eb_bf28_95e9ed17a2e4row28_col0 {\n",
       "            background-color:  #08306b;\n",
       "            color:  #f1f1f1;\n",
       "        }    #T_9eb661b8_0273_11eb_bf28_95e9ed17a2e4row28_col1 {\n",
       "            background-color:  #08306b;\n",
       "            color:  #f1f1f1;\n",
       "        }    #T_9eb661b8_0273_11eb_bf28_95e9ed17a2e4row28_col2 {\n",
       "            background-color:  #08306b;\n",
       "            color:  #f1f1f1;\n",
       "        }    #T_9eb661b8_0273_11eb_bf28_95e9ed17a2e4row29_col0 {\n",
       "            background-color:  #f7fbff;\n",
       "            color:  #000000;\n",
       "        }    #T_9eb661b8_0273_11eb_bf28_95e9ed17a2e4row29_col1 {\n",
       "            background-color:  #f7fbff;\n",
       "            color:  #000000;\n",
       "        }    #T_9eb661b8_0273_11eb_bf28_95e9ed17a2e4row29_col2 {\n",
       "            background-color:  #f7fbff;\n",
       "            color:  #000000;\n",
       "        }    #T_9eb661b8_0273_11eb_bf28_95e9ed17a2e4row30_col0 {\n",
       "            background-color:  #f5f9fe;\n",
       "            color:  #000000;\n",
       "        }    #T_9eb661b8_0273_11eb_bf28_95e9ed17a2e4row30_col1 {\n",
       "            background-color:  #f3f8fe;\n",
       "            color:  #000000;\n",
       "        }    #T_9eb661b8_0273_11eb_bf28_95e9ed17a2e4row30_col2 {\n",
       "            background-color:  #f3f8fe;\n",
       "            color:  #000000;\n",
       "        }    #T_9eb661b8_0273_11eb_bf28_95e9ed17a2e4row31_col0 {\n",
       "            background-color:  #f7fbff;\n",
       "            color:  #000000;\n",
       "        }    #T_9eb661b8_0273_11eb_bf28_95e9ed17a2e4row31_col1 {\n",
       "            background-color:  #f6faff;\n",
       "            color:  #000000;\n",
       "        }    #T_9eb661b8_0273_11eb_bf28_95e9ed17a2e4row31_col2 {\n",
       "            background-color:  #f7fbff;\n",
       "            color:  #000000;\n",
       "        }    #T_9eb661b8_0273_11eb_bf28_95e9ed17a2e4row32_col0 {\n",
       "            background-color:  #f7fbff;\n",
       "            color:  #000000;\n",
       "        }    #T_9eb661b8_0273_11eb_bf28_95e9ed17a2e4row32_col1 {\n",
       "            background-color:  #f7fbff;\n",
       "            color:  #000000;\n",
       "        }    #T_9eb661b8_0273_11eb_bf28_95e9ed17a2e4row32_col2 {\n",
       "            background-color:  #f7fbff;\n",
       "            color:  #000000;\n",
       "        }    #T_9eb661b8_0273_11eb_bf28_95e9ed17a2e4row33_col0 {\n",
       "            background-color:  #f6faff;\n",
       "            color:  #000000;\n",
       "        }    #T_9eb661b8_0273_11eb_bf28_95e9ed17a2e4row33_col1 {\n",
       "            background-color:  #f7fbff;\n",
       "            color:  #000000;\n",
       "        }    #T_9eb661b8_0273_11eb_bf28_95e9ed17a2e4row33_col2 {\n",
       "            background-color:  #f6faff;\n",
       "            color:  #000000;\n",
       "        }    #T_9eb661b8_0273_11eb_bf28_95e9ed17a2e4row34_col0 {\n",
       "            background-color:  #f7fbff;\n",
       "            color:  #000000;\n",
       "        }    #T_9eb661b8_0273_11eb_bf28_95e9ed17a2e4row34_col1 {\n",
       "            background-color:  #f7fbff;\n",
       "            color:  #000000;\n",
       "        }    #T_9eb661b8_0273_11eb_bf28_95e9ed17a2e4row34_col2 {\n",
       "            background-color:  #f7fbff;\n",
       "            color:  #000000;\n",
       "        }</style><table id=\"T_9eb661b8_0273_11eb_bf28_95e9ed17a2e4\" ><thead>    <tr>        <th class=\"blank level0\" ></th>        <th class=\"col_heading level0 col0\" >index</th>        <th class=\"col_heading level0 col1\" >pred_tfidf</th>        <th class=\"col_heading level0 col2\" >pred_bm25</th>    </tr></thead><tbody>\n",
       "                <tr>\n",
       "                        <th id=\"T_9eb661b8_0273_11eb_bf28_95e9ed17a2e4level0_row0\" class=\"row_heading level0 row0\" >1.0</th>\n",
       "                        <td id=\"T_9eb661b8_0273_11eb_bf28_95e9ed17a2e4row0_col0\" class=\"data row0 col0\" >72</td>\n",
       "                        <td id=\"T_9eb661b8_0273_11eb_bf28_95e9ed17a2e4row0_col1\" class=\"data row0 col1\" >44</td>\n",
       "                        <td id=\"T_9eb661b8_0273_11eb_bf28_95e9ed17a2e4row0_col2\" class=\"data row0 col2\" >57</td>\n",
       "            </tr>\n",
       "            <tr>\n",
       "                        <th id=\"T_9eb661b8_0273_11eb_bf28_95e9ed17a2e4level0_row1\" class=\"row_heading level0 row1\" >3.0</th>\n",
       "                        <td id=\"T_9eb661b8_0273_11eb_bf28_95e9ed17a2e4row1_col0\" class=\"data row1 col0\" >10</td>\n",
       "                        <td id=\"T_9eb661b8_0273_11eb_bf28_95e9ed17a2e4row1_col1\" class=\"data row1 col1\" >4</td>\n",
       "                        <td id=\"T_9eb661b8_0273_11eb_bf28_95e9ed17a2e4row1_col2\" class=\"data row1 col2\" >2</td>\n",
       "            </tr>\n",
       "            <tr>\n",
       "                        <th id=\"T_9eb661b8_0273_11eb_bf28_95e9ed17a2e4level0_row2\" class=\"row_heading level0 row2\" >5.0</th>\n",
       "                        <td id=\"T_9eb661b8_0273_11eb_bf28_95e9ed17a2e4row2_col0\" class=\"data row2 col0\" >9</td>\n",
       "                        <td id=\"T_9eb661b8_0273_11eb_bf28_95e9ed17a2e4row2_col1\" class=\"data row2 col1\" >8</td>\n",
       "                        <td id=\"T_9eb661b8_0273_11eb_bf28_95e9ed17a2e4row2_col2\" class=\"data row2 col2\" >12</td>\n",
       "            </tr>\n",
       "            <tr>\n",
       "                        <th id=\"T_9eb661b8_0273_11eb_bf28_95e9ed17a2e4level0_row3\" class=\"row_heading level0 row3\" >6.0</th>\n",
       "                        <td id=\"T_9eb661b8_0273_11eb_bf28_95e9ed17a2e4row3_col0\" class=\"data row3 col0\" >78</td>\n",
       "                        <td id=\"T_9eb661b8_0273_11eb_bf28_95e9ed17a2e4row3_col1\" class=\"data row3 col1\" >111</td>\n",
       "                        <td id=\"T_9eb661b8_0273_11eb_bf28_95e9ed17a2e4row3_col2\" class=\"data row3 col2\" >77</td>\n",
       "            </tr>\n",
       "            <tr>\n",
       "                        <th id=\"T_9eb661b8_0273_11eb_bf28_95e9ed17a2e4level0_row4\" class=\"row_heading level0 row4\" >10.0</th>\n",
       "                        <td id=\"T_9eb661b8_0273_11eb_bf28_95e9ed17a2e4row4_col0\" class=\"data row4 col0\" >4</td>\n",
       "                        <td id=\"T_9eb661b8_0273_11eb_bf28_95e9ed17a2e4row4_col1\" class=\"data row4 col1\" >12</td>\n",
       "                        <td id=\"T_9eb661b8_0273_11eb_bf28_95e9ed17a2e4row4_col2\" class=\"data row4 col2\" >8</td>\n",
       "            </tr>\n",
       "            <tr>\n",
       "                        <th id=\"T_9eb661b8_0273_11eb_bf28_95e9ed17a2e4level0_row5\" class=\"row_heading level0 row5\" >12.0</th>\n",
       "                        <td id=\"T_9eb661b8_0273_11eb_bf28_95e9ed17a2e4row5_col0\" class=\"data row5 col0\" >32</td>\n",
       "                        <td id=\"T_9eb661b8_0273_11eb_bf28_95e9ed17a2e4row5_col1\" class=\"data row5 col1\" >29</td>\n",
       "                        <td id=\"T_9eb661b8_0273_11eb_bf28_95e9ed17a2e4row5_col2\" class=\"data row5 col2\" >45</td>\n",
       "            </tr>\n",
       "            <tr>\n",
       "                        <th id=\"T_9eb661b8_0273_11eb_bf28_95e9ed17a2e4level0_row6\" class=\"row_heading level0 row6\" >21.0</th>\n",
       "                        <td id=\"T_9eb661b8_0273_11eb_bf28_95e9ed17a2e4row6_col0\" class=\"data row6 col0\" >1</td>\n",
       "                        <td id=\"T_9eb661b8_0273_11eb_bf28_95e9ed17a2e4row6_col1\" class=\"data row6 col1\" >0</td>\n",
       "                        <td id=\"T_9eb661b8_0273_11eb_bf28_95e9ed17a2e4row6_col2\" class=\"data row6 col2\" >0</td>\n",
       "            </tr>\n",
       "            <tr>\n",
       "                        <th id=\"T_9eb661b8_0273_11eb_bf28_95e9ed17a2e4level0_row7\" class=\"row_heading level0 row7\" >32.0</th>\n",
       "                        <td id=\"T_9eb661b8_0273_11eb_bf28_95e9ed17a2e4row7_col0\" class=\"data row7 col0\" >1</td>\n",
       "                        <td id=\"T_9eb661b8_0273_11eb_bf28_95e9ed17a2e4row7_col1\" class=\"data row7 col1\" >2</td>\n",
       "                        <td id=\"T_9eb661b8_0273_11eb_bf28_95e9ed17a2e4row7_col2\" class=\"data row7 col2\" >2</td>\n",
       "            </tr>\n",
       "            <tr>\n",
       "                        <th id=\"T_9eb661b8_0273_11eb_bf28_95e9ed17a2e4level0_row8\" class=\"row_heading level0 row8\" >37.0</th>\n",
       "                        <td id=\"T_9eb661b8_0273_11eb_bf28_95e9ed17a2e4row8_col0\" class=\"data row8 col0\" >37</td>\n",
       "                        <td id=\"T_9eb661b8_0273_11eb_bf28_95e9ed17a2e4row8_col1\" class=\"data row8 col1\" >40</td>\n",
       "                        <td id=\"T_9eb661b8_0273_11eb_bf28_95e9ed17a2e4row8_col2\" class=\"data row8 col2\" >42</td>\n",
       "            </tr>\n",
       "            <tr>\n",
       "                        <th id=\"T_9eb661b8_0273_11eb_bf28_95e9ed17a2e4level0_row9\" class=\"row_heading level0 row9\" >38.0</th>\n",
       "                        <td id=\"T_9eb661b8_0273_11eb_bf28_95e9ed17a2e4row9_col0\" class=\"data row9 col0\" >6</td>\n",
       "                        <td id=\"T_9eb661b8_0273_11eb_bf28_95e9ed17a2e4row9_col1\" class=\"data row9 col1\" >2</td>\n",
       "                        <td id=\"T_9eb661b8_0273_11eb_bf28_95e9ed17a2e4row9_col2\" class=\"data row9 col2\" >2</td>\n",
       "            </tr>\n",
       "            <tr>\n",
       "                        <th id=\"T_9eb661b8_0273_11eb_bf28_95e9ed17a2e4level0_row10\" class=\"row_heading level0 row10\" >43.0</th>\n",
       "                        <td id=\"T_9eb661b8_0273_11eb_bf28_95e9ed17a2e4row10_col0\" class=\"data row10 col0\" >3</td>\n",
       "                        <td id=\"T_9eb661b8_0273_11eb_bf28_95e9ed17a2e4row10_col1\" class=\"data row10 col1\" >3</td>\n",
       "                        <td id=\"T_9eb661b8_0273_11eb_bf28_95e9ed17a2e4row10_col2\" class=\"data row10 col2\" >1</td>\n",
       "            </tr>\n",
       "            <tr>\n",
       "                        <th id=\"T_9eb661b8_0273_11eb_bf28_95e9ed17a2e4level0_row11\" class=\"row_heading level0 row11\" >45.0</th>\n",
       "                        <td id=\"T_9eb661b8_0273_11eb_bf28_95e9ed17a2e4row11_col0\" class=\"data row11 col0\" >10</td>\n",
       "                        <td id=\"T_9eb661b8_0273_11eb_bf28_95e9ed17a2e4row11_col1\" class=\"data row11 col1\" >10</td>\n",
       "                        <td id=\"T_9eb661b8_0273_11eb_bf28_95e9ed17a2e4row11_col2\" class=\"data row11 col2\" >7</td>\n",
       "            </tr>\n",
       "            <tr>\n",
       "                        <th id=\"T_9eb661b8_0273_11eb_bf28_95e9ed17a2e4level0_row12\" class=\"row_heading level0 row12\" >56.0</th>\n",
       "                        <td id=\"T_9eb661b8_0273_11eb_bf28_95e9ed17a2e4row12_col0\" class=\"data row12 col0\" >1</td>\n",
       "                        <td id=\"T_9eb661b8_0273_11eb_bf28_95e9ed17a2e4row12_col1\" class=\"data row12 col1\" >0</td>\n",
       "                        <td id=\"T_9eb661b8_0273_11eb_bf28_95e9ed17a2e4row12_col2\" class=\"data row12 col2\" >0</td>\n",
       "            </tr>\n",
       "            <tr>\n",
       "                        <th id=\"T_9eb661b8_0273_11eb_bf28_95e9ed17a2e4level0_row13\" class=\"row_heading level0 row13\" >57.0</th>\n",
       "                        <td id=\"T_9eb661b8_0273_11eb_bf28_95e9ed17a2e4row13_col0\" class=\"data row13 col0\" >9</td>\n",
       "                        <td id=\"T_9eb661b8_0273_11eb_bf28_95e9ed17a2e4row13_col1\" class=\"data row13 col1\" >21</td>\n",
       "                        <td id=\"T_9eb661b8_0273_11eb_bf28_95e9ed17a2e4row13_col2\" class=\"data row13 col2\" >11</td>\n",
       "            </tr>\n",
       "            <tr>\n",
       "                        <th id=\"T_9eb661b8_0273_11eb_bf28_95e9ed17a2e4level0_row14\" class=\"row_heading level0 row14\" >70.0</th>\n",
       "                        <td id=\"T_9eb661b8_0273_11eb_bf28_95e9ed17a2e4row14_col0\" class=\"data row14 col0\" >15</td>\n",
       "                        <td id=\"T_9eb661b8_0273_11eb_bf28_95e9ed17a2e4row14_col1\" class=\"data row14 col1\" >15</td>\n",
       "                        <td id=\"T_9eb661b8_0273_11eb_bf28_95e9ed17a2e4row14_col2\" class=\"data row14 col2\" >20</td>\n",
       "            </tr>\n",
       "            <tr>\n",
       "                        <th id=\"T_9eb661b8_0273_11eb_bf28_95e9ed17a2e4level0_row15\" class=\"row_heading level0 row15\" >74.0</th>\n",
       "                        <td id=\"T_9eb661b8_0273_11eb_bf28_95e9ed17a2e4row15_col0\" class=\"data row15 col0\" >0</td>\n",
       "                        <td id=\"T_9eb661b8_0273_11eb_bf28_95e9ed17a2e4row15_col1\" class=\"data row15 col1\" >0</td>\n",
       "                        <td id=\"T_9eb661b8_0273_11eb_bf28_95e9ed17a2e4row15_col2\" class=\"data row15 col2\" >1</td>\n",
       "            </tr>\n",
       "            <tr>\n",
       "                        <th id=\"T_9eb661b8_0273_11eb_bf28_95e9ed17a2e4level0_row16\" class=\"row_heading level0 row16\" >78.0</th>\n",
       "                        <td id=\"T_9eb661b8_0273_11eb_bf28_95e9ed17a2e4row16_col0\" class=\"data row16 col0\" >0</td>\n",
       "                        <td id=\"T_9eb661b8_0273_11eb_bf28_95e9ed17a2e4row16_col1\" class=\"data row16 col1\" >2</td>\n",
       "                        <td id=\"T_9eb661b8_0273_11eb_bf28_95e9ed17a2e4row16_col2\" class=\"data row16 col2\" >0</td>\n",
       "            </tr>\n",
       "            <tr>\n",
       "                        <th id=\"T_9eb661b8_0273_11eb_bf28_95e9ed17a2e4level0_row17\" class=\"row_heading level0 row17\" >79.0</th>\n",
       "                        <td id=\"T_9eb661b8_0273_11eb_bf28_95e9ed17a2e4row17_col0\" class=\"data row17 col0\" >13</td>\n",
       "                        <td id=\"T_9eb661b8_0273_11eb_bf28_95e9ed17a2e4row17_col1\" class=\"data row17 col1\" >26</td>\n",
       "                        <td id=\"T_9eb661b8_0273_11eb_bf28_95e9ed17a2e4row17_col2\" class=\"data row17 col2\" >24</td>\n",
       "            </tr>\n",
       "            <tr>\n",
       "                        <th id=\"T_9eb661b8_0273_11eb_bf28_95e9ed17a2e4level0_row18\" class=\"row_heading level0 row18\" >82.0</th>\n",
       "                        <td id=\"T_9eb661b8_0273_11eb_bf28_95e9ed17a2e4row18_col0\" class=\"data row18 col0\" >0</td>\n",
       "                        <td id=\"T_9eb661b8_0273_11eb_bf28_95e9ed17a2e4row18_col1\" class=\"data row18 col1\" >1</td>\n",
       "                        <td id=\"T_9eb661b8_0273_11eb_bf28_95e9ed17a2e4row18_col2\" class=\"data row18 col2\" >0</td>\n",
       "            </tr>\n",
       "            <tr>\n",
       "                        <th id=\"T_9eb661b8_0273_11eb_bf28_95e9ed17a2e4level0_row19\" class=\"row_heading level0 row19\" >94.0</th>\n",
       "                        <td id=\"T_9eb661b8_0273_11eb_bf28_95e9ed17a2e4row19_col0\" class=\"data row19 col0\" >1</td>\n",
       "                        <td id=\"T_9eb661b8_0273_11eb_bf28_95e9ed17a2e4row19_col1\" class=\"data row19 col1\" >1</td>\n",
       "                        <td id=\"T_9eb661b8_0273_11eb_bf28_95e9ed17a2e4row19_col2\" class=\"data row19 col2\" >1</td>\n",
       "            </tr>\n",
       "            <tr>\n",
       "                        <th id=\"T_9eb661b8_0273_11eb_bf28_95e9ed17a2e4level0_row20\" class=\"row_heading level0 row20\" >132.0</th>\n",
       "                        <td id=\"T_9eb661b8_0273_11eb_bf28_95e9ed17a2e4row20_col0\" class=\"data row20 col0\" >6</td>\n",
       "                        <td id=\"T_9eb661b8_0273_11eb_bf28_95e9ed17a2e4row20_col1\" class=\"data row20 col1\" >13</td>\n",
       "                        <td id=\"T_9eb661b8_0273_11eb_bf28_95e9ed17a2e4row20_col2\" class=\"data row20 col2\" >5</td>\n",
       "            </tr>\n",
       "            <tr>\n",
       "                        <th id=\"T_9eb661b8_0273_11eb_bf28_95e9ed17a2e4level0_row21\" class=\"row_heading level0 row21\" >135.0</th>\n",
       "                        <td id=\"T_9eb661b8_0273_11eb_bf28_95e9ed17a2e4row21_col0\" class=\"data row21 col0\" >23</td>\n",
       "                        <td id=\"T_9eb661b8_0273_11eb_bf28_95e9ed17a2e4row21_col1\" class=\"data row21 col1\" >27</td>\n",
       "                        <td id=\"T_9eb661b8_0273_11eb_bf28_95e9ed17a2e4row21_col2\" class=\"data row21 col2\" >23</td>\n",
       "            </tr>\n",
       "            <tr>\n",
       "                        <th id=\"T_9eb661b8_0273_11eb_bf28_95e9ed17a2e4level0_row22\" class=\"row_heading level0 row22\" >173.0</th>\n",
       "                        <td id=\"T_9eb661b8_0273_11eb_bf28_95e9ed17a2e4row22_col0\" class=\"data row22 col0\" >2</td>\n",
       "                        <td id=\"T_9eb661b8_0273_11eb_bf28_95e9ed17a2e4row22_col1\" class=\"data row22 col1\" >10</td>\n",
       "                        <td id=\"T_9eb661b8_0273_11eb_bf28_95e9ed17a2e4row22_col2\" class=\"data row22 col2\" >8</td>\n",
       "            </tr>\n",
       "            <tr>\n",
       "                        <th id=\"T_9eb661b8_0273_11eb_bf28_95e9ed17a2e4level0_row23\" class=\"row_heading level0 row23\" >210.0</th>\n",
       "                        <td id=\"T_9eb661b8_0273_11eb_bf28_95e9ed17a2e4row23_col0\" class=\"data row23 col0\" >0</td>\n",
       "                        <td id=\"T_9eb661b8_0273_11eb_bf28_95e9ed17a2e4row23_col1\" class=\"data row23 col1\" >1</td>\n",
       "                        <td id=\"T_9eb661b8_0273_11eb_bf28_95e9ed17a2e4row23_col2\" class=\"data row23 col2\" >0</td>\n",
       "            </tr>\n",
       "            <tr>\n",
       "                        <th id=\"T_9eb661b8_0273_11eb_bf28_95e9ed17a2e4level0_row24\" class=\"row_heading level0 row24\" >246.0</th>\n",
       "                        <td id=\"T_9eb661b8_0273_11eb_bf28_95e9ed17a2e4row24_col0\" class=\"data row24 col0\" >2</td>\n",
       "                        <td id=\"T_9eb661b8_0273_11eb_bf28_95e9ed17a2e4row24_col1\" class=\"data row24 col1\" >5</td>\n",
       "                        <td id=\"T_9eb661b8_0273_11eb_bf28_95e9ed17a2e4row24_col2\" class=\"data row24 col2\" >1</td>\n",
       "            </tr>\n",
       "            <tr>\n",
       "                        <th id=\"T_9eb661b8_0273_11eb_bf28_95e9ed17a2e4level0_row25\" class=\"row_heading level0 row25\" >257.0</th>\n",
       "                        <td id=\"T_9eb661b8_0273_11eb_bf28_95e9ed17a2e4row25_col0\" class=\"data row25 col0\" >32</td>\n",
       "                        <td id=\"T_9eb661b8_0273_11eb_bf28_95e9ed17a2e4row25_col1\" class=\"data row25 col1\" >25</td>\n",
       "                        <td id=\"T_9eb661b8_0273_11eb_bf28_95e9ed17a2e4row25_col2\" class=\"data row25 col2\" >27</td>\n",
       "            </tr>\n",
       "            <tr>\n",
       "                        <th id=\"T_9eb661b8_0273_11eb_bf28_95e9ed17a2e4level0_row26\" class=\"row_heading level0 row26\" >270.0</th>\n",
       "                        <td id=\"T_9eb661b8_0273_11eb_bf28_95e9ed17a2e4row26_col0\" class=\"data row26 col0\" >2</td>\n",
       "                        <td id=\"T_9eb661b8_0273_11eb_bf28_95e9ed17a2e4row26_col1\" class=\"data row26 col1\" >1</td>\n",
       "                        <td id=\"T_9eb661b8_0273_11eb_bf28_95e9ed17a2e4row26_col2\" class=\"data row26 col2\" >1</td>\n",
       "            </tr>\n",
       "            <tr>\n",
       "                        <th id=\"T_9eb661b8_0273_11eb_bf28_95e9ed17a2e4level0_row27\" class=\"row_heading level0 row27\" >286.0</th>\n",
       "                        <td id=\"T_9eb661b8_0273_11eb_bf28_95e9ed17a2e4row27_col0\" class=\"data row27 col0\" >7</td>\n",
       "                        <td id=\"T_9eb661b8_0273_11eb_bf28_95e9ed17a2e4row27_col1\" class=\"data row27 col1\" >7</td>\n",
       "                        <td id=\"T_9eb661b8_0273_11eb_bf28_95e9ed17a2e4row27_col2\" class=\"data row27 col2\" >4</td>\n",
       "            </tr>\n",
       "            <tr>\n",
       "                        <th id=\"T_9eb661b8_0273_11eb_bf28_95e9ed17a2e4level0_row28\" class=\"row_heading level0 row28\" >308.0</th>\n",
       "                        <td id=\"T_9eb661b8_0273_11eb_bf28_95e9ed17a2e4row28_col0\" class=\"data row28 col0\" >305</td>\n",
       "                        <td id=\"T_9eb661b8_0273_11eb_bf28_95e9ed17a2e4row28_col1\" class=\"data row28 col1\" >258</td>\n",
       "                        <td id=\"T_9eb661b8_0273_11eb_bf28_95e9ed17a2e4row28_col2\" class=\"data row28 col2\" >297</td>\n",
       "            </tr>\n",
       "            <tr>\n",
       "                        <th id=\"T_9eb661b8_0273_11eb_bf28_95e9ed17a2e4level0_row29\" class=\"row_heading level0 row29\" >316.0</th>\n",
       "                        <td id=\"T_9eb661b8_0273_11eb_bf28_95e9ed17a2e4row29_col0\" class=\"data row29 col0\" >0</td>\n",
       "                        <td id=\"T_9eb661b8_0273_11eb_bf28_95e9ed17a2e4row29_col1\" class=\"data row29 col1\" >1</td>\n",
       "                        <td id=\"T_9eb661b8_0273_11eb_bf28_95e9ed17a2e4row29_col2\" class=\"data row29 col2\" >1</td>\n",
       "            </tr>\n",
       "            <tr>\n",
       "                        <th id=\"T_9eb661b8_0273_11eb_bf28_95e9ed17a2e4level0_row30\" class=\"row_heading level0 row30\" >324.0</th>\n",
       "                        <td id=\"T_9eb661b8_0273_11eb_bf28_95e9ed17a2e4row30_col0\" class=\"data row30 col0\" >4</td>\n",
       "                        <td id=\"T_9eb661b8_0273_11eb_bf28_95e9ed17a2e4row30_col1\" class=\"data row30 col1\" >6</td>\n",
       "                        <td id=\"T_9eb661b8_0273_11eb_bf28_95e9ed17a2e4row30_col2\" class=\"data row30 col2\" >6</td>\n",
       "            </tr>\n",
       "            <tr>\n",
       "                        <th id=\"T_9eb661b8_0273_11eb_bf28_95e9ed17a2e4level0_row31\" class=\"row_heading level0 row31\" >325.0</th>\n",
       "                        <td id=\"T_9eb661b8_0273_11eb_bf28_95e9ed17a2e4row31_col0\" class=\"data row31 col0\" >1</td>\n",
       "                        <td id=\"T_9eb661b8_0273_11eb_bf28_95e9ed17a2e4row31_col1\" class=\"data row31 col1\" >2</td>\n",
       "                        <td id=\"T_9eb661b8_0273_11eb_bf28_95e9ed17a2e4row31_col2\" class=\"data row31 col2\" >0</td>\n",
       "            </tr>\n",
       "            <tr>\n",
       "                        <th id=\"T_9eb661b8_0273_11eb_bf28_95e9ed17a2e4level0_row32\" class=\"row_heading level0 row32\" >326.0</th>\n",
       "                        <td id=\"T_9eb661b8_0273_11eb_bf28_95e9ed17a2e4row32_col0\" class=\"data row32 col0\" >0</td>\n",
       "                        <td id=\"T_9eb661b8_0273_11eb_bf28_95e9ed17a2e4row32_col1\" class=\"data row32 col1\" >1</td>\n",
       "                        <td id=\"T_9eb661b8_0273_11eb_bf28_95e9ed17a2e4row32_col2\" class=\"data row32 col2\" >1</td>\n",
       "            </tr>\n",
       "            <tr>\n",
       "                        <th id=\"T_9eb661b8_0273_11eb_bf28_95e9ed17a2e4level0_row33\" class=\"row_heading level0 row33\" >327.0</th>\n",
       "                        <td id=\"T_9eb661b8_0273_11eb_bf28_95e9ed17a2e4row33_col0\" class=\"data row33 col0\" >2</td>\n",
       "                        <td id=\"T_9eb661b8_0273_11eb_bf28_95e9ed17a2e4row33_col1\" class=\"data row33 col1\" >1</td>\n",
       "                        <td id=\"T_9eb661b8_0273_11eb_bf28_95e9ed17a2e4row33_col2\" class=\"data row33 col2\" >2</td>\n",
       "            </tr>\n",
       "            <tr>\n",
       "                        <th id=\"T_9eb661b8_0273_11eb_bf28_95e9ed17a2e4level0_row34\" class=\"row_heading level0 row34\" >328.0</th>\n",
       "                        <td id=\"T_9eb661b8_0273_11eb_bf28_95e9ed17a2e4row34_col0\" class=\"data row34 col0\" >0</td>\n",
       "                        <td id=\"T_9eb661b8_0273_11eb_bf28_95e9ed17a2e4row34_col1\" class=\"data row34 col1\" >1</td>\n",
       "                        <td id=\"T_9eb661b8_0273_11eb_bf28_95e9ed17a2e4row34_col2\" class=\"data row34 col2\" >0</td>\n",
       "            </tr>\n",
       "    </tbody></table>"
      ],
      "text/plain": [
       "<pandas.io.formats.style.Styler at 0x24e604e20b8>"
      ]
     },
     "execution_count": 179,
     "metadata": {},
     "output_type": "execute_result"
    }
   ],
   "source": [
    "heat = test[['index', 'pred_tfidf', 'pred_bm25']].apply(pd.Series.value_counts).fillna(0)\n",
    "heat.style.background_gradient(cmap='Blues')"
   ]
  },
  {
   "cell_type": "code",
   "execution_count": 159,
   "metadata": {},
   "outputs": [],
   "source": [
    "import matplotlib.pyplot as plt\n",
    "import seaborn as sns\n",
    "sns.set(style=\"whitegrid\")"
   ]
  },
  {
   "cell_type": "code",
   "execution_count": 197,
   "metadata": {},
   "outputs": [],
   "source": [
    "tf_true = test[test['pred_tfidf'] == test['index']][['pred_tfidf']].apply(pd.Series.value_counts).rename(columns={'pred_tfidf': 'tf_true'})\n",
    "tf_false = test[test['pred_tfidf'] != test['index']][['pred_tfidf']].apply(pd.Series.value_counts).rename(columns={'pred_tfidf': 'tf_false'})\n",
    "bm_true = test[test['pred_bm25'] == test['index']][['pred_bm25']].apply(pd.Series.value_counts).rename(columns={'pred_bm25': 'bm_true'})\n",
    "bm_false = test[test['pred_bm25'] != test['index']][['pred_bm25']].apply(pd.Series.value_counts).rename(columns={'pred_bm25': 'bm_false'})"
   ]
  },
  {
   "cell_type": "code",
   "execution_count": 198,
   "metadata": {},
   "outputs": [],
   "source": [
    "result = pd.concat([tf_true, tf_false, bm_true, bm_false], axis=1, sort=False).fillna(0)"
   ]
  },
  {
   "cell_type": "code",
   "execution_count": 231,
   "metadata": {},
   "outputs": [
    {
     "data": {
      "image/png": "[encoded data removed]",
      "text/plain": [
       "<Figure size 1440x720 with 1 Axes>"
      ]
     },
     "metadata": {},
     "output_type": "display_data"
    }
   ],
   "source": [
    "t = [str(int(i)) for i in result.index]\n",
    "plt.figure(figsize=(20,10))\n",
    "plt.plot(t, result['tf_true'], color='g', marker='o', linestyle='dashed')\n",
    "plt.plot(t, result['tf_false'], color='g', marker='X', linestyle='none')\n",
    "plt.plot(t, result['bm_true'], color='b', marker='o', linestyle='dashed')\n",
    "plt.plot(t, result['bm_false'], color='b', marker='X', linestyle='none')\n",
    "#plt.ylim(top=100)\n",
    "plt.legend(labels=['tf_true', 'tf_false', 'bm_true', 'bm_false'])\n",
    "plt.show()"
   ]
  },
  {
   "cell_type": "code",
   "execution_count": 160,
   "metadata": {},
   "outputs": [
    {
     "data": {
      "image/png": "[encoded data removed]",
      "text/plain": [
       "<Figure size 720x360 with 2 Axes>"
      ]
     },
     "metadata": {},
     "output_type": "display_data"
    }
   ],
   "source": [
    "corr_df = test[[\"index\", \"pred_tfidf\", \"pred_bm25\"]].corr()\n",
    "\n",
    "fig, ax = plt.subplots(figsize=(10, 5))\n",
    "\n",
    "sns.heatmap(\n",
    "    data=corr_df, \n",
    "    annot=True,\n",
    "    ax=ax\n",
    ")\n",
    "plt.title(\"корреляция между правильными ответами и найденными двумя алгоритмами\")\n",
    "plt.show()"
   ]
  },
  {
   "cell_type": "markdown",
   "metadata": {},
   "source": [
    "_Анна Полянская, БКЛ171_"
   ]
  }
 ],
 "metadata": {
  "kernelspec": {
   "display_name": "Python 3",
   "language": "python",
   "name": "python3"
  },
  "language_info": {
   "codemirror_mode": {
    "name": "ipython",
    "version": 3
   },
   "file_extension": ".py",
   "mimetype": "text/x-python",
   "name": "python",
   "nbconvert_exporter": "python",
   "pygments_lexer": "ipython3",
   "version": "3.7.3"
  }
 },
 "nbformat": 4,
 "nbformat_minor": 2
}
