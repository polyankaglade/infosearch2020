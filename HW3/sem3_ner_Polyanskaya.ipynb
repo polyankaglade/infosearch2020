{
 "cells": [
  {
   "cell_type": "markdown",
   "metadata": {},
   "source": [
    "## Лекция 3  NER"
   ]
  },
  {
   "cell_type": "markdown",
   "metadata": {},
   "source": [
    "### __Задача 1__:\n",
    "\n",
    "Реализуйте 2 функции препроцессинга:\n",
    "\n",
    "- Удалить именованные сущности с помощью natasha (https://github.com/natasha/yargy)\n",
    "- Удалить именованные сущности с помощью deepmipt (https://github.com/deepmipt/ner)"
   ]
  },
  {
   "cell_type": "code",
   "execution_count": 116,
   "metadata": {},
   "outputs": [],
   "source": [
    "test_text = '''Добрый день!\n",
    "\n",
    "Пожалуйста, уточните, на данный момент для посещения Камчатки требуется ли предоставление отрицательных тестов на COVID19 или какие-либо другие документов, помимо паспорта гражданина РФ для прибывающих из Москвы регулярным рейсом?\n",
    "\n",
    "Нужно ли оформлять какие-либо пропуски для пребывания на тер-рии Камчатки? Целью поездки явлеятся туризм, проживание заранее оплачивается, экскурсионные услуги будут организованы непосредственно через отель. Есть ли другие ограничения или меры, о которых необходимо знать туристам, которые отправляются на Камчатку (11-16 августа)\n",
    "\n",
    "\n",
    "Заранее спасибо\n",
    "\n",
    "Елена Мягкова\n",
    "'''"
   ]
  },
  {
   "cell_type": "code",
   "execution_count": 117,
   "metadata": {},
   "outputs": [],
   "source": [
    "from natasha import (\n",
    "    Segmenter,\n",
    "    \n",
    "    NewsEmbedding,\n",
    "    NewsNERTagger,\n",
    "\n",
    "    Doc\n",
    ")\n",
    "\n",
    "segmenter = Segmenter()\n",
    "\n",
    "emb = NewsEmbedding()\n",
    "ner_tagger = NewsNERTagger(emb)"
   ]
  },
  {
   "cell_type": "code",
   "execution_count": 118,
   "metadata": {},
   "outputs": [],
   "source": [
    "import re\n",
    "from razdel import tokenize, sentenize\n",
    "from nltk.corpus import stopwords\n",
    "stops = stopwords.words(\"russian\")\n",
    "stops.extend(['здравствовать', 'добрый', 'день', 'спасибо', 'пожалуйста'])\n",
    "\n",
    "from pymorphy2 import MorphAnalyzer\n",
    "morph = MorphAnalyzer()\n",
    "\n",
    "def tokenizer(text_data):\n",
    "    tokens = [_.text for _ in list(tokenize(str(text_data).lower())) if not re.search('[^а-яА-ЯёЁa-zA-z]', _.text)]\n",
    "    return \" \".join(tokens)\n",
    "\n",
    "def lemmatizer(tokens):\n",
    "    lem_text = []\n",
    "    for word in tokens.split(\" \"):\n",
    "        lem = morph.parse(word)[0].normal_form\n",
    "        if lem not in stops:\n",
    "            lem_text.append(lem)\n",
    "    return ' '.join(lem_text)"
   ]
  },
  {
   "cell_type": "code",
   "execution_count": 119,
   "metadata": {},
   "outputs": [],
   "source": [
    "from tqdm.auto import tqdm\n",
    "tqdm.pandas()"
   ]
  },
  {
   "cell_type": "code",
   "execution_count": 120,
   "metadata": {},
   "outputs": [],
   "source": [
    "def preprocess_with_natasha(text: str) -> str:\n",
    "    #text = text.replace('\\n', ' ')\n",
    "    doc = Doc(text)\n",
    "    doc.segment(segmenter)\n",
    "    doc.tag_ner(ner_tagger)\n",
    "    for span in doc.spans:\n",
    "        text = text.replace(span.text, \"\")\n",
    "    return lemmatizer(tokenizer(text)) #re.sub(r\"([^\\w\\s])\", r\" \\1 \", new_text) "
   ]
  },
  {
   "cell_type": "code",
   "execution_count": 121,
   "metadata": {},
   "outputs": [
    {
     "data": {
      "text/plain": [
       "'уточнить данный момент посещение требоваться предоставление отрицательный тест covid документ помимо паспорт гражданин прибывать регулярный рейс нужно оформлять пропуск пребывание цель поездка явлеиться туризм проживание заранее оплачиваться экскурсионный услуга организовать непосредственно отель ограничение мера который необходимый знать турист который отправляться август заранее'"
      ]
     },
     "execution_count": 121,
     "metadata": {},
     "output_type": "execute_result"
    }
   ],
   "source": [
    "preprocess_with_natasha(test_text)"
   ]
  },
  {
   "cell_type": "code",
   "execution_count": 122,
   "metadata": {},
   "outputs": [
    {
     "name": "stderr",
     "output_type": "stream",
     "text": [
      "2020-09-30 02:11:13.293 INFO in 'deeppavlov.download'['download'] at line 117: Skipped http://files.deeppavlov.ai/deeppavlov_data/bert/rubert_cased_L-12_H-768_A-12_v1.tar.gz download because of matching hashes\n",
      "I0930 02:11:13.293884 14332 download.py:117] Skipped http://files.deeppavlov.ai/deeppavlov_data/bert/rubert_cased_L-12_H-768_A-12_v1.tar.gz download because of matching hashes\n",
      "2020-09-30 02:11:15.866 INFO in 'deeppavlov.download'['download'] at line 117: Skipped http://files.deeppavlov.ai/deeppavlov_data/ner_rus_bert_v1.tar.gz download because of matching hashes\n",
      "I0930 02:11:15.866795 14332 download.py:117] Skipped http://files.deeppavlov.ai/deeppavlov_data/ner_rus_bert_v1.tar.gz download because of matching hashes\n",
      "2020-09-30 02:11:16.276 INFO in 'deeppavlov.core.data.simple_vocab'['simple_vocab'] at line 112: [loading vocabulary from C:\\Users\\User\\.deeppavlov\\models\\ner_rus_bert\\tag.dict]\n",
      "I0930 02:11:16.276700 14332 simple_vocab.py:112] [loading vocabulary from C:\\Users\\User\\.deeppavlov\\models\\ner_rus_bert\\tag.dict]\n"
     ]
    },
    {
     "name": "stdout",
     "output_type": "stream",
     "text": [
      "\n"
     ]
    },
    {
     "name": "stderr",
     "output_type": "stream",
     "text": [
      "2020-09-30 02:11:48.873 INFO in 'deeppavlov.core.models.tf_model'['tf_model'] at line 52: [loading model from C:\\Users\\User\\.deeppavlov\\models\\ner_rus_bert\\model]\n",
      "I0930 02:11:48.873064 14332 tf_model.py:52] [loading model from C:\\Users\\User\\.deeppavlov\\models\\ner_rus_bert\\model]\n"
     ]
    }
   ],
   "source": [
    "from deeppavlov import configs, build_model\n",
    "\n",
    "ner_model = build_model(configs.ner.ner_rus_bert, download=True)"
   ]
  },
  {
   "cell_type": "code",
   "execution_count": 123,
   "metadata": {},
   "outputs": [],
   "source": [
    "def preprocess_with_deepmipt(text: str) -> str:\n",
    "    new_text = []\n",
    "    sentences_list = [_.text for _ in list(sentenize(text))]\n",
    "    res = ner_model(sentences_list)\n",
    "    for sentence, entities in zip(res[0], res[1]):\n",
    "        for token, entity in zip(sentence, entities):\n",
    "            if entity == \"O\":\n",
    "                new_text.append(token)\n",
    "    return lemmatizer(tokenizer(' '.join(new_text))) #re.sub(r\"\\s+\", \" \", ' '.join(new_text))"
   ]
  },
  {
   "cell_type": "code",
   "execution_count": 124,
   "metadata": {},
   "outputs": [
    {
     "data": {
      "text/plain": [
       "'уточнить данный момент посещение требоваться предоставление отрицательный тест covid либо документ помимо паспорт гражданин прибывать регулярный рейс нужно оформлять либо пропуск пребывание тереть рии цель поездка явлеиться туризм проживание заранее оплачиваться экскурсионный услуга организовать непосредственно отель ограничение мера который необходимый знать турист который отправляться август заранее'"
      ]
     },
     "execution_count": 124,
     "metadata": {},
     "output_type": "execute_result"
    }
   ],
   "source": [
    "preprocess_with_deepmipt(test_text)"
   ]
  },
  {
   "cell_type": "markdown",
   "metadata": {},
   "source": [
    "### __Задача 2__:    \n",
    "На предыдущем занятии вы реализовывали функции поиска ближайших ответов на запросы через TF-IDF и BM25. \n",
    "Сравните качество нахождения верного ответа для обоих методов в трех случаях:\n",
    "- с функцией ```preprocess_with_natasha```\n",
    "- с функцией ```preprocess_with_deepmipt```\n",
    "- без препроцессинга\n",
    "\n",
    "Для измерения качества используйте метрику accuracy. Считаем, что ответ верный, если он входит в топ-1."
   ]
  },
  {
   "cell_type": "code",
   "execution_count": 125,
   "metadata": {},
   "outputs": [],
   "source": [
    "import pandas as pd\n",
    "import numpy as np"
   ]
  },
  {
   "cell_type": "markdown",
   "metadata": {},
   "source": [
    "Готовлю данные"
   ]
  },
  {
   "cell_type": "code",
   "execution_count": 126,
   "metadata": {},
   "outputs": [],
   "source": [
    "queries_data = pd.read_excel(\"queries_base.xlsx\").fillna('none')"
   ]
  },
  {
   "cell_type": "code",
   "execution_count": 128,
   "metadata": {},
   "outputs": [
    {
     "data": {
      "application/vnd.jupyter.widget-view+json": {
       "model_id": "a5b5fd5443d7473fafce110d389adb4a",
       "version_major": 2,
       "version_minor": 0
      },
      "text/plain": [
       "HBox(children=(IntProgress(value=0, max=2299), HTML(value='')))"
      ]
     },
     "metadata": {},
     "output_type": "display_data"
    }
   ],
   "source": [
    "queries_data[\"natasha\"] = queries_data[\"Текст вопроса\"].progress_apply(preprocess_with_natasha)\n",
    "queries_data.to_csv('queries_data_natasha.tsv', sep='\\t')"
   ]
  },
  {
   "cell_type": "code",
   "execution_count": 129,
   "metadata": {},
   "outputs": [
    {
     "data": {
      "application/vnd.jupyter.widget-view+json": {
       "model_id": "161ec5af1b524a4ebc747606b1e98f63",
       "version_major": 2,
       "version_minor": 0
      },
      "text/plain": [
       "HBox(children=(IntProgress(value=0, max=2299), HTML(value='')))"
      ]
     },
     "metadata": {},
     "output_type": "display_data"
    }
   ],
   "source": [
    "queries_data[\"deeppavlov\"] = queries_data[\"Текст вопроса\"].progress_apply(preprocess_with_deepmipt)\n",
    "queries_data.to_csv('queries_data_natasha_deeppavlov.tsv', sep='\\t')"
   ]
  },
  {
   "cell_type": "code",
   "execution_count": 130,
   "metadata": {},
   "outputs": [],
   "source": [
    "train = queries_data[[\"Текст вопроса\", \"natasha\", \"deeppavlov\", \"Номер связки\\n\"]][:int(len(queries_data)*0.7)]\n",
    "train = train.rename(columns = {\"Текст вопроса\": \"question\", \"Номер связки\\n\": \"index\"}, inplace = False)\n",
    "\n",
    "test = queries_data[[\"Текст вопроса\", \"natasha\", \"deeppavlov\", \"Номер связки\\n\"]][int(len(queries_data)*0.7):]\n",
    "test = test.rename(columns = {\"Текст вопроса\": \"question\", \"Номер связки\\n\": \"index\"}, inplace = False)"
   ]
  },
  {
   "cell_type": "code",
   "execution_count": 131,
   "metadata": {},
   "outputs": [
    {
     "data": {
      "text/html": [
       "<div>\n",
       "<style scoped>\n",
       "    .dataframe tbody tr th:only-of-type {\n",
       "        vertical-align: middle;\n",
       "    }\n",
       "\n",
       "    .dataframe tbody tr th {\n",
       "        vertical-align: top;\n",
       "    }\n",
       "\n",
       "    .dataframe thead th {\n",
       "        text-align: right;\n",
       "    }\n",
       "</style>\n",
       "<table border=\"1\" class=\"dataframe\">\n",
       "  <thead>\n",
       "    <tr style=\"text-align: right;\">\n",
       "      <th></th>\n",
       "      <th>question</th>\n",
       "      <th>natasha</th>\n",
       "      <th>deeppavlov</th>\n",
       "      <th>index</th>\n",
       "    </tr>\n",
       "  </thead>\n",
       "  <tbody>\n",
       "    <tr>\n",
       "      <th>1604</th>\n",
       "      <td>Здравствуйте меня зовут Александр Архипов. Я г...</td>\n",
       "      <td>звать гражданин работать филиал иностранный ор...</td>\n",
       "      <td>звать гражданин работать филиал иностранный ор...</td>\n",
       "      <td>308</td>\n",
       "    </tr>\n",
       "    <tr>\n",
       "      <th>1605</th>\n",
       "      <td>Результат Пцр мазка Мещанинова Константина Вал...</td>\n",
       "      <td>результат мазка</td>\n",
       "      <td>результат пцр мазка</td>\n",
       "      <td>6</td>\n",
       "    </tr>\n",
       "    <tr>\n",
       "      <th>1606</th>\n",
       "      <td>Я являюсь сотрудником министерства гражданской...</td>\n",
       "      <td>являться сотрудник министерство гражданский об...</td>\n",
       "      <td>являться сотрудник министерство гражданский об...</td>\n",
       "      <td>1</td>\n",
       "    </tr>\n",
       "    <tr>\n",
       "      <th>1607</th>\n",
       "      <td>Здравствуйте!Мне нужно уточнить по вопросу, ка...</td>\n",
       "      <td>нужно уточнить вопрос касаться возвращение пое...</td>\n",
       "      <td>нужно уточнить вопрос касаться возвращение пое...</td>\n",
       "      <td>308</td>\n",
       "    </tr>\n",
       "    <tr>\n",
       "      <th>1608</th>\n",
       "      <td>Здравствуйте!\\nМне нужно уточнить по вопросу, ...</td>\n",
       "      <td>нужно уточнить вопрос касаться возвращение пое...</td>\n",
       "      <td>нужно уточнить вопрос касаться возвращение пое...</td>\n",
       "      <td>308</td>\n",
       "    </tr>\n",
       "  </tbody>\n",
       "</table>\n",
       "</div>"
      ],
      "text/plain": [
       "                                               question  \\\n",
       "1604  Здравствуйте меня зовут Александр Архипов. Я г...   \n",
       "1605  Результат Пцр мазка Мещанинова Константина Вал...   \n",
       "1606  Я являюсь сотрудником министерства гражданской...   \n",
       "1607  Здравствуйте!Мне нужно уточнить по вопросу, ка...   \n",
       "1608  Здравствуйте!\\nМне нужно уточнить по вопросу, ...   \n",
       "\n",
       "                                                natasha  \\\n",
       "1604  звать гражданин работать филиал иностранный ор...   \n",
       "1605                                    результат мазка   \n",
       "1606  являться сотрудник министерство гражданский об...   \n",
       "1607  нужно уточнить вопрос касаться возвращение пое...   \n",
       "1608  нужно уточнить вопрос касаться возвращение пое...   \n",
       "\n",
       "                                             deeppavlov index  \n",
       "1604  звать гражданин работать филиал иностранный ор...   308  \n",
       "1605                                результат пцр мазка     6  \n",
       "1606  являться сотрудник министерство гражданский об...     1  \n",
       "1607  нужно уточнить вопрос касаться возвращение пое...   308  \n",
       "1608  нужно уточнить вопрос касаться возвращение пое...   308  "
      ]
     },
     "execution_count": 131,
     "metadata": {},
     "output_type": "execute_result"
    }
   ],
   "source": [
    "train.tail()"
   ]
  },
  {
   "cell_type": "code",
   "execution_count": 132,
   "metadata": {},
   "outputs": [
    {
     "data": {
      "application/vnd.jupyter.widget-view+json": {
       "model_id": "3e3f7a5a1ae34dd9a30f50fa4fa0a551",
       "version_major": 2,
       "version_minor": 0
      },
      "text/plain": [
       "HBox(children=(IntProgress(value=0, max=43), HTML(value='')))"
      ]
     },
     "metadata": {},
     "output_type": "display_data"
    },
    {
     "data": {
      "text/html": [
       "<div>\n",
       "<style scoped>\n",
       "    .dataframe tbody tr th:only-of-type {\n",
       "        vertical-align: middle;\n",
       "    }\n",
       "\n",
       "    .dataframe tbody tr th {\n",
       "        vertical-align: top;\n",
       "    }\n",
       "\n",
       "    .dataframe thead th {\n",
       "        text-align: right;\n",
       "    }\n",
       "</style>\n",
       "<table border=\"1\" class=\"dataframe\">\n",
       "  <thead>\n",
       "    <tr style=\"text-align: right;\">\n",
       "      <th></th>\n",
       "      <th>index</th>\n",
       "      <th>question</th>\n",
       "      <th>natasha</th>\n",
       "      <th>deeppavlov</th>\n",
       "    </tr>\n",
       "  </thead>\n",
       "  <tbody>\n",
       "    <tr>\n",
       "      <th>0</th>\n",
       "      <td>57</td>\n",
       "      <td>У ребенка в школе продлили каникулы. Могу ли я...</td>\n",
       "      <td>ребёнок школа продлить каникулы мочь взять бол...</td>\n",
       "      <td>ребёнок школа продлить каникулы мочь взять бол...</td>\n",
       "    </tr>\n",
       "    <tr>\n",
       "      <th>1</th>\n",
       "      <td>57</td>\n",
       "      <td>Больничный лист?</td>\n",
       "      <td>больничный лист</td>\n",
       "      <td>больничный лист</td>\n",
       "    </tr>\n",
       "    <tr>\n",
       "      <th>2</th>\n",
       "      <td>57</td>\n",
       "      <td>Есть ли компенсация, в случае если есть разниц...</td>\n",
       "      <td>компенсация случай разница оплата больничный з...</td>\n",
       "      <td>компенсация случай разница оплата больничный з...</td>\n",
       "    </tr>\n",
       "    <tr>\n",
       "      <th>3</th>\n",
       "      <td>57</td>\n",
       "      <td>как оплачивается больничный при коронавирусе?</td>\n",
       "      <td>оплачиваться больничный коронавирус</td>\n",
       "      <td>оплачиваться больничный коронавирус</td>\n",
       "    </tr>\n",
       "    <tr>\n",
       "      <th>4</th>\n",
       "      <td>57</td>\n",
       "      <td>Я контактный, дадут ли больничный?</td>\n",
       "      <td>контактный дать больничный</td>\n",
       "      <td>контактный дать больничный</td>\n",
       "    </tr>\n",
       "  </tbody>\n",
       "</table>\n",
       "</div>"
      ],
      "text/plain": [
       "  index                                           question  \\\n",
       "0    57  У ребенка в школе продлили каникулы. Могу ли я...   \n",
       "1    57                                   Больничный лист?   \n",
       "2    57  Есть ли компенсация, в случае если есть разниц...   \n",
       "3    57      как оплачивается больничный при коронавирусе?   \n",
       "4    57                 Я контактный, дадут ли больничный?   \n",
       "\n",
       "                                             natasha  \\\n",
       "0  ребёнок школа продлить каникулы мочь взять бол...   \n",
       "1                                    больничный лист   \n",
       "2  компенсация случай разница оплата больничный з...   \n",
       "3                оплачиваться больничный коронавирус   \n",
       "4                         контактный дать больничный   \n",
       "\n",
       "                                          deeppavlov  \n",
       "0  ребёнок школа продлить каникулы мочь взять бол...  \n",
       "1                                    больничный лист  \n",
       "2  компенсация случай разница оплата больничный з...  \n",
       "3                оплачиваться больничный коронавирус  \n",
       "4                         контактный дать больничный  "
      ]
     },
     "execution_count": 132,
     "metadata": {},
     "output_type": "execute_result"
    }
   ],
   "source": [
    "answers_data = pd.read_excel(\"answers_base.xlsx\")\n",
    "\n",
    "question_df = pd.DataFrame(columns=[\"index\", \"question\", \"natasha\", \"deeppavlov\"])\n",
    "for question_chunk, answer_n in tqdm(answers_data[[\"Текст вопросов\", \"Номер связки\"]].values):\n",
    "    questions = question_chunk.split('\\n')\n",
    "    for q in questions:\n",
    "        question_df = question_df.append({\"index\": answer_n,\n",
    "                            \"question\": q,\n",
    "                            \"natasha\": preprocess_with_natasha(q),\n",
    "                            \"deeppavlov\": preprocess_with_deepmipt(q)},\n",
    "                           ignore_index=True)\n",
    "\n",
    "question_df.head()"
   ]
  },
  {
   "cell_type": "code",
   "execution_count": 133,
   "metadata": {},
   "outputs": [
    {
     "data": {
      "text/html": [
       "<div>\n",
       "<style scoped>\n",
       "    .dataframe tbody tr th:only-of-type {\n",
       "        vertical-align: middle;\n",
       "    }\n",
       "\n",
       "    .dataframe tbody tr th {\n",
       "        vertical-align: top;\n",
       "    }\n",
       "\n",
       "    .dataframe thead th {\n",
       "        text-align: right;\n",
       "    }\n",
       "</style>\n",
       "<table border=\"1\" class=\"dataframe\">\n",
       "  <thead>\n",
       "    <tr style=\"text-align: right;\">\n",
       "      <th></th>\n",
       "      <th>question</th>\n",
       "      <th>natasha</th>\n",
       "      <th>deeppavlov</th>\n",
       "      <th>index</th>\n",
       "    </tr>\n",
       "  </thead>\n",
       "  <tbody>\n",
       "    <tr>\n",
       "      <th>2385</th>\n",
       "      <td>Где можно ознакомиться с нормативными, методич...</td>\n",
       "      <td>ознакомиться нормативный методический документ...</td>\n",
       "      <td>ознакомиться нормативный методический документ...</td>\n",
       "      <td>45</td>\n",
       "    </tr>\n",
       "    <tr>\n",
       "      <th>2386</th>\n",
       "      <td>Правительство явно что-то скрывает о ситуации ...</td>\n",
       "      <td>правительство явно скрывать ситуация коронавирус</td>\n",
       "      <td>правительство явно скрывать ситуация коронавирус</td>\n",
       "      <td>21</td>\n",
       "    </tr>\n",
       "    <tr>\n",
       "      <th>2387</th>\n",
       "      <td>Как узнать реальное количество заболевших?</td>\n",
       "      <td>узнать реальный количество заболеть</td>\n",
       "      <td>узнать реальный количество заболеть</td>\n",
       "      <td>21</td>\n",
       "    </tr>\n",
       "    <tr>\n",
       "      <th>2388</th>\n",
       "      <td>Какая эпидемиологическая ситуация в мире, Росс...</td>\n",
       "      <td>эпидемиологический ситуация мир мыть регион</td>\n",
       "      <td>эпидемиологический ситуация мир мыть регион</td>\n",
       "      <td>21</td>\n",
       "    </tr>\n",
       "    <tr>\n",
       "      <th>2389</th>\n",
       "      <td>В каких странах неблагополучная эпидситуация?</td>\n",
       "      <td>страна неблагополучный эпидситуация</td>\n",
       "      <td>страна неблагополучный эпидситуация</td>\n",
       "      <td>21</td>\n",
       "    </tr>\n",
       "  </tbody>\n",
       "</table>\n",
       "</div>"
      ],
      "text/plain": [
       "                                               question  \\\n",
       "2385  Где можно ознакомиться с нормативными, методич...   \n",
       "2386  Правительство явно что-то скрывает о ситуации ...   \n",
       "2387         Как узнать реальное количество заболевших?   \n",
       "2388  Какая эпидемиологическая ситуация в мире, Росс...   \n",
       "2389      В каких странах неблагополучная эпидситуация?   \n",
       "\n",
       "                                                natasha  \\\n",
       "2385  ознакомиться нормативный методический документ...   \n",
       "2386   правительство явно скрывать ситуация коронавирус   \n",
       "2387                узнать реальный количество заболеть   \n",
       "2388        эпидемиологический ситуация мир мыть регион   \n",
       "2389                страна неблагополучный эпидситуация   \n",
       "\n",
       "                                             deeppavlov index  \n",
       "2385  ознакомиться нормативный методический документ...    45  \n",
       "2386   правительство явно скрывать ситуация коронавирус    21  \n",
       "2387                узнать реальный количество заболеть    21  \n",
       "2388        эпидемиологический ситуация мир мыть регион    21  \n",
       "2389                страна неблагополучный эпидситуация    21  "
      ]
     },
     "execution_count": 133,
     "metadata": {},
     "output_type": "execute_result"
    }
   ],
   "source": [
    "train = train.append(question_df, sort=False, ignore_index = True)\n",
    "train.tail()"
   ]
  },
  {
   "cell_type": "markdown",
   "metadata": {},
   "source": [
    "Собираю bm25 в одну функцию от обучающей выборки, тестовой выборки и названия столбца с нужным препроцессингом"
   ]
  },
  {
   "cell_type": "code",
   "execution_count": 134,
   "metadata": {},
   "outputs": [],
   "source": [
    "import numpy as np\n",
    "from sklearn.feature_extraction.text import CountVectorizer\n",
    "from math import log"
   ]
  },
  {
   "cell_type": "code",
   "execution_count": 135,
   "metadata": {},
   "outputs": [],
   "source": [
    "def bm25(train, test, col_name):\n",
    "    count_vectorizer = CountVectorizer(analyzer=str.split)\n",
    "    count_matrix = count_vectorizer.fit_transform(train[col_name])\n",
    "    print(count_matrix.shape)\n",
    "\n",
    "    k = 2.0\n",
    "    b = 0.75\n",
    "\n",
    "    length = count_matrix.sum(axis=1)\n",
    "    avgdl = length.mean()\n",
    "    tf_matrix = (count_matrix * (k+1)) / (count_matrix + k * (1 - b + b * (length/avgdl) ))\n",
    "    print(tf_matrix.shape)\n",
    "\n",
    "    n = (tf_matrix != 0).sum(axis=0)\n",
    "    N = count_matrix.shape[0]\n",
    "    def idf(i):\n",
    "        res = log( (N - n[0, i] + 0.5) / (n[0, i] + 0.5) )\n",
    "        return res\n",
    "\n",
    "    idf_vector = np.array([idf(i) for i in range(count_matrix.shape[1])])\n",
    "    print(idf_vector.shape)\n",
    "    \n",
    "    def bm25_search(q):\n",
    "        q_vec = count_vectorizer.transform([q]).toarray()\n",
    "        mask = q_vec * idf_vector\n",
    "        res = np.dot(tf_matrix, mask.T)\n",
    "        index = np.argmax(res)\n",
    "        return train[\"index\"][index]\n",
    "    \n",
    "    return test[col_name].progress_apply(bm25_search)"
   ]
  },
  {
   "cell_type": "markdown",
   "metadata": {},
   "source": [
    "Собираю TF-IDF в одну функцию от от обучающей выборки, тестовой выборки и названия столбца с нужным препроцессингом"
   ]
  },
  {
   "cell_type": "code",
   "execution_count": 136,
   "metadata": {},
   "outputs": [],
   "source": [
    "from sklearn.feature_extraction.text import TfidfVectorizer\n",
    "\n",
    "def tfidf(train, test, col_name):\n",
    "    vectorizer = TfidfVectorizer(analyzer=str.split)\n",
    "    X = vectorizer.fit_transform(train[col_name])\n",
    "    #X.shape\n",
    "    \n",
    "    def tfidf_search(querry_lem):\n",
    "        q_vec = vectorizer.transform([querry_lem]).toarray()\n",
    "        res = np.dot(X.toarray(), q_vec.T)\n",
    "        index = np.argmax(res)\n",
    "        return train[\"index\"][index]\n",
    "    \n",
    "    return test[col_name].progress_apply(tfidf_search)"
   ]
  },
  {
   "cell_type": "markdown",
   "metadata": {},
   "source": [
    "Делаю таблицу для результатов подсчета accuracy"
   ]
  },
  {
   "cell_type": "code",
   "execution_count": 138,
   "metadata": {},
   "outputs": [
    {
     "data": {
      "text/html": [
       "<div>\n",
       "<style scoped>\n",
       "    .dataframe tbody tr th:only-of-type {\n",
       "        vertical-align: middle;\n",
       "    }\n",
       "\n",
       "    .dataframe tbody tr th {\n",
       "        vertical-align: top;\n",
       "    }\n",
       "\n",
       "    .dataframe thead th {\n",
       "        text-align: right;\n",
       "    }\n",
       "</style>\n",
       "<table border=\"1\" class=\"dataframe\">\n",
       "  <thead>\n",
       "    <tr style=\"text-align: right;\">\n",
       "      <th></th>\n",
       "      <th>question</th>\n",
       "      <th>natasha</th>\n",
       "      <th>deeppavlov</th>\n",
       "      <th>only_lem</th>\n",
       "    </tr>\n",
       "  </thead>\n",
       "  <tbody>\n",
       "    <tr>\n",
       "      <th>tf-idf</th>\n",
       "      <td>NaN</td>\n",
       "      <td>NaN</td>\n",
       "      <td>NaN</td>\n",
       "      <td>0.492754</td>\n",
       "    </tr>\n",
       "    <tr>\n",
       "      <th>bm25</th>\n",
       "      <td>NaN</td>\n",
       "      <td>NaN</td>\n",
       "      <td>NaN</td>\n",
       "      <td>0.527536</td>\n",
       "    </tr>\n",
       "  </tbody>\n",
       "</table>\n",
       "</div>"
      ],
      "text/plain": [
       "       question natasha deeppavlov  only_lem\n",
       "tf-idf      NaN     NaN        NaN  0.492754\n",
       "bm25        NaN     NaN        NaN  0.527536"
      ]
     },
     "execution_count": 138,
     "metadata": {},
     "output_type": "execute_result"
    }
   ],
   "source": [
    "col_names = [\"question\", \"natasha\", \"deeppavlov\"]\n",
    "\n",
    "res_df = pd.DataFrame(index=[\"tf-idf\", \"bm25\"], columns=col_names)\n",
    "res_df['only_lem'] = [0.4927536231884058, 0.527536231884058]\n",
    "res_df"
   ]
  },
  {
   "cell_type": "markdown",
   "metadata": {},
   "source": [
    "Заполняю все ячейки, применяя два разных поиска к данным с термя разными препроцессингами"
   ]
  },
  {
   "cell_type": "code",
   "execution_count": 139,
   "metadata": {},
   "outputs": [
    {
     "name": "stdout",
     "output_type": "stream",
     "text": [
      "(2390, 19476)\n",
      "(2390, 19476)\n",
      "(19476,)\n"
     ]
    },
    {
     "data": {
      "application/vnd.jupyter.widget-view+json": {
       "model_id": "daf651c6507d41648ae7a20c3c7b07f9",
       "version_major": 2,
       "version_minor": 0
      },
      "text/plain": [
       "HBox(children=(IntProgress(value=0, max=690), HTML(value='')))"
      ]
     },
     "metadata": {},
     "output_type": "display_data"
    },
    {
     "data": {
      "application/vnd.jupyter.widget-view+json": {
       "model_id": "82cbb92288eb4188ae36504235c2a0e2",
       "version_major": 2,
       "version_minor": 0
      },
      "text/plain": [
       "HBox(children=(IntProgress(value=0, max=690), HTML(value='')))"
      ]
     },
     "metadata": {},
     "output_type": "display_data"
    },
    {
     "name": "stderr",
     "output_type": "stream",
     "text": [
      "C:\\ProgramData\\Anaconda3\\lib\\site-packages\\ipykernel_launcher.py:5: SettingWithCopyWarning: \n",
      "A value is trying to be set on a copy of a slice from a DataFrame\n",
      "\n",
      "See the caveats in the documentation: http://pandas.pydata.org/pandas-docs/stable/indexing.html#indexing-view-versus-copy\n",
      "  \"\"\"\n",
      "C:\\ProgramData\\Anaconda3\\lib\\site-packages\\ipykernel_launcher.py:6: SettingWithCopyWarning: \n",
      "A value is trying to be set on a copy of a slice from a DataFrame\n",
      "\n",
      "See the caveats in the documentation: http://pandas.pydata.org/pandas-docs/stable/indexing.html#indexing-view-versus-copy\n",
      "  \n"
     ]
    },
    {
     "name": "stdout",
     "output_type": "stream",
     "text": [
      "(2390, 4749)\n",
      "(2390, 4749)\n",
      "(4749,)\n"
     ]
    },
    {
     "data": {
      "application/vnd.jupyter.widget-view+json": {
       "model_id": "ac246830c05a4f3c8ce64acf1cffdb92",
       "version_major": 2,
       "version_minor": 0
      },
      "text/plain": [
       "HBox(children=(IntProgress(value=0, max=690), HTML(value='')))"
      ]
     },
     "metadata": {},
     "output_type": "display_data"
    },
    {
     "data": {
      "application/vnd.jupyter.widget-view+json": {
       "model_id": "1578050f40e1493f9725be4c2e393f5e",
       "version_major": 2,
       "version_minor": 0
      },
      "text/plain": [
       "HBox(children=(IntProgress(value=0, max=690), HTML(value='')))"
      ]
     },
     "metadata": {},
     "output_type": "display_data"
    },
    {
     "name": "stderr",
     "output_type": "stream",
     "text": [
      "C:\\ProgramData\\Anaconda3\\lib\\site-packages\\ipykernel_launcher.py:5: SettingWithCopyWarning: \n",
      "A value is trying to be set on a copy of a slice from a DataFrame\n",
      "\n",
      "See the caveats in the documentation: http://pandas.pydata.org/pandas-docs/stable/indexing.html#indexing-view-versus-copy\n",
      "  \"\"\"\n",
      "C:\\ProgramData\\Anaconda3\\lib\\site-packages\\ipykernel_launcher.py:6: SettingWithCopyWarning: \n",
      "A value is trying to be set on a copy of a slice from a DataFrame\n",
      "\n",
      "See the caveats in the documentation: http://pandas.pydata.org/pandas-docs/stable/indexing.html#indexing-view-versus-copy\n",
      "  \n"
     ]
    },
    {
     "name": "stdout",
     "output_type": "stream",
     "text": [
      "(2390, 4712)\n",
      "(2390, 4712)\n",
      "(4712,)\n"
     ]
    },
    {
     "data": {
      "application/vnd.jupyter.widget-view+json": {
       "model_id": "c71d91f0fcde42f2883e7749fb7b4285",
       "version_major": 2,
       "version_minor": 0
      },
      "text/plain": [
       "HBox(children=(IntProgress(value=0, max=690), HTML(value='')))"
      ]
     },
     "metadata": {},
     "output_type": "display_data"
    },
    {
     "data": {
      "application/vnd.jupyter.widget-view+json": {
       "model_id": "130e15a03bed4bff93ec4be563d604ae",
       "version_major": 2,
       "version_minor": 0
      },
      "text/plain": [
       "HBox(children=(IntProgress(value=0, max=690), HTML(value='')))"
      ]
     },
     "metadata": {},
     "output_type": "display_data"
    },
    {
     "name": "stderr",
     "output_type": "stream",
     "text": [
      "C:\\ProgramData\\Anaconda3\\lib\\site-packages\\ipykernel_launcher.py:5: SettingWithCopyWarning: \n",
      "A value is trying to be set on a copy of a slice from a DataFrame\n",
      "\n",
      "See the caveats in the documentation: http://pandas.pydata.org/pandas-docs/stable/indexing.html#indexing-view-versus-copy\n",
      "  \"\"\"\n",
      "C:\\ProgramData\\Anaconda3\\lib\\site-packages\\ipykernel_launcher.py:6: SettingWithCopyWarning: \n",
      "A value is trying to be set on a copy of a slice from a DataFrame\n",
      "\n",
      "See the caveats in the documentation: http://pandas.pydata.org/pandas-docs/stable/indexing.html#indexing-view-versus-copy\n",
      "  \n"
     ]
    }
   ],
   "source": [
    "for col_name in col_names:\n",
    "    test[\"pred_\"+col_name+\"_bm25\"] = bm25(train, test, col_name)\n",
    "    test[\"pred_\"+col_name+\"_tfidf\"] = tfidf(train, test, col_name)\n",
    "    \n",
    "    res_df[col_name][\"tf-idf\"] = ((test[\"pred_\"+col_name+\"_tfidf\"] == test['index']).sum() / len(test))\n",
    "    res_df[col_name][\"bm25\"] = ((test[\"pred_\"+col_name+\"_bm25\"] == test['index']).sum() / len(test))"
   ]
  },
  {
   "cell_type": "markdown",
   "metadata": {},
   "source": [
    "Итоговые значения accuracy"
   ]
  },
  {
   "cell_type": "code",
   "execution_count": 140,
   "metadata": {},
   "outputs": [
    {
     "data": {
      "text/html": [
       "<div>\n",
       "<style scoped>\n",
       "    .dataframe tbody tr th:only-of-type {\n",
       "        vertical-align: middle;\n",
       "    }\n",
       "\n",
       "    .dataframe tbody tr th {\n",
       "        vertical-align: top;\n",
       "    }\n",
       "\n",
       "    .dataframe thead th {\n",
       "        text-align: right;\n",
       "    }\n",
       "</style>\n",
       "<table border=\"1\" class=\"dataframe\">\n",
       "  <thead>\n",
       "    <tr style=\"text-align: right;\">\n",
       "      <th></th>\n",
       "      <th>question</th>\n",
       "      <th>natasha</th>\n",
       "      <th>deeppavlov</th>\n",
       "      <th>only_lem</th>\n",
       "    </tr>\n",
       "  </thead>\n",
       "  <tbody>\n",
       "    <tr>\n",
       "      <th>tf-idf</th>\n",
       "      <td>0.475362</td>\n",
       "      <td>0.45942</td>\n",
       "      <td>0.462319</td>\n",
       "      <td>0.492754</td>\n",
       "    </tr>\n",
       "    <tr>\n",
       "      <th>bm25</th>\n",
       "      <td>0.481159</td>\n",
       "      <td>0.514493</td>\n",
       "      <td>0.521739</td>\n",
       "      <td>0.527536</td>\n",
       "    </tr>\n",
       "  </tbody>\n",
       "</table>\n",
       "</div>"
      ],
      "text/plain": [
       "        question   natasha deeppavlov  only_lem\n",
       "tf-idf  0.475362   0.45942   0.462319  0.492754\n",
       "bm25    0.481159  0.514493   0.521739  0.527536"
      ]
     },
     "execution_count": 140,
     "metadata": {},
     "output_type": "execute_result"
    }
   ],
   "source": [
    "res_df"
   ]
  },
  {
   "cell_type": "markdown",
   "metadata": {},
   "source": [
    "### __Задача 3__:    \n",
    "Улучшить правила в natasha. Написать правила, которые ловят даты в следующих примерах и пересчитать статистику из Задачи 2:\n",
    "- Уехал 8-9 ноября в Сочи\n",
    "- Уезжаю 5 числа                           \n",
    "- 20го сентября заболел\n",
    "\n",
    "Пример можно посмотреть тут: https://github.com/natasha/yargy"
   ]
  },
  {
   "cell_type": "code",
   "execution_count": null,
   "metadata": {},
   "outputs": [],
   "source": []
  }
 ],
 "metadata": {
  "kernelspec": {
   "display_name": "Python 3",
   "language": "python",
   "name": "python3"
  },
  "language_info": {
   "codemirror_mode": {
    "name": "ipython",
    "version": 3
   },
   "file_extension": ".py",
   "mimetype": "text/x-python",
   "name": "python",
   "nbconvert_exporter": "python",
   "pygments_lexer": "ipython3",
   "version": "3.7.3"
  }
 },
 "nbformat": 4,
 "nbformat_minor": 2
}
